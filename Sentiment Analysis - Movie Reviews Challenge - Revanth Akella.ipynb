{
 "cells": [
  {
   "cell_type": "markdown",
   "metadata": {
    "_uuid": "de1c30a2920dec25e75d7020781615f62f5e0d7d"
   },
   "source": [
    "## Importing Library"
   ]
  },
  {
   "cell_type": "code",
   "execution_count": 381,
   "metadata": {
    "_cell_guid": "b1076dfc-b9ad-4769-8c92-a6c4dae69d19",
    "_uuid": "8f2839f25d086af736a60e9eeb907d3b93b6e0e5"
   },
   "outputs": [],
   "source": [
    "import numpy as np \n",
    "import pandas as pd \n",
    "import nltk\n",
    "import os\n",
    "import gc\n",
    "from nltk.corpus import stopwords\n",
    "from keras.preprocessing import sequence,text\n",
    "from sklearn.model_selection import cross_val_score\n",
    "from keras.preprocessing.text import Tokenizer\n",
    "from sklearn.preprocessing import LabelEncoder\n",
    "from sklearn.feature_extraction.text import CountVectorizer, TfidfVectorizer\n",
    "from keras.models import Sequential\n",
    "from keras.layers import Dense,Dropout,Embedding,LSTM,Conv1D,GlobalMaxPooling1D,Flatten,MaxPooling1D,GRU,SpatialDropout1D,Bidirectional\n",
    "from keras.callbacks import EarlyStopping\n",
    "from keras.utils import to_categorical\n",
    "from keras.losses import categorical_crossentropy\n",
    "from keras.optimizers import Adam\n",
    "from sklearn.model_selection import train_test_split\n",
    "from sklearn.metrics import accuracy_score,confusion_matrix,classification_report,f1_score\n",
    "import matplotlib.pyplot as plt\n",
    "import warnings\n",
    "warnings.filterwarnings(\"ignore\")\n",
    "#pd.set_option('display.max_colwidth',100)\n",
    "pd.set_option('display.max_colwidth', -1)"
   ]
  },
  {
   "cell_type": "code",
   "execution_count": 382,
   "metadata": {
    "_uuid": "376108f6e1a22afeba8739d2e12d0aa51fde8dea"
   },
   "outputs": [
    {
     "data": {
      "text/plain": [
       "8"
      ]
     },
     "execution_count": 382,
     "metadata": {},
     "output_type": "execute_result"
    }
   ],
   "source": [
    "gc.collect()"
   ]
  },
  {
   "cell_type": "markdown",
   "metadata": {
    "_cell_guid": "79c7e3d0-c299-4dcb-8224-4455121ee9b0",
    "_uuid": "d629ff2d2480ee46fbb7e2d37f6b5fab8052498a",
    "collapsed": true
   },
   "source": [
    "### Loading dataset and basic visualization"
   ]
  },
  {
   "cell_type": "code",
   "execution_count": 383,
   "metadata": {
    "_uuid": "cfd09ccff2dbc595ead54e3fd638cfdc3f3089e5"
   },
   "outputs": [
    {
     "name": "stdout",
     "output_type": "stream",
     "text": [
      "(156060, 4)\n"
     ]
    },
    {
     "data": {
      "text/html": [
       "<div>\n",
       "<style scoped>\n",
       "    .dataframe tbody tr th:only-of-type {\n",
       "        vertical-align: middle;\n",
       "    }\n",
       "\n",
       "    .dataframe tbody tr th {\n",
       "        vertical-align: top;\n",
       "    }\n",
       "\n",
       "    .dataframe thead th {\n",
       "        text-align: right;\n",
       "    }\n",
       "</style>\n",
       "<table border=\"1\" class=\"dataframe\">\n",
       "  <thead>\n",
       "    <tr style=\"text-align: right;\">\n",
       "      <th></th>\n",
       "      <th>PhraseId</th>\n",
       "      <th>SentenceId</th>\n",
       "      <th>Phrase</th>\n",
       "      <th>Sentiment</th>\n",
       "    </tr>\n",
       "  </thead>\n",
       "  <tbody>\n",
       "    <tr>\n",
       "      <th>0</th>\n",
       "      <td>1</td>\n",
       "      <td>1</td>\n",
       "      <td>A series of escapades demonstrating the adage that what is good for the goose is also good for the gander , some of which occasionally amuses but none of which amounts to much of a story .</td>\n",
       "      <td>1</td>\n",
       "    </tr>\n",
       "    <tr>\n",
       "      <th>1</th>\n",
       "      <td>2</td>\n",
       "      <td>1</td>\n",
       "      <td>A series of escapades demonstrating the adage that what is good for the goose</td>\n",
       "      <td>2</td>\n",
       "    </tr>\n",
       "    <tr>\n",
       "      <th>2</th>\n",
       "      <td>3</td>\n",
       "      <td>1</td>\n",
       "      <td>A series</td>\n",
       "      <td>2</td>\n",
       "    </tr>\n",
       "    <tr>\n",
       "      <th>3</th>\n",
       "      <td>4</td>\n",
       "      <td>1</td>\n",
       "      <td>A</td>\n",
       "      <td>2</td>\n",
       "    </tr>\n",
       "    <tr>\n",
       "      <th>4</th>\n",
       "      <td>5</td>\n",
       "      <td>1</td>\n",
       "      <td>series</td>\n",
       "      <td>2</td>\n",
       "    </tr>\n",
       "  </tbody>\n",
       "</table>\n",
       "</div>"
      ],
      "text/plain": [
       "   PhraseId  SentenceId  \\\n",
       "0  1         1            \n",
       "1  2         1            \n",
       "2  3         1            \n",
       "3  4         1            \n",
       "4  5         1            \n",
       "\n",
       "                                                                                                                                                                                         Phrase  \\\n",
       "0  A series of escapades demonstrating the adage that what is good for the goose is also good for the gander , some of which occasionally amuses but none of which amounts to much of a story .   \n",
       "1  A series of escapades demonstrating the adage that what is good for the goose                                                                                                                  \n",
       "2  A series                                                                                                                                                                                       \n",
       "3  A                                                                                                                                                                                              \n",
       "4  series                                                                                                                                                                                         \n",
       "\n",
       "   Sentiment  \n",
       "0  1          \n",
       "1  2          \n",
       "2  2          \n",
       "3  2          \n",
       "4  2          "
      ]
     },
     "execution_count": 383,
     "metadata": {},
     "output_type": "execute_result"
    }
   ],
   "source": [
    "train=pd.read_csv('train.tsv',sep='\\t')\n",
    "print(train.shape)\n",
    "train.head()"
   ]
  },
  {
   "cell_type": "code",
   "execution_count": 384,
   "metadata": {},
   "outputs": [
    {
     "data": {
      "text/plain": [
       "Sentiment\n",
       "0    7072 \n",
       "1    27273\n",
       "2    79582\n",
       "3    32927\n",
       "4    9206 \n",
       "Name: PhraseId, dtype: int64"
      ]
     },
     "execution_count": 384,
     "metadata": {},
     "output_type": "execute_result"
    },
    {
     "data": {
      "image/png": "[encoded data removed]",
      "text/plain": [
       "<Figure size 432x288 with 1 Axes>"
      ]
     },
     "metadata": {
      "needs_background": "light"
     },
     "output_type": "display_data"
    }
   ],
   "source": [
    "x = train.groupby(['Sentiment'])['PhraseId'].count()\n",
    "x.plot.bar()\n",
    "x"
   ]
  },
  {
   "cell_type": "markdown",
   "metadata": {},
   "source": [
    "The classes as you can observe are imbalanced"
   ]
  },
  {
   "cell_type": "markdown",
   "metadata": {},
   "source": [
    "We therfore balance the classes:"
   ]
  },
  {
   "cell_type": "code",
   "execution_count": 385,
   "metadata": {},
   "outputs": [
    {
     "data": {
      "text/plain": [
       "Sentiment\n",
       "0    7072\n",
       "1    7072\n",
       "2    7072\n",
       "3    7072\n",
       "4    7072\n",
       "Name: PhraseId, dtype: int64"
      ]
     },
     "execution_count": 385,
     "metadata": {},
     "output_type": "execute_result"
    },
    {
     "data": {
      "image/png": "[encoded data removed]",
      "text/plain": [
       "<Figure size 432x288 with 1 Axes>"
      ]
     },
     "metadata": {
      "needs_background": "light"
     },
     "output_type": "display_data"
    }
   ],
   "source": [
    "df3 = train.loc[train['Sentiment'] == 0].sample(n=7072)\n",
    "df6 = train.loc[train['Sentiment'] == 1].sample(n=7072)\n",
    "df2 = train.loc[train['Sentiment'] == 2].sample(n=7072)\n",
    "df4 = train.loc[train['Sentiment'] == 3].sample(n=7072)\n",
    "df5 = train.loc[train['Sentiment'] == 4].sample(n=7072)\n",
    "train = pd.concat([df2,df3,df4,df5,df6], axis=0)\n",
    "x = train.groupby(['Sentiment'])['PhraseId'].count()\n",
    "x.plot.bar()\n",
    "x"
   ]
  },
  {
   "cell_type": "markdown",
   "metadata": {},
   "source": [
    "The classes are now balanced."
   ]
  },
  {
   "cell_type": "markdown",
   "metadata": {},
   "source": [
    "### Visualizing the word cloud for each class:"
   ]
  },
  {
   "cell_type": "code",
   "execution_count": 386,
   "metadata": {},
   "outputs": [],
   "source": [
    "from wordcloud import WordCloud, STOPWORDS"
   ]
  },
  {
   "cell_type": "code",
   "execution_count": 387,
   "metadata": {},
   "outputs": [
    {
     "data": {
      "image/png": "[encoded data removed]",
      "text/plain": [
       "<Figure size 432x288 with 1 Axes>"
      ]
     },
     "metadata": {
      "needs_background": "light"
     },
     "output_type": "display_data"
    }
   ],
   "source": [
    "class_0 = \" \".join(review for review in df3.Phrase)\n",
    "\n",
    "# Create stopword list:\n",
    "stopwords = set(STOPWORDS)\n",
    "\n",
    "# Generate a word cloud image\n",
    "wordcloud = WordCloud(stopwords=stopwords, background_color=\"white\").generate(class_0)\n",
    "\n",
    "# Display the generated image:\n",
    "# the matplotlib way:\n",
    "plt.imshow(wordcloud, interpolation='bilinear')\n",
    "plt.axis(\"off\")\n",
    "plt.show()"
   ]
  },
  {
   "cell_type": "code",
   "execution_count": 388,
   "metadata": {},
   "outputs": [
    {
     "data": {
      "image/png": "[encoded data removed]",
      "text/plain": [
       "<Figure size 432x288 with 1 Axes>"
      ]
     },
     "metadata": {
      "needs_background": "light"
     },
     "output_type": "display_data"
    }
   ],
   "source": [
    "class_1 = \" \".join(review for review in df6.Phrase)\n",
    "\n",
    "# Create stopword list:\n",
    "stopwords = set(STOPWORDS)\n",
    "\n",
    "# Generate a word cloud image\n",
    "wordcloud = WordCloud(stopwords=stopwords, background_color=\"white\").generate(class_1)\n",
    "\n",
    "# Display the generated image:\n",
    "# the matplotlib way:\n",
    "plt.imshow(wordcloud, interpolation='bilinear')\n",
    "plt.axis(\"off\")\n",
    "plt.show()"
   ]
  },
  {
   "cell_type": "code",
   "execution_count": 389,
   "metadata": {},
   "outputs": [
    {
     "data": {
      "image/png": "[encoded data removed]",
      "text/plain": [
       "<Figure size 432x288 with 1 Axes>"
      ]
     },
     "metadata": {
      "needs_background": "light"
     },
     "output_type": "display_data"
    }
   ],
   "source": [
    "class_2 = \" \".join(review for review in df2.Phrase)\n",
    "\n",
    "# Create stopword list:\n",
    "stopwords = set(STOPWORDS)\n",
    "\n",
    "# Generate a word cloud image\n",
    "wordcloud = WordCloud(stopwords=stopwords, background_color=\"white\").generate(class_2)\n",
    "\n",
    "# Display the generated image:\n",
    "# the matplotlib way:\n",
    "plt.imshow(wordcloud, interpolation='bilinear')\n",
    "plt.axis(\"off\")\n",
    "plt.show()"
   ]
  },
  {
   "cell_type": "code",
   "execution_count": 390,
   "metadata": {},
   "outputs": [
    {
     "data": {
      "image/png": "[encoded data removed]",
      "text/plain": [
       "<Figure size 432x288 with 1 Axes>"
      ]
     },
     "metadata": {
      "needs_background": "light"
     },
     "output_type": "display_data"
    }
   ],
   "source": [
    "class_3 = \" \".join(review for review in df4.Phrase)\n",
    "\n",
    "# Create stopword list:\n",
    "stopwords = set(STOPWORDS)\n",
    "\n",
    "# Generate a word cloud image\n",
    "wordcloud = WordCloud(stopwords=stopwords, background_color=\"white\").generate(class_3)\n",
    "\n",
    "# Display the generated image:\n",
    "# the matplotlib way:\n",
    "plt.imshow(wordcloud, interpolation='bilinear')\n",
    "plt.axis(\"off\")\n",
    "plt.show()"
   ]
  },
  {
   "cell_type": "code",
   "execution_count": 391,
   "metadata": {},
   "outputs": [
    {
     "data": {
      "image/png": "[encoded data removed]",
      "text/plain": [
       "<Figure size 432x288 with 1 Axes>"
      ]
     },
     "metadata": {
      "needs_background": "light"
     },
     "output_type": "display_data"
    }
   ],
   "source": [
    "class_4 = \" \".join(review for review in df5.Phrase)\n",
    "\n",
    "# Create stopword list:\n",
    "stopwords = set(STOPWORDS)\n",
    "\n",
    "# Generate a word cloud image\n",
    "wordcloud = WordCloud(stopwords=stopwords, background_color=\"white\").generate(class_4)\n",
    "\n",
    "# Display the generated image:\n",
    "# the matplotlib way:\n",
    "plt.imshow(wordcloud, interpolation='bilinear')\n",
    "plt.axis(\"off\")\n",
    "plt.show()"
   ]
  },
  {
   "cell_type": "code",
   "execution_count": 392,
   "metadata": {
    "_uuid": "1b7f2e540ea49f1d94ec124b818f2a63c3c66a96"
   },
   "outputs": [
    {
     "name": "stdout",
     "output_type": "stream",
     "text": [
      "(66292, 3)\n"
     ]
    },
    {
     "data": {
      "text/html": [
       "<div>\n",
       "<style scoped>\n",
       "    .dataframe tbody tr th:only-of-type {\n",
       "        vertical-align: middle;\n",
       "    }\n",
       "\n",
       "    .dataframe tbody tr th {\n",
       "        vertical-align: top;\n",
       "    }\n",
       "\n",
       "    .dataframe thead th {\n",
       "        text-align: right;\n",
       "    }\n",
       "</style>\n",
       "<table border=\"1\" class=\"dataframe\">\n",
       "  <thead>\n",
       "    <tr style=\"text-align: right;\">\n",
       "      <th></th>\n",
       "      <th>PhraseId</th>\n",
       "      <th>SentenceId</th>\n",
       "      <th>Phrase</th>\n",
       "    </tr>\n",
       "  </thead>\n",
       "  <tbody>\n",
       "    <tr>\n",
       "      <th>0</th>\n",
       "      <td>156061</td>\n",
       "      <td>8545</td>\n",
       "      <td>An intermittently pleasing but mostly routine effort .</td>\n",
       "    </tr>\n",
       "    <tr>\n",
       "      <th>1</th>\n",
       "      <td>156062</td>\n",
       "      <td>8545</td>\n",
       "      <td>An intermittently pleasing but mostly routine effort</td>\n",
       "    </tr>\n",
       "    <tr>\n",
       "      <th>2</th>\n",
       "      <td>156063</td>\n",
       "      <td>8545</td>\n",
       "      <td>An</td>\n",
       "    </tr>\n",
       "    <tr>\n",
       "      <th>3</th>\n",
       "      <td>156064</td>\n",
       "      <td>8545</td>\n",
       "      <td>intermittently pleasing but mostly routine effort</td>\n",
       "    </tr>\n",
       "    <tr>\n",
       "      <th>4</th>\n",
       "      <td>156065</td>\n",
       "      <td>8545</td>\n",
       "      <td>intermittently pleasing but mostly routine</td>\n",
       "    </tr>\n",
       "  </tbody>\n",
       "</table>\n",
       "</div>"
      ],
      "text/plain": [
       "   PhraseId  SentenceId  \\\n",
       "0  156061    8545         \n",
       "1  156062    8545         \n",
       "2  156063    8545         \n",
       "3  156064    8545         \n",
       "4  156065    8545         \n",
       "\n",
       "                                                   Phrase  \n",
       "0  An intermittently pleasing but mostly routine effort .  \n",
       "1  An intermittently pleasing but mostly routine effort    \n",
       "2  An                                                      \n",
       "3  intermittently pleasing but mostly routine effort       \n",
       "4  intermittently pleasing but mostly routine              "
      ]
     },
     "execution_count": 392,
     "metadata": {},
     "output_type": "execute_result"
    }
   ],
   "source": [
    "test=pd.read_csv('test.tsv',sep='\\t')\n",
    "print(test.shape)\n",
    "test.head()"
   ]
  },
  {
   "cell_type": "code",
   "execution_count": 393,
   "metadata": {
    "_uuid": "f4509ef7a7adcc7942a6f1acff34c54ce3802d5d"
   },
   "outputs": [
    {
     "data": {
      "text/html": [
       "<div>\n",
       "<style scoped>\n",
       "    .dataframe tbody tr th:only-of-type {\n",
       "        vertical-align: middle;\n",
       "    }\n",
       "\n",
       "    .dataframe tbody tr th {\n",
       "        vertical-align: top;\n",
       "    }\n",
       "\n",
       "    .dataframe thead th {\n",
       "        text-align: right;\n",
       "    }\n",
       "</style>\n",
       "<table border=\"1\" class=\"dataframe\">\n",
       "  <thead>\n",
       "    <tr style=\"text-align: right;\">\n",
       "      <th></th>\n",
       "      <th>PhraseId</th>\n",
       "      <th>Sentiment</th>\n",
       "    </tr>\n",
       "  </thead>\n",
       "  <tbody>\n",
       "    <tr>\n",
       "      <th>0</th>\n",
       "      <td>156061</td>\n",
       "      <td>2</td>\n",
       "    </tr>\n",
       "    <tr>\n",
       "      <th>1</th>\n",
       "      <td>156062</td>\n",
       "      <td>2</td>\n",
       "    </tr>\n",
       "    <tr>\n",
       "      <th>2</th>\n",
       "      <td>156063</td>\n",
       "      <td>2</td>\n",
       "    </tr>\n",
       "    <tr>\n",
       "      <th>3</th>\n",
       "      <td>156064</td>\n",
       "      <td>2</td>\n",
       "    </tr>\n",
       "    <tr>\n",
       "      <th>4</th>\n",
       "      <td>156065</td>\n",
       "      <td>2</td>\n",
       "    </tr>\n",
       "  </tbody>\n",
       "</table>\n",
       "</div>"
      ],
      "text/plain": [
       "   PhraseId  Sentiment\n",
       "0  156061    2        \n",
       "1  156062    2        \n",
       "2  156063    2        \n",
       "3  156064    2        \n",
       "4  156065    2        "
      ]
     },
     "execution_count": 393,
     "metadata": {},
     "output_type": "execute_result"
    }
   ],
   "source": [
    "sub=pd.read_csv('sampleSubmission.csv')\n",
    "sub.head()"
   ]
  },
  {
   "cell_type": "markdown",
   "metadata": {
    "_uuid": "bbe766f446d3bb593acbdf5ef976097c929c7901"
   },
   "source": [
    "**Adding Sentiment column to test datset and joing train and test for preprocessing**"
   ]
  },
  {
   "cell_type": "code",
   "execution_count": 394,
   "metadata": {
    "_uuid": "293f41b034b63f6526f22fd616877220e19af8e7"
   },
   "outputs": [
    {
     "data": {
      "text/html": [
       "<div>\n",
       "<style scoped>\n",
       "    .dataframe tbody tr th:only-of-type {\n",
       "        vertical-align: middle;\n",
       "    }\n",
       "\n",
       "    .dataframe tbody tr th {\n",
       "        vertical-align: top;\n",
       "    }\n",
       "\n",
       "    .dataframe thead th {\n",
       "        text-align: right;\n",
       "    }\n",
       "</style>\n",
       "<table border=\"1\" class=\"dataframe\">\n",
       "  <thead>\n",
       "    <tr style=\"text-align: right;\">\n",
       "      <th></th>\n",
       "      <th>PhraseId</th>\n",
       "      <th>SentenceId</th>\n",
       "      <th>Phrase</th>\n",
       "      <th>Sentiment</th>\n",
       "    </tr>\n",
       "  </thead>\n",
       "  <tbody>\n",
       "    <tr>\n",
       "      <th>0</th>\n",
       "      <td>156061</td>\n",
       "      <td>8545</td>\n",
       "      <td>An intermittently pleasing but mostly routine effort .</td>\n",
       "      <td>-999</td>\n",
       "    </tr>\n",
       "    <tr>\n",
       "      <th>1</th>\n",
       "      <td>156062</td>\n",
       "      <td>8545</td>\n",
       "      <td>An intermittently pleasing but mostly routine effort</td>\n",
       "      <td>-999</td>\n",
       "    </tr>\n",
       "    <tr>\n",
       "      <th>2</th>\n",
       "      <td>156063</td>\n",
       "      <td>8545</td>\n",
       "      <td>An</td>\n",
       "      <td>-999</td>\n",
       "    </tr>\n",
       "    <tr>\n",
       "      <th>3</th>\n",
       "      <td>156064</td>\n",
       "      <td>8545</td>\n",
       "      <td>intermittently pleasing but mostly routine effort</td>\n",
       "      <td>-999</td>\n",
       "    </tr>\n",
       "    <tr>\n",
       "      <th>4</th>\n",
       "      <td>156065</td>\n",
       "      <td>8545</td>\n",
       "      <td>intermittently pleasing but mostly routine</td>\n",
       "      <td>-999</td>\n",
       "    </tr>\n",
       "  </tbody>\n",
       "</table>\n",
       "</div>"
      ],
      "text/plain": [
       "   PhraseId  SentenceId  \\\n",
       "0  156061    8545         \n",
       "1  156062    8545         \n",
       "2  156063    8545         \n",
       "3  156064    8545         \n",
       "4  156065    8545         \n",
       "\n",
       "                                                   Phrase  Sentiment  \n",
       "0  An intermittently pleasing but mostly routine effort . -999        \n",
       "1  An intermittently pleasing but mostly routine effort   -999        \n",
       "2  An                                                     -999        \n",
       "3  intermittently pleasing but mostly routine effort      -999        \n",
       "4  intermittently pleasing but mostly routine             -999        "
      ]
     },
     "execution_count": 394,
     "metadata": {},
     "output_type": "execute_result"
    }
   ],
   "source": [
    "test['Sentiment']=-999\n",
    "test.head()"
   ]
  },
  {
   "cell_type": "code",
   "execution_count": 395,
   "metadata": {
    "_uuid": "277931f786264b67041d060cdf5aec9ace10fd5d"
   },
   "outputs": [
    {
     "name": "stdout",
     "output_type": "stream",
     "text": [
      "(101652, 4)\n"
     ]
    },
    {
     "data": {
      "text/html": [
       "<div>\n",
       "<style scoped>\n",
       "    .dataframe tbody tr th:only-of-type {\n",
       "        vertical-align: middle;\n",
       "    }\n",
       "\n",
       "    .dataframe tbody tr th {\n",
       "        vertical-align: top;\n",
       "    }\n",
       "\n",
       "    .dataframe thead th {\n",
       "        text-align: right;\n",
       "    }\n",
       "</style>\n",
       "<table border=\"1\" class=\"dataframe\">\n",
       "  <thead>\n",
       "    <tr style=\"text-align: right;\">\n",
       "      <th></th>\n",
       "      <th>PhraseId</th>\n",
       "      <th>SentenceId</th>\n",
       "      <th>Phrase</th>\n",
       "      <th>Sentiment</th>\n",
       "    </tr>\n",
       "  </thead>\n",
       "  <tbody>\n",
       "    <tr>\n",
       "      <th>101647</th>\n",
       "      <td>222348</td>\n",
       "      <td>11855</td>\n",
       "      <td>A long-winded , predictable scenario .</td>\n",
       "      <td>-999</td>\n",
       "    </tr>\n",
       "    <tr>\n",
       "      <th>101648</th>\n",
       "      <td>222349</td>\n",
       "      <td>11855</td>\n",
       "      <td>A long-winded , predictable scenario</td>\n",
       "      <td>-999</td>\n",
       "    </tr>\n",
       "    <tr>\n",
       "      <th>101649</th>\n",
       "      <td>222350</td>\n",
       "      <td>11855</td>\n",
       "      <td>A long-winded ,</td>\n",
       "      <td>-999</td>\n",
       "    </tr>\n",
       "    <tr>\n",
       "      <th>101650</th>\n",
       "      <td>222351</td>\n",
       "      <td>11855</td>\n",
       "      <td>A long-winded</td>\n",
       "      <td>-999</td>\n",
       "    </tr>\n",
       "    <tr>\n",
       "      <th>101651</th>\n",
       "      <td>222352</td>\n",
       "      <td>11855</td>\n",
       "      <td>predictable scenario</td>\n",
       "      <td>-999</td>\n",
       "    </tr>\n",
       "  </tbody>\n",
       "</table>\n",
       "</div>"
      ],
      "text/plain": [
       "        PhraseId  SentenceId                                  Phrase  \\\n",
       "101647  222348    11855       A long-winded , predictable scenario .   \n",
       "101648  222349    11855       A long-winded , predictable scenario     \n",
       "101649  222350    11855       A long-winded ,                          \n",
       "101650  222351    11855       A long-winded                            \n",
       "101651  222352    11855       predictable scenario                     \n",
       "\n",
       "        Sentiment  \n",
       "101647 -999        \n",
       "101648 -999        \n",
       "101649 -999        \n",
       "101650 -999        \n",
       "101651 -999        "
      ]
     },
     "execution_count": 395,
     "metadata": {},
     "output_type": "execute_result"
    }
   ],
   "source": [
    "df=pd.concat([train,test],ignore_index=True)\n",
    "print(df.shape)\n",
    "df.tail()"
   ]
  },
  {
   "cell_type": "code",
   "execution_count": 396,
   "metadata": {
    "_uuid": "5c6e9d3571d89ffeba4bbf3a09a027b542499063"
   },
   "outputs": [
    {
     "data": {
      "text/plain": [
       "15725"
      ]
     },
     "execution_count": 396,
     "metadata": {},
     "output_type": "execute_result"
    }
   ],
   "source": [
    "del train,test\n",
    "gc.collect()"
   ]
  },
  {
   "cell_type": "markdown",
   "metadata": {
    "_uuid": "7ba69becca5dac25b40fc9c1a421b3d2b93ef7c5"
   },
   "source": [
    "We clean up the reviews"
   ]
  },
  {
   "cell_type": "code",
   "execution_count": 397,
   "metadata": {
    "_uuid": "44022cdd2e622139943b9e65350dcb89d4d6653e"
   },
   "outputs": [],
   "source": [
    "from nltk.tokenize import word_tokenize\n",
    "from nltk import FreqDist\n",
    "from nltk.stem import SnowballStemmer,WordNetLemmatizer\n",
    "stemmer=SnowballStemmer('english')\n",
    "lemma=WordNetLemmatizer()\n",
    "from string import punctuation\n",
    "import re\n"
   ]
  },
  {
   "cell_type": "code",
   "execution_count": 398,
   "metadata": {
    "_uuid": "4644cb4452dca89c9870447a9ad828a9fa05098d"
   },
   "outputs": [],
   "source": [
    "def clean_review(review_col):\n",
    "    review_corpus=[]\n",
    "    for i in range(0,len(review_col)):\n",
    "        review=str(review_col[i])\n",
    "        review=re.sub('[^a-zA-Z]',' ',review)\n",
    "        #review=[stemmer.stem(w) for w in word_tokenize(str(review).lower())]\n",
    "        review=[lemma.lemmatize(w) for w in word_tokenize(str(review).lower())]\n",
    "        review=' '.join(review)\n",
    "        review_corpus.append(review)\n",
    "    return review_corpus"
   ]
  },
  {
   "cell_type": "code",
   "execution_count": 399,
   "metadata": {
    "_uuid": "f3aa6294835b8bbba8d324f59b253ab2ec85877a"
   },
   "outputs": [
    {
     "data": {
      "text/html": [
       "<div>\n",
       "<style scoped>\n",
       "    .dataframe tbody tr th:only-of-type {\n",
       "        vertical-align: middle;\n",
       "    }\n",
       "\n",
       "    .dataframe tbody tr th {\n",
       "        vertical-align: top;\n",
       "    }\n",
       "\n",
       "    .dataframe thead th {\n",
       "        text-align: right;\n",
       "    }\n",
       "</style>\n",
       "<table border=\"1\" class=\"dataframe\">\n",
       "  <thead>\n",
       "    <tr style=\"text-align: right;\">\n",
       "      <th></th>\n",
       "      <th>PhraseId</th>\n",
       "      <th>SentenceId</th>\n",
       "      <th>Phrase</th>\n",
       "      <th>Sentiment</th>\n",
       "      <th>clean_review</th>\n",
       "    </tr>\n",
       "  </thead>\n",
       "  <tbody>\n",
       "    <tr>\n",
       "      <th>0</th>\n",
       "      <td>136955</td>\n",
       "      <td>7408</td>\n",
       "      <td>work as a piece of storytelling</td>\n",
       "      <td>2</td>\n",
       "      <td>work a a piece of storytelling</td>\n",
       "    </tr>\n",
       "    <tr>\n",
       "      <th>1</th>\n",
       "      <td>121688</td>\n",
       "      <td>6521</td>\n",
       "      <td>solipsistic</td>\n",
       "      <td>2</td>\n",
       "      <td>solipsistic</td>\n",
       "    </tr>\n",
       "    <tr>\n",
       "      <th>2</th>\n",
       "      <td>33846</td>\n",
       "      <td>1590</td>\n",
       "      <td>The kind of sense of humor that derives from a workman 's grasp of pun and entendre and its attendant need to constantly draw attention to itself .</td>\n",
       "      <td>2</td>\n",
       "      <td>the kind of sense of humor that derives from a workman s grasp of pun and entendre and it attendant need to constantly draw attention to itself</td>\n",
       "    </tr>\n",
       "    <tr>\n",
       "      <th>3</th>\n",
       "      <td>111957</td>\n",
       "      <td>5942</td>\n",
       "      <td>overpowered</td>\n",
       "      <td>2</td>\n",
       "      <td>overpowered</td>\n",
       "    </tr>\n",
       "    <tr>\n",
       "      <th>4</th>\n",
       "      <td>55695</td>\n",
       "      <td>2785</td>\n",
       "      <td>of horror and sci-fi</td>\n",
       "      <td>2</td>\n",
       "      <td>of horror and sci fi</td>\n",
       "    </tr>\n",
       "  </tbody>\n",
       "</table>\n",
       "</div>"
      ],
      "text/plain": [
       "   PhraseId  SentenceId  \\\n",
       "0  136955    7408         \n",
       "1  121688    6521         \n",
       "2  33846     1590         \n",
       "3  111957    5942         \n",
       "4  55695     2785         \n",
       "\n",
       "                                                                                                                                                Phrase  \\\n",
       "0  work as a piece of storytelling                                                                                                                       \n",
       "1  solipsistic                                                                                                                                           \n",
       "2  The kind of sense of humor that derives from a workman 's grasp of pun and entendre and its attendant need to constantly draw attention to itself .   \n",
       "3  overpowered                                                                                                                                           \n",
       "4  of horror and sci-fi                                                                                                                                  \n",
       "\n",
       "   Sentiment  \\\n",
       "0  2           \n",
       "1  2           \n",
       "2  2           \n",
       "3  2           \n",
       "4  2           \n",
       "\n",
       "                                                                                                                                      clean_review  \n",
       "0  work a a piece of storytelling                                                                                                                   \n",
       "1  solipsistic                                                                                                                                      \n",
       "2  the kind of sense of humor that derives from a workman s grasp of pun and entendre and it attendant need to constantly draw attention to itself  \n",
       "3  overpowered                                                                                                                                      \n",
       "4  of horror and sci fi                                                                                                                             "
      ]
     },
     "execution_count": 399,
     "metadata": {},
     "output_type": "execute_result"
    }
   ],
   "source": [
    "df['clean_review']=clean_review(df.Phrase.values)\n",
    "df.head()\n"
   ]
  },
  {
   "cell_type": "markdown",
   "metadata": {
    "_uuid": "d4ee11295116391255ecb1ced3ca5054b46a6927"
   },
   "source": [
    "Separate the train and test sets"
   ]
  },
  {
   "cell_type": "code",
   "execution_count": 400,
   "metadata": {
    "_uuid": "069c27892b11cc1d5a9ac030b67a995532746ea2"
   },
   "outputs": [
    {
     "data": {
      "text/plain": [
       "(35360, 5)"
      ]
     },
     "execution_count": 400,
     "metadata": {},
     "output_type": "execute_result"
    }
   ],
   "source": [
    "df_train=df[df.Sentiment!=-999]\n",
    "df_train.shape"
   ]
  },
  {
   "cell_type": "code",
   "execution_count": 401,
   "metadata": {
    "_uuid": "3f616adc7d6e9a8a12610573762e5ded05fcf96e"
   },
   "outputs": [
    {
     "name": "stdout",
     "output_type": "stream",
     "text": [
      "(66292, 4)\n"
     ]
    },
    {
     "data": {
      "text/html": [
       "<div>\n",
       "<style scoped>\n",
       "    .dataframe tbody tr th:only-of-type {\n",
       "        vertical-align: middle;\n",
       "    }\n",
       "\n",
       "    .dataframe tbody tr th {\n",
       "        vertical-align: top;\n",
       "    }\n",
       "\n",
       "    .dataframe thead th {\n",
       "        text-align: right;\n",
       "    }\n",
       "</style>\n",
       "<table border=\"1\" class=\"dataframe\">\n",
       "  <thead>\n",
       "    <tr style=\"text-align: right;\">\n",
       "      <th></th>\n",
       "      <th>PhraseId</th>\n",
       "      <th>SentenceId</th>\n",
       "      <th>Phrase</th>\n",
       "      <th>clean_review</th>\n",
       "    </tr>\n",
       "  </thead>\n",
       "  <tbody>\n",
       "    <tr>\n",
       "      <th>35360</th>\n",
       "      <td>156061</td>\n",
       "      <td>8545</td>\n",
       "      <td>An intermittently pleasing but mostly routine effort .</td>\n",
       "      <td>an intermittently pleasing but mostly routine effort</td>\n",
       "    </tr>\n",
       "    <tr>\n",
       "      <th>35361</th>\n",
       "      <td>156062</td>\n",
       "      <td>8545</td>\n",
       "      <td>An intermittently pleasing but mostly routine effort</td>\n",
       "      <td>an intermittently pleasing but mostly routine effort</td>\n",
       "    </tr>\n",
       "    <tr>\n",
       "      <th>35362</th>\n",
       "      <td>156063</td>\n",
       "      <td>8545</td>\n",
       "      <td>An</td>\n",
       "      <td>an</td>\n",
       "    </tr>\n",
       "    <tr>\n",
       "      <th>35363</th>\n",
       "      <td>156064</td>\n",
       "      <td>8545</td>\n",
       "      <td>intermittently pleasing but mostly routine effort</td>\n",
       "      <td>intermittently pleasing but mostly routine effort</td>\n",
       "    </tr>\n",
       "    <tr>\n",
       "      <th>35364</th>\n",
       "      <td>156065</td>\n",
       "      <td>8545</td>\n",
       "      <td>intermittently pleasing but mostly routine</td>\n",
       "      <td>intermittently pleasing but mostly routine</td>\n",
       "    </tr>\n",
       "  </tbody>\n",
       "</table>\n",
       "</div>"
      ],
      "text/plain": [
       "       PhraseId  SentenceId  \\\n",
       "35360  156061    8545         \n",
       "35361  156062    8545         \n",
       "35362  156063    8545         \n",
       "35363  156064    8545         \n",
       "35364  156065    8545         \n",
       "\n",
       "                                                       Phrase  \\\n",
       "35360  An intermittently pleasing but mostly routine effort .   \n",
       "35361  An intermittently pleasing but mostly routine effort     \n",
       "35362  An                                                       \n",
       "35363  intermittently pleasing but mostly routine effort        \n",
       "35364  intermittently pleasing but mostly routine               \n",
       "\n",
       "                                               clean_review  \n",
       "35360  an intermittently pleasing but mostly routine effort  \n",
       "35361  an intermittently pleasing but mostly routine effort  \n",
       "35362  an                                                    \n",
       "35363  intermittently pleasing but mostly routine effort     \n",
       "35364  intermittently pleasing but mostly routine            "
      ]
     },
     "execution_count": 401,
     "metadata": {},
     "output_type": "execute_result"
    }
   ],
   "source": [
    "df_test=df[df.Sentiment==-999]\n",
    "df_test.drop('Sentiment',axis=1,inplace=True)\n",
    "print(df_test.shape)\n",
    "df_test.head()"
   ]
  },
  {
   "cell_type": "code",
   "execution_count": 402,
   "metadata": {
    "_uuid": "70afb2e0ee4c0a8eecb8722d4c27a1b8f70e7081"
   },
   "outputs": [
    {
     "data": {
      "text/plain": [
       "0"
      ]
     },
     "execution_count": 402,
     "metadata": {},
     "output_type": "execute_result"
    }
   ],
   "source": [
    "del df\n",
    "gc.collect()"
   ]
  },
  {
   "cell_type": "markdown",
   "metadata": {
    "_uuid": "a606c41b93e32ff05d0443f9eef937e5c1cc3f6f"
   },
   "source": [
    "### Splitting Train dataset into train and 20% validation set"
   ]
  },
  {
   "cell_type": "code",
   "execution_count": 403,
   "metadata": {
    "_uuid": "26b3d8e058c88e7db59d57347a3ea6e161935128"
   },
   "outputs": [
    {
     "name": "stdout",
     "output_type": "stream",
     "text": [
      "(35360,) (35360,) (35360, 5)\n"
     ]
    }
   ],
   "source": [
    "train_text=df_train.clean_review.values\n",
    "test_text=df_test.clean_review.values\n",
    "target=df_train.Sentiment.values\n",
    "y=to_categorical(target)\n",
    "print(train_text.shape,target.shape,y.shape)"
   ]
  },
  {
   "cell_type": "code",
   "execution_count": 404,
   "metadata": {
    "_uuid": "e782b9cf5191ddcffb98bf97ae14c6ed3e03c1c1"
   },
   "outputs": [
    {
     "name": "stdout",
     "output_type": "stream",
     "text": [
      "(28288,) (28288, 5)\n",
      "(7072,) (7072, 5)\n"
     ]
    }
   ],
   "source": [
    "X_train_text,X_val_text,y_train,y_val=train_test_split(train_text,y,test_size=0.2,stratify=y,random_state=123)\n",
    "print(X_train_text.shape,y_train.shape)\n",
    "print(X_val_text.shape,y_val.shape)"
   ]
  },
  {
   "cell_type": "markdown",
   "metadata": {
    "_uuid": "4a11137fa2b6002edd192dbbe193c8892dbb54a4"
   },
   "source": [
    "### Finding number of unique words in train set"
   ]
  },
  {
   "cell_type": "code",
   "execution_count": 405,
   "metadata": {
    "_uuid": "e7e9a89d0e29d070a823e18b26519a4994df2bbe"
   },
   "outputs": [
    {
     "data": {
      "text/plain": [
       "12211"
      ]
     },
     "execution_count": 405,
     "metadata": {},
     "output_type": "execute_result"
    }
   ],
   "source": [
    "all_words=' '.join(X_train_text)\n",
    "all_words=word_tokenize(all_words)\n",
    "dist=FreqDist(all_words)\n",
    "num_unique_word=len(dist)\n",
    "num_unique_word"
   ]
  },
  {
   "cell_type": "markdown",
   "metadata": {
    "_uuid": "5cc23adc6d5b724da652b4a96c27d0b8d3a1ed3e"
   },
   "source": [
    "### Finding max length of a review in train set"
   ]
  },
  {
   "cell_type": "code",
   "execution_count": 406,
   "metadata": {
    "_uuid": "3efda4aa9a64a8f586249ec67f9c7a365e0d63aa"
   },
   "outputs": [
    {
     "data": {
      "text/plain": [
       "48"
      ]
     },
     "execution_count": 406,
     "metadata": {},
     "output_type": "execute_result"
    }
   ],
   "source": [
    "r_len=[]\n",
    "for text in X_train_text:\n",
    "    word=word_tokenize(text)\n",
    "    l=len(word)\n",
    "    r_len.append(l)\n",
    "    \n",
    "MAX_REVIEW_LEN=np.max(r_len)\n",
    "MAX_REVIEW_LEN"
   ]
  },
  {
   "cell_type": "markdown",
   "metadata": {},
   "source": [
    "## Visualizing the Data Distribution"
   ]
  },
  {
   "cell_type": "code",
   "execution_count": 407,
   "metadata": {},
   "outputs": [
    {
     "data": {
      "image/png": "[encoded data removed]",
      "text/plain": [
       "<Figure size 720x288 with 1 Axes>"
      ]
     },
     "metadata": {
      "needs_background": "light"
     },
     "output_type": "display_data"
    }
   ],
   "source": [
    "class MultiColumnLabelEncoder:\n",
    "    def __init__(self,columns = None):\n",
    "        self.columns = columns # array of column names to encode\n",
    "\n",
    "    def fit(self,X,y=None):\n",
    "        return self # not relevant here\n",
    "\n",
    "    def transform(self,X):\n",
    "        '''\n",
    "        Transforms columns of X specified in self.columns using\n",
    "        LabelEncoder(). If no columns specified, transforms all\n",
    "        columns in X.\n",
    "        '''\n",
    "        output = X.copy()\n",
    "        if self.columns is not None:\n",
    "            for col in self.columns:\n",
    "                output[col] = LabelEncoder().fit_transform(output[col])\n",
    "        else:\n",
    "            for colname,col in output.iteritems():\n",
    "                output[colname] = LabelEncoder().fit_transform(col)\n",
    "        return output\n",
    "\n",
    "    def fit_transform(self,X,y=None):\n",
    "        return self.fit(X,y).transform(X)\n",
    "\n",
    "    \n",
    "df_encoded = df_train\n",
    "df_encoded = MultiColumnLabelEncoder(columns = ['Sentiment']).fit_transform(df_encoded)\n",
    "labels = ['0','1','2','3','4']\n",
    "plt.figure(figsize=(10,4))\n",
    "\n",
    "df_encoded.Sentiment.value_counts().plot(kind='bar');"
   ]
  },
  {
   "cell_type": "markdown",
   "metadata": {},
   "source": [
    "## Preprocessing for ML Classification"
   ]
  },
  {
   "cell_type": "code",
   "execution_count": 408,
   "metadata": {},
   "outputs": [
    {
     "data": {
      "text/plain": [
       "171156"
      ]
     },
     "execution_count": 408,
     "metadata": {},
     "output_type": "execute_result"
    }
   ],
   "source": [
    "REPLACE_BY_SPACE_RE = re.compile('[/(){}\\[\\]\\|@,;]')\n",
    "BAD_SYMBOLS_RE = re.compile('[^0-9a-z #+_]')\n",
    "STOPWORDS = set(stopwords)\n",
    "STOPWORDS.update([\"one\",\"film\",\"movie\"])\n",
    "\n",
    "def clean_text(text):\n",
    "    \"\"\"\n",
    "        text: a string\n",
    "        \n",
    "        return: modified initial string\n",
    "    \"\"\"\n",
    "    #text = BeautifulSoup(text, \"lxml\").text # HTML decoding\n",
    "    text = text.lower() # lowercase text\n",
    "    text = REPLACE_BY_SPACE_RE.sub(' ', text) # replace REPLACE_BY_SPACE_RE symbols by space in text\n",
    "    text = BAD_SYMBOLS_RE.sub('', text) # delete symbols which are in BAD_SYMBOLS_RE from text\n",
    "    text = ' '.join(word for word in text.split() if word not in STOPWORDS) # delete stopwors from text\n",
    "    return text\n",
    "    \n",
    "df_encoded['Phrase'] = df_encoded['Phrase'].apply(clean_text)\n",
    "df_encoded['Phrase'].apply(lambda x: len(x.split(' '))).sum()\n"
   ]
  },
  {
   "cell_type": "code",
   "execution_count": 409,
   "metadata": {},
   "outputs": [],
   "source": [
    "from sklearn.utils import shuffle\n",
    "shuffle(df_encoded)\n",
    "\n",
    "X = df_encoded.Phrase\n",
    "y = df_encoded.Sentiment\n",
    "X_train, X_test, y_train, y_test = train_test_split(X, y, test_size=0.3, random_state = 42)"
   ]
  },
  {
   "cell_type": "markdown",
   "metadata": {},
   "source": [
    "## Classifying using a TfIDf Transformer"
   ]
  },
  {
   "cell_type": "markdown",
   "metadata": {},
   "source": [
    "### Using a Multinomial Naive Bayes Classifier"
   ]
  },
  {
   "cell_type": "code",
   "execution_count": 410,
   "metadata": {},
   "outputs": [
    {
     "name": "stdout",
     "output_type": "stream",
     "text": [
      "accuracy 0.46370663650075417\n",
      "              precision    recall  f1-score   support\n",
      "\n",
      "           0       0.52      0.69      0.59      2122\n",
      "           1       0.42      0.35      0.38      2185\n",
      "           2       0.44      0.23      0.30      2127\n",
      "           3       0.40      0.33      0.36      2120\n",
      "           4       0.48      0.74      0.58      2054\n",
      "\n",
      "   micro avg       0.46      0.46      0.46     10608\n",
      "   macro avg       0.45      0.47      0.44     10608\n",
      "weighted avg       0.45      0.46      0.44     10608\n",
      "\n"
     ]
    }
   ],
   "source": [
    "from sklearn.naive_bayes import MultinomialNB\n",
    "from sklearn.pipeline import Pipeline\n",
    "from sklearn.feature_extraction.text import TfidfTransformer\n",
    "\n",
    "nb = Pipeline([('vect', CountVectorizer()),\n",
    "               ('tfidf', TfidfTransformer()),\n",
    "               ('clf', MultinomialNB()),\n",
    "              ])\n",
    "nb.fit(X_train, y_train)\n",
    "\n",
    "#%%time\n",
    "from sklearn.metrics import classification_report\n",
    "y_pred = nb.predict(X_test)\n",
    "\n",
    "print('accuracy %s' % accuracy_score(y_pred, y_test))\n",
    "print(classification_report(y_test, y_pred,target_names=labels))"
   ]
  },
  {
   "cell_type": "markdown",
   "metadata": {},
   "source": [
    "### Using a Random Forest Classifier"
   ]
  },
  {
   "cell_type": "code",
   "execution_count": 411,
   "metadata": {},
   "outputs": [
    {
     "name": "stdout",
     "output_type": "stream",
     "text": [
      "accuracy 0.5314856711915535\n",
      "              precision    recall  f1-score   support\n",
      "\n",
      "           0       0.66      0.64      0.65      2122\n",
      "           1       0.46      0.38      0.42      2185\n",
      "           2       0.47      0.66      0.55      2127\n",
      "           3       0.41      0.33      0.37      2120\n",
      "           4       0.65      0.65      0.65      2054\n",
      "\n",
      "   micro avg       0.53      0.53      0.53     10608\n",
      "   macro avg       0.53      0.53      0.53     10608\n",
      "weighted avg       0.53      0.53      0.53     10608\n",
      "\n"
     ]
    }
   ],
   "source": [
    "from sklearn.ensemble import RandomForestClassifier\n",
    "\n",
    "rf = Pipeline([('vect', CountVectorizer()),\n",
    "                ('tfidf', TfidfTransformer()),\n",
    "                ('clf', RandomForestClassifier(n_estimators=20)),\n",
    "               ])\n",
    "rf.fit(X_train, y_train)\n",
    "\n",
    "#%%time\n",
    "\n",
    "y_pred = rf.predict(X_test)\n",
    "\n",
    "print('accuracy %s' % accuracy_score(y_pred, y_test))\n",
    "print(classification_report(y_test, y_pred,target_names=labels))"
   ]
  },
  {
   "cell_type": "markdown",
   "metadata": {},
   "source": [
    "## Using a Word2Vec Model with Google News Vectors"
   ]
  },
  {
   "cell_type": "code",
   "execution_count": 412,
   "metadata": {},
   "outputs": [],
   "source": [
    "import gensim\n",
    "import logging\n",
    "from itertools import islice\n",
    "from gensim.models import Word2Vec\n",
    "wv = gensim.models.KeyedVectors.load_word2vec_format(\"GoogleNews-vectors-negative300.bin.gz\", binary=True)\n",
    "wv.init_sims(replace=True)\n"
   ]
  },
  {
   "cell_type": "code",
   "execution_count": 413,
   "metadata": {},
   "outputs": [],
   "source": [
    "def word_averaging(wv, words):\n",
    "    all_words, mean = set(), []\n",
    "    \n",
    "    for word in words:\n",
    "        if isinstance(word, np.ndarray):\n",
    "            mean.append(word)\n",
    "        elif word in wv.vocab:\n",
    "            mean.append(wv.syn0norm[wv.vocab[word].index])\n",
    "            all_words.add(wv.vocab[word].index)\n",
    "\n",
    "    if not mean:\n",
    "        logging.warning(\"cannot compute similarity with no input %s\", words)\n",
    "        # FIXME: remove these examples in pre-processing\n",
    "        return np.zeros(wv.vector_size,)\n",
    "\n",
    "    mean = gensim.matutils.unitvec(np.array(mean).mean(axis=0)).astype(np.float32)\n",
    "    return mean\n",
    "\n",
    "def  word_averaging_list(wv, text_list):\n",
    "    return np.vstack([word_averaging(wv, post) for post in text_list ])"
   ]
  },
  {
   "cell_type": "code",
   "execution_count": 414,
   "metadata": {},
   "outputs": [
    {
     "name": "stderr",
     "output_type": "stream",
     "text": [
      "WARNING:root:cannot compute similarity with no input ['herzog']\n",
      "WARNING:root:cannot compute similarity with no input ['juliette', 'binoche']\n",
      "WARNING:root:cannot compute similarity with no input ['triessohardtobecool', 'clockstoppers']\n",
      "WARNING:root:cannot compute similarity with no input ['dungpile']\n",
      "WARNING:root:cannot compute similarity with no input []\n",
      "WARNING:root:cannot compute similarity with no input ['spielberg']\n",
      "WARNING:root:cannot compute similarity with no input ['oscarworthy']\n",
      "WARNING:root:cannot compute similarity with no input ['filmculture']\n",
      "WARNING:root:cannot compute similarity with no input ['30s']\n",
      "WARNING:root:cannot compute similarity with no input ['65']\n",
      "WARNING:root:cannot compute similarity with no input ['guiltfree']\n",
      "WARNING:root:cannot compute similarity with no input ['thecash']\n",
      "WARNING:root:cannot compute similarity with no input ['godard']\n",
      "WARNING:root:cannot compute similarity with no input []\n",
      "WARNING:root:cannot compute similarity with no input ['closeddoor']\n",
      "WARNING:root:cannot compute similarity with no input []\n",
      "WARNING:root:cannot compute similarity with no input ['secondrate']\n",
      "WARNING:root:cannot compute similarity with no input ['grabowsky']\n",
      "WARNING:root:cannot compute similarity with no input ['djeinaba']\n",
      "WARNING:root:cannot compute similarity with no input []\n",
      "WARNING:root:cannot compute similarity with no input ['anniemary']\n",
      "WARNING:root:cannot compute similarity with no input ['highstrung']\n",
      "WARNING:root:cannot compute similarity with no input ['triessohardtobecool']\n",
      "WARNING:root:cannot compute similarity with no input ['plympton']\n",
      "WARNING:root:cannot compute similarity with no input ['bonechilling']\n",
      "WARNING:root:cannot compute similarity with no input ['alreadyshallow']\n",
      "WARNING:root:cannot compute similarity with no input []\n",
      "WARNING:root:cannot compute similarity with no input []\n",
      "WARNING:root:cannot compute similarity with no input []\n",
      "WARNING:root:cannot compute similarity with no input ['grisham']\n",
      "WARNING:root:cannot compute similarity with no input ['haynes']\n",
      "WARNING:root:cannot compute similarity with no input ['alexandre', 'dumas']\n",
      "WARNING:root:cannot compute similarity with no input ['strongminded']\n",
      "WARNING:root:cannot compute similarity with no input []\n",
      "WARNING:root:cannot compute similarity with no input ['sleepinducing']\n",
      "WARNING:root:cannot compute similarity with no input ['greatgrandson']\n",
      "WARNING:root:cannot compute similarity with no input ['darkaspitch']\n",
      "WARNING:root:cannot compute similarity with no input ['thirtythree']\n",
      "WARNING:root:cannot compute similarity with no input []\n",
      "WARNING:root:cannot compute similarity with no input []\n",
      "WARNING:root:cannot compute similarity with no input []\n",
      "WARNING:root:cannot compute similarity with no input ['rrb']\n",
      "WARNING:root:cannot compute similarity with no input ['1790']\n",
      "WARNING:root:cannot compute similarity with no input ['hugescreen']\n",
      "WARNING:root:cannot compute similarity with no input ['lauper']\n",
      "WARNING:root:cannot compute similarity with no input []\n",
      "WARNING:root:cannot compute similarity with no input ['quickbuck']\n",
      "WARNING:root:cannot compute similarity with no input ['wellpaced']\n",
      "WARNING:root:cannot compute similarity with no input []\n",
      "WARNING:root:cannot compute similarity with no input ['wellcrafted']\n",
      "WARNING:root:cannot compute similarity with no input ['minddestroying']\n",
      "WARNING:root:cannot compute similarity with no input ['fincher', 'rrb']\n",
      "WARNING:root:cannot compute similarity with no input []\n",
      "WARNING:root:cannot compute similarity with no input []\n",
      "WARNING:root:cannot compute similarity with no input ['psychodramatics']\n",
      "WARNING:root:cannot compute similarity with no input ['coldfish']\n",
      "WARNING:root:cannot compute similarity with no input ['warweary']\n",
      "WARNING:root:cannot compute similarity with no input ['spader']\n",
      "WARNING:root:cannot compute similarity with no input ['wellmade']\n",
      "WARNING:root:cannot compute similarity with no input ['notbeing']\n",
      "WARNING:root:cannot compute similarity with no input []\n",
      "WARNING:root:cannot compute similarity with no input ['sobadit']\n",
      "WARNING:root:cannot compute similarity with no input []\n",
      "WARNING:root:cannot compute similarity with no input ['85']\n",
      "WARNING:root:cannot compute similarity with no input ['spoton']\n",
      "WARNING:root:cannot compute similarity with no input []\n",
      "WARNING:root:cannot compute similarity with no input ['birot']\n",
      "WARNING:root:cannot compute similarity with no input ['krawczyk']\n",
      "WARNING:root:cannot compute similarity with no input []\n",
      "WARNING:root:cannot compute similarity with no input ['glizty']\n",
      "WARNING:root:cannot compute similarity with no input []\n",
      "WARNING:root:cannot compute similarity with no input ['thirdrate']\n",
      "WARNING:root:cannot compute similarity with no input ['hithungry']\n",
      "WARNING:root:cannot compute similarity with no input []\n",
      "WARNING:root:cannot compute similarity with no input ['wellstructured']\n",
      "WARNING:root:cannot compute similarity with no input ['notatallgood']\n",
      "WARNING:root:cannot compute similarity with no input ['entendre']\n",
      "WARNING:root:cannot compute similarity with no input ['tooextremefortv']\n",
      "WARNING:root:cannot compute similarity with no input []\n",
      "WARNING:root:cannot compute similarity with no input []\n",
      "WARNING:root:cannot compute similarity with no input []\n",
      "WARNING:root:cannot compute similarity with no input []\n",
      "WARNING:root:cannot compute similarity with no input ['strippeddown']\n",
      "WARNING:root:cannot compute similarity with no input ['welldone']\n",
      "WARNING:root:cannot compute similarity with no input ['jagger']\n",
      "WARNING:root:cannot compute similarity with no input ['thinlyconceived']\n",
      "WARNING:root:cannot compute similarity with no input ['larson']\n",
      "WARNING:root:cannot compute similarity with no input ['wellputtogether']\n",
      "WARNING:root:cannot compute similarity with no input ['policeoriented']\n",
      "WARNING:root:cannot compute similarity with no input ['humour']\n",
      "WARNING:root:cannot compute similarity with no input ['sidebyside']\n",
      "WARNING:root:cannot compute similarity with no input ['segal']\n",
      "WARNING:root:cannot compute similarity with no input []\n",
      "WARNING:root:cannot compute similarity with no input []\n",
      "WARNING:root:cannot compute similarity with no input ['holeridden']\n",
      "WARNING:root:cannot compute similarity with no input ['rustedout']\n",
      "WARNING:root:cannot compute similarity with no input ['notatallgood']\n",
      "WARNING:root:cannot compute similarity with no input ['walledoff']\n",
      "WARNING:root:cannot compute similarity with no input ['notatallgood']\n",
      "WARNING:root:cannot compute similarity with no input ['wellacted']\n",
      "WARNING:root:cannot compute similarity with no input []\n",
      "WARNING:root:cannot compute similarity with no input ['underrehearsed']\n",
      "WARNING:root:cannot compute similarity with no input ['65minute']\n",
      "WARNING:root:cannot compute similarity with no input ['artnering']\n",
      "WARNING:root:cannot compute similarity with no input ['fiennes']\n",
      "WARNING:root:cannot compute similarity with no input ['grandscale']\n",
      "WARNING:root:cannot compute similarity with no input ['stevenon']\n",
      "WARNING:root:cannot compute similarity with no input ['plympton']\n",
      "WARNING:root:cannot compute similarity with no input ['wellconceived']\n",
      "WARNING:root:cannot compute similarity with no input ['lohman']\n",
      "WARNING:root:cannot compute similarity with no input []\n",
      "WARNING:root:cannot compute similarity with no input ['triedandtrue']\n",
      "WARNING:root:cannot compute similarity with no input []\n",
      "WARNING:root:cannot compute similarity with no input ['quickcuts', 'lrb', 'rrb']\n",
      "WARNING:root:cannot compute similarity with no input ['21st']\n",
      "WARNING:root:cannot compute similarity with no input ['lowwattage']\n",
      "WARNING:root:cannot compute similarity with no input []\n",
      "WARNING:root:cannot compute similarity with no input ['freshfaced']\n",
      "WARNING:root:cannot compute similarity with no input ['95']\n",
      "WARNING:root:cannot compute similarity with no input ['submusic']\n",
      "WARNING:root:cannot compute similarity with no input ['fangoria']\n",
      "WARNING:root:cannot compute similarity with no input ['sleepinducingly']\n",
      "WARNING:root:cannot compute similarity with no input ['flatula']\n",
      "WARNING:root:cannot compute similarity with no input ['gabbiest', 'giantscreen']\n",
      "WARNING:root:cannot compute similarity with no input ['dullwitted']\n",
      "WARNING:root:cannot compute similarity with no input ['piccoli']\n",
      "WARNING:root:cannot compute similarity with no input ['helljaunt']\n"
     ]
    },
    {
     "name": "stderr",
     "output_type": "stream",
     "text": [
      "WARNING:root:cannot compute similarity with no input ['pooperscoopers']\n",
      "WARNING:root:cannot compute similarity with no input ['pythonesque']\n",
      "WARNING:root:cannot compute similarity with no input ['selfhatred']\n",
      "WARNING:root:cannot compute similarity with no input ['alloverthemap']\n",
      "WARNING:root:cannot compute similarity with no input ['1933']\n",
      "WARNING:root:cannot compute similarity with no input ['twentyfirst']\n",
      "WARNING:root:cannot compute similarity with no input ['gilliam']\n",
      "WARNING:root:cannot compute similarity with no input ['70s']\n",
      "WARNING:root:cannot compute similarity with no input ['mcwilliams']\n",
      "WARNING:root:cannot compute similarity with no input ['jegyu', 'rrb']\n",
      "WARNING:root:cannot compute similarity with no input ['asnasty']\n",
      "WARNING:root:cannot compute similarity with no input ['wellthought']\n",
      "WARNING:root:cannot compute similarity with no input []\n",
      "WARNING:root:cannot compute similarity with no input ['asiaphiles']\n",
      "WARNING:root:cannot compute similarity with no input ['mesmerised']\n",
      "WARNING:root:cannot compute similarity with no input ['openfaced']\n",
      "WARNING:root:cannot compute similarity with no input ['nearfatal']\n",
      "WARNING:root:cannot compute similarity with no input ['98']\n",
      "WARNING:root:cannot compute similarity with no input []\n",
      "WARNING:root:cannot compute similarity with no input []\n",
      "WARNING:root:cannot compute similarity with no input ['thirteenyearold']\n",
      "WARNING:root:cannot compute similarity with no input []\n",
      "WARNING:root:cannot compute similarity with no input ['flamelike']\n",
      "WARNING:root:cannot compute similarity with no input ['louiso']\n",
      "WARNING:root:cannot compute similarity with no input ['rrb']\n",
      "WARNING:root:cannot compute similarity with no input ['hanussen']\n",
      "WARNING:root:cannot compute similarity with no input ['documentarymaking']\n",
      "WARNING:root:cannot compute similarity with no input ['kumble']\n",
      "WARNING:root:cannot compute similarity with no input ['tchaikovsky']\n",
      "WARNING:root:cannot compute similarity with no input []\n",
      "WARNING:root:cannot compute similarity with no input ['boreathon']\n",
      "WARNING:root:cannot compute similarity with no input ['spookarama']\n",
      "WARNING:root:cannot compute similarity with no input ['masterpeice']\n",
      "WARNING:root:cannot compute similarity with no input []\n",
      "WARNING:root:cannot compute similarity with no input []\n",
      "WARNING:root:cannot compute similarity with no input ['siuation']\n",
      "WARNING:root:cannot compute similarity with no input ['walken']\n",
      "WARNING:root:cannot compute similarity with no input ['semithrowback']\n",
      "WARNING:root:cannot compute similarity with no input ['wellacted']\n",
      "WARNING:root:cannot compute similarity with no input ['clayburgh']\n",
      "WARNING:root:cannot compute similarity with no input ['101']\n",
      "WARNING:root:cannot compute similarity with no input ['mustsee']\n",
      "WARNING:root:cannot compute similarity with no input ['clicheridden']\n",
      "WARNING:root:cannot compute similarity with no input ['bondinspired']\n",
      "WARNING:root:cannot compute similarity with no input []\n",
      "WARNING:root:cannot compute similarity with no input ['andie', 'macdowell']\n",
      "WARNING:root:cannot compute similarity with no input ['illconceived']\n",
      "WARNING:root:cannot compute similarity with no input ['finelooking']\n",
      "WARNING:root:cannot compute similarity with no input ['wellcrafted']\n",
      "WARNING:root:cannot compute similarity with no input ['gabbiest', 'giantscreen']\n",
      "WARNING:root:cannot compute similarity with no input ['everyjokehas', 'beentolda']\n",
      "WARNING:root:cannot compute similarity with no input []\n",
      "WARNING:root:cannot compute similarity with no input ['bullwinkle']\n",
      "WARNING:root:cannot compute similarity with no input ['estrogenfree']\n",
      "WARNING:root:cannot compute similarity with no input ['ivans', 'xtc']\n",
      "WARNING:root:cannot compute similarity with no input ['fullbodied']\n",
      "WARNING:root:cannot compute similarity with no input ['zzzzzzzzz']\n",
      "WARNING:root:cannot compute similarity with no input ['genevieve', 'leplouff']\n",
      "WARNING:root:cannot compute similarity with no input ['wellexecuted', 'spythriller']\n",
      "WARNING:root:cannot compute similarity with no input []\n",
      "WARNING:root:cannot compute similarity with no input []\n",
      "WARNING:root:cannot compute similarity with no input []\n",
      "WARNING:root:cannot compute similarity with no input ['audaciousimpossible']\n",
      "WARNING:root:cannot compute similarity with no input ['caviezel']\n",
      "WARNING:root:cannot compute similarity with no input ['hardtopredict']\n",
      "WARNING:root:cannot compute similarity with no input ['oneofakind', 'nearmasterpiece']\n",
      "WARNING:root:cannot compute similarity with no input []\n",
      "WARNING:root:cannot compute similarity with no input ['biodoc']\n",
      "WARNING:root:cannot compute similarity with no input []\n",
      "WARNING:root:cannot compute similarity with no input ['whitetrash']\n",
      "WARNING:root:cannot compute similarity with no input []\n",
      "WARNING:root:cannot compute similarity with no input ['babak', 'payami']\n",
      "WARNING:root:cannot compute similarity with no input ['wellmade', 'mushhearted']\n",
      "WARNING:root:cannot compute similarity with no input ['everyjokehas', 'beentolda']\n",
      "WARNING:root:cannot compute similarity with no input ['smartaleck']\n",
      "WARNING:root:cannot compute similarity with no input ['operaish']\n",
      "WARNING:root:cannot compute similarity with no input ['valleygirl']\n",
      "WARNING:root:cannot compute similarity with no input ['labour']\n",
      "WARNING:root:cannot compute similarity with no input ['outtochangetheworld']\n",
      "WARNING:root:cannot compute similarity with no input []\n",
      "WARNING:root:cannot compute similarity with no input ['holofcener']\n",
      "WARNING:root:cannot compute similarity with no input ['fizzability']\n",
      "WARNING:root:cannot compute similarity with no input ['86']\n",
      "WARNING:root:cannot compute similarity with no input ['crapulence']\n",
      "WARNING:root:cannot compute similarity with no input []\n",
      "WARNING:root:cannot compute similarity with no input []\n",
      "WARNING:root:cannot compute similarity with no input []\n",
      "WARNING:root:cannot compute similarity with no input ['alcatraz']\n",
      "WARNING:root:cannot compute similarity with no input ['nonetoooriginal']\n",
      "WARNING:root:cannot compute similarity with no input ['beallendall']\n",
      "WARNING:root:cannot compute similarity with no input ['wellcharacterized']\n",
      "WARNING:root:cannot compute similarity with no input ['1915']\n",
      "WARNING:root:cannot compute similarity with no input ['waterbound']\n",
      "WARNING:root:cannot compute similarity with no input ['bowwow']\n",
      "WARNING:root:cannot compute similarity with no input ['lessthanthrilling']\n",
      "WARNING:root:cannot compute similarity with no input ['mattei']\n",
      "WARNING:root:cannot compute similarity with no input []\n",
      "WARNING:root:cannot compute similarity with no input ['highoctane']\n",
      "WARNING:root:cannot compute similarity with no input ['vonnegut']\n",
      "WARNING:root:cannot compute similarity with no input []\n",
      "WARNING:root:cannot compute similarity with no input ['periodpiece', 'movieoftheweek']\n",
      "WARNING:root:cannot compute similarity with no input ['tunisian']\n",
      "WARNING:root:cannot compute similarity with no input ['favourite']\n",
      "WARNING:root:cannot compute similarity with no input ['denzel']\n",
      "WARNING:root:cannot compute similarity with no input ['medem']\n",
      "WARNING:root:cannot compute similarity with no input ['wellacted', 'thoughtprovoking']\n",
      "WARNING:root:cannot compute similarity with no input ['channelstyle']\n",
      "WARNING:root:cannot compute similarity with no input ['halfassed']\n",
      "WARNING:root:cannot compute similarity with no input ['lynchlike']\n",
      "WARNING:root:cannot compute similarity with no input []\n",
      "WARNING:root:cannot compute similarity with no input ['lrb', 'colgate', 'rrb']\n",
      "WARNING:root:cannot compute similarity with no input []\n",
      "WARNING:root:cannot compute similarity with no input []\n",
      "WARNING:root:cannot compute similarity with no input ['straighttovideo']\n",
      "WARNING:root:cannot compute similarity with no input ['oftenfunny']\n",
      "WARNING:root:cannot compute similarity with no input ['oftencute']\n",
      "WARNING:root:cannot compute similarity with no input ['farewelltoinnocence']\n",
      "WARNING:root:cannot compute similarity with no input ['1990']\n",
      "WARNING:root:cannot compute similarity with no input ['bibbidybobbidibland']\n",
      "WARNING:root:cannot compute similarity with no input ['ritter']\n",
      "WARNING:root:cannot compute similarity with no input ['arliss']\n",
      "WARNING:root:cannot compute similarity with no input ['sirk']\n",
      "WARNING:root:cannot compute similarity with no input ['actingworkshop']\n"
     ]
    },
    {
     "name": "stderr",
     "output_type": "stream",
     "text": [
      "WARNING:root:cannot compute similarity with no input ['lowbudget']\n",
      "WARNING:root:cannot compute similarity with no input ['wellmade']\n",
      "WARNING:root:cannot compute similarity with no input ['midseventies']\n",
      "WARNING:root:cannot compute similarity with no input ['baaaaaaaaad']\n",
      "WARNING:root:cannot compute similarity with no input ['waferthin']\n",
      "WARNING:root:cannot compute similarity with no input ['alexandre', 'desplat']\n",
      "WARNING:root:cannot compute similarity with no input ['writerdirector']\n",
      "WARNING:root:cannot compute similarity with no input []\n",
      "WARNING:root:cannot compute similarity with no input []\n",
      "WARNING:root:cannot compute similarity with no input ['smilebutton']\n",
      "WARNING:root:cannot compute similarity with no input []\n",
      "WARNING:root:cannot compute similarity with no input ['spielberg']\n",
      "WARNING:root:cannot compute similarity with no input []\n",
      "WARNING:root:cannot compute similarity with no input ['kubrick']\n",
      "WARNING:root:cannot compute similarity with no input ['deniro']\n",
      "WARNING:root:cannot compute similarity with no input ['bottomofthebill']\n",
      "WARNING:root:cannot compute similarity with no input ['wellwritten', 'wellacted']\n",
      "WARNING:root:cannot compute similarity with no input []\n",
      "WARNING:root:cannot compute similarity with no input []\n",
      "WARNING:root:cannot compute similarity with no input ['silberling']\n",
      "WARNING:root:cannot compute similarity with no input ['juniorhigh']\n",
      "WARNING:root:cannot compute similarity with no input ['wellbehaved']\n",
      "WARNING:root:cannot compute similarity with no input ['twodimensional']\n",
      "WARNING:root:cannot compute similarity with no input ['bookontape']\n",
      "WARNING:root:cannot compute similarity with no input []\n",
      "WARNING:root:cannot compute similarity with no input ['denlopp']\n",
      "WARNING:root:cannot compute similarity with no input []\n",
      "WARNING:root:cannot compute similarity with no input []\n",
      "WARNING:root:cannot compute similarity with no input []\n",
      "WARNING:root:cannot compute similarity with no input ['argento']\n",
      "WARNING:root:cannot compute similarity with no input ['accidentprone']\n",
      "WARNING:root:cannot compute similarity with no input ['ferrara']\n",
      "WARNING:root:cannot compute similarity with no input ['tissuethin']\n",
      "WARNING:root:cannot compute similarity with no input ['baaaaaaaaad']\n",
      "WARNING:root:cannot compute similarity with no input ['tobey', 'maguire']\n",
      "WARNING:root:cannot compute similarity with no input ['nijinsky']\n",
      "WARNING:root:cannot compute similarity with no input ['verete']\n",
      "WARNING:root:cannot compute similarity with no input ['writerdirector']\n",
      "WARNING:root:cannot compute similarity with no input ['rohmer']\n",
      "WARNING:root:cannot compute similarity with no input ['lrb', 'jegyu', 'rrb']\n",
      "WARNING:root:cannot compute similarity with no input ['stevenon']\n",
      "WARNING:root:cannot compute similarity with no input ['turpin']\n",
      "WARNING:root:cannot compute similarity with no input ['wellcrafted']\n",
      "WARNING:root:cannot compute similarity with no input ['fantasti']\n",
      "WARNING:root:cannot compute similarity with no input ['24']\n",
      "WARNING:root:cannot compute similarity with no input ['youarethere']\n",
      "WARNING:root:cannot compute similarity with no input ['surfaceobsession']\n",
      "WARNING:root:cannot compute similarity with no input ['bibbidybobbidibland']\n",
      "WARNING:root:cannot compute similarity with no input ['selfimportant']\n",
      "WARNING:root:cannot compute similarity with no input ['lrb', 'rrb']\n",
      "WARNING:root:cannot compute similarity with no input []\n",
      "WARNING:root:cannot compute similarity with no input ['1973']\n",
      "WARNING:root:cannot compute similarity with no input []\n",
      "WARNING:root:cannot compute similarity with no input ['subformulaic']\n",
      "WARNING:root:cannot compute similarity with no input []\n",
      "WARNING:root:cannot compute similarity with no input ['godard', 'rrb']\n",
      "WARNING:root:cannot compute similarity with no input ['selfdestructiveness']\n",
      "WARNING:root:cannot compute similarity with no input ['baaaaaaaaad']\n",
      "WARNING:root:cannot compute similarity with no input ['writerdirector', 'haneke']\n",
      "WARNING:root:cannot compute similarity with no input ['boymeetsgirl']\n",
      "WARNING:root:cannot compute similarity with no input []\n",
      "WARNING:root:cannot compute similarity with no input []\n",
      "WARNING:root:cannot compute similarity with no input []\n",
      "WARNING:root:cannot compute similarity with no input ['comalike']\n",
      "WARNING:root:cannot compute similarity with no input ['screechingmetal']\n",
      "WARNING:root:cannot compute similarity with no input ['selfindulgent']\n",
      "WARNING:root:cannot compute similarity with no input ['ruhroh']\n",
      "WARNING:root:cannot compute similarity with no input ['notatallgood']\n",
      "WARNING:root:cannot compute similarity with no input []\n",
      "WARNING:root:cannot compute similarity with no input ['bettany', 'mcdowell']\n",
      "WARNING:root:cannot compute similarity with no input ['allpowerful']\n",
      "WARNING:root:cannot compute similarity with no input ['toospectacular']\n",
      "WARNING:root:cannot compute similarity with no input ['wellacted', 'thoughtprovoking']\n",
      "WARNING:root:cannot compute similarity with no input ['jarjar', 'binks']\n",
      "WARNING:root:cannot compute similarity with no input ['thirteenyearold']\n",
      "WARNING:root:cannot compute similarity with no input ['longley']\n",
      "WARNING:root:cannot compute similarity with no input []\n",
      "WARNING:root:cannot compute similarity with no input []\n",
      "WARNING:root:cannot compute similarity with no input ['25']\n",
      "WARNING:root:cannot compute similarity with no input ['underrehearsed']\n",
      "WARNING:root:cannot compute similarity with no input ['wellintentioned']\n",
      "WARNING:root:cannot compute similarity with no input ['halfassed']\n",
      "WARNING:root:cannot compute similarity with no input []\n",
      "WARNING:root:cannot compute similarity with no input []\n",
      "WARNING:root:cannot compute similarity with no input []\n",
      "WARNING:root:cannot compute similarity with no input ['wellacted']\n",
      "WARNING:root:cannot compute similarity with no input ['sobadthey']\n",
      "WARNING:root:cannot compute similarity with no input []\n",
      "WARNING:root:cannot compute similarity with no input ['bisset']\n",
      "WARNING:root:cannot compute similarity with no input ['thoughtprovoking']\n",
      "WARNING:root:cannot compute similarity with no input []\n",
      "WARNING:root:cannot compute similarity with no input ['notsodivine']\n",
      "WARNING:root:cannot compute similarity with no input ['vittorio']\n",
      "WARNING:root:cannot compute similarity with no input ['doofuson']\n",
      "WARNING:root:cannot compute similarity with no input ['sensespinning']\n",
      "WARNING:root:cannot compute similarity with no input ['dustcaked']\n",
      "WARNING:root:cannot compute similarity with no input ['phonedin']\n",
      "WARNING:root:cannot compute similarity with no input ['270']\n",
      "WARNING:root:cannot compute similarity with no input []\n",
      "WARNING:root:cannot compute similarity with no input ['wishywashy']\n",
      "WARNING:root:cannot compute similarity with no input ['closetosolid']\n",
      "WARNING:root:cannot compute similarity with no input []\n",
      "WARNING:root:cannot compute similarity with no input []\n",
      "WARNING:root:cannot compute similarity with no input ['lowerwit']\n",
      "WARNING:root:cannot compute similarity with no input ['illconsidered']\n",
      "WARNING:root:cannot compute similarity with no input ['criticproof']\n",
      "WARNING:root:cannot compute similarity with no input ['imagemongering']\n",
      "WARNING:root:cannot compute similarity with no input ['wellmade']\n",
      "WARNING:root:cannot compute similarity with no input ['bibbidybobbidibland']\n",
      "WARNING:root:cannot compute similarity with no input ['2002', 'instalment']\n",
      "WARNING:root:cannot compute similarity with no input ['ivans']\n",
      "WARNING:root:cannot compute similarity with no input ['independentcommunity']\n",
      "WARNING:root:cannot compute similarity with no input []\n",
      "WARNING:root:cannot compute similarity with no input []\n",
      "WARNING:root:cannot compute similarity with no input ['masterpeice']\n",
      "WARNING:root:cannot compute similarity with no input ['mcgrath']\n",
      "WARNING:root:cannot compute similarity with no input []\n",
      "WARNING:root:cannot compute similarity with no input []\n",
      "WARNING:root:cannot compute similarity with no input ['featurelength']\n",
      "WARNING:root:cannot compute similarity with no input ['bythenumbers']\n",
      "WARNING:root:cannot compute similarity with no input ['rapepayback']\n",
      "WARNING:root:cannot compute similarity with no input ['lowerclass']\n",
      "WARNING:root:cannot compute similarity with no input ['baaaaaaaaad']\n",
      "WARNING:root:cannot compute similarity with no input []\n",
      "WARNING:root:cannot compute similarity with no input ['watereddown']\n"
     ]
    },
    {
     "name": "stderr",
     "output_type": "stream",
     "text": [
      "WARNING:root:cannot compute similarity with no input ['hyperartificiality']\n",
      "WARNING:root:cannot compute similarity with no input ['majidi']\n",
      "WARNING:root:cannot compute similarity with no input ['mesmerised']\n",
      "WARNING:root:cannot compute similarity with no input ['90s']\n",
      "WARNING:root:cannot compute similarity with no input ['guei']\n",
      "WARNING:root:cannot compute similarity with no input ['hatfield']\n",
      "WARNING:root:cannot compute similarity with no input []\n",
      "WARNING:root:cannot compute similarity with no input []\n",
      "WARNING:root:cannot compute similarity with no input ['morvern', 'callar']\n",
      "WARNING:root:cannot compute similarity with no input []\n",
      "WARNING:root:cannot compute similarity with no input ['pascale', 'bailly']\n",
      "WARNING:root:cannot compute similarity with no input []\n",
      "WARNING:root:cannot compute similarity with no input []\n",
      "WARNING:root:cannot compute similarity with no input []\n",
      "WARNING:root:cannot compute similarity with no input ['nearmasterpiece']\n",
      "WARNING:root:cannot compute similarity with no input ['genrecurling']\n",
      "WARNING:root:cannot compute similarity with no input []\n",
      "WARNING:root:cannot compute similarity with no input ['unslick']\n",
      "WARNING:root:cannot compute similarity with no input ['macgraw']\n",
      "WARNING:root:cannot compute similarity with no input ['sonnenfeld']\n",
      "WARNING:root:cannot compute similarity with no input []\n",
      "WARNING:root:cannot compute similarity with no input ['wellwritten']\n",
      "WARNING:root:cannot compute similarity with no input ['guiltypleasure']\n",
      "WARNING:root:cannot compute similarity with no input []\n",
      "WARNING:root:cannot compute similarity with no input ['selfdiscovery']\n",
      "WARNING:root:cannot compute similarity with no input []\n",
      "WARNING:root:cannot compute similarity with no input ['1972']\n",
      "WARNING:root:cannot compute similarity with no input []\n",
      "WARNING:root:cannot compute similarity with no input ['flavour']\n",
      "WARNING:root:cannot compute similarity with no input ['schindler']\n",
      "WARNING:root:cannot compute similarity with no input ['rrb']\n",
      "WARNING:root:cannot compute similarity with no input ['notatallgood']\n",
      "WARNING:root:cannot compute similarity with no input ['neonazism']\n",
      "WARNING:root:cannot compute similarity with no input ['paxton']\n",
      "WARNING:root:cannot compute similarity with no input []\n",
      "WARNING:root:cannot compute similarity with no input []\n",
      "WARNING:root:cannot compute similarity with no input ['wellbehaved']\n",
      "WARNING:root:cannot compute similarity with no input ['rrated']\n",
      "WARNING:root:cannot compute similarity with no input ['scherfig', 'writerdirector']\n",
      "WARNING:root:cannot compute similarity with no input ['igby']\n",
      "WARNING:root:cannot compute similarity with no input ['brockovich']\n",
      "WARNING:root:cannot compute similarity with no input ['testud']\n",
      "WARNING:root:cannot compute similarity with no input ['carlito']\n",
      "WARNING:root:cannot compute similarity with no input ['thoughtprovoking']\n",
      "WARNING:root:cannot compute similarity with no input ['uncharismatically']\n",
      "WARNING:root:cannot compute similarity with no input []\n",
      "WARNING:root:cannot compute similarity with no input ['elizabethans']\n",
      "WARNING:root:cannot compute similarity with no input ['zucker']\n",
      "WARNING:root:cannot compute similarity with no input []\n",
      "WARNING:root:cannot compute similarity with no input ['avary']\n",
      "WARNING:root:cannot compute similarity with no input ['bestforeignfilm']\n",
      "WARNING:root:cannot compute similarity with no input ['baaaaaaaaad']\n",
      "WARNING:root:cannot compute similarity with no input ['wellmounted']\n",
      "WARNING:root:cannot compute similarity with no input ['cardellini']\n",
      "WARNING:root:cannot compute similarity with no input []\n",
      "WARNING:root:cannot compute similarity with no input ['kidsandfamilyoriented']\n",
      "WARNING:root:cannot compute similarity with no input []\n",
      "WARNING:root:cannot compute similarity with no input ['unencouraging']\n",
      "WARNING:root:cannot compute similarity with no input ['romanek']\n",
      "WARNING:root:cannot compute similarity with no input []\n",
      "WARNING:root:cannot compute similarity with no input ['filipinoamericans']\n",
      "WARNING:root:cannot compute similarity with no input []\n",
      "WARNING:root:cannot compute similarity with no input ['downanddirty']\n",
      "WARNING:root:cannot compute similarity with no input ['mustsee']\n",
      "WARNING:root:cannot compute similarity with no input ['nearmasterpiece']\n",
      "WARNING:root:cannot compute similarity with no input ['129minute']\n",
      "WARNING:root:cannot compute similarity with no input ['largescreen']\n",
      "WARNING:root:cannot compute similarity with no input ['bottomlessly']\n",
      "WARNING:root:cannot compute similarity with no input []\n",
      "WARNING:root:cannot compute similarity with no input ['bargainbasement']\n",
      "WARNING:root:cannot compute similarity with no input ['celebstrewn']\n",
      "WARNING:root:cannot compute similarity with no input ['drung']\n",
      "WARNING:root:cannot compute similarity with no input ['hollywoodpredictable']\n",
      "WARNING:root:cannot compute similarity with no input ['chouchou']\n",
      "WARNING:root:cannot compute similarity with no input ['audiencepleaser']\n",
      "WARNING:root:cannot compute similarity with no input []\n",
      "WARNING:root:cannot compute similarity with no input ['lrb', 'garbus', 'rrb']\n",
      "WARNING:root:cannot compute similarity with no input ['dullingly']\n",
      "WARNING:root:cannot compute similarity with no input []\n",
      "WARNING:root:cannot compute similarity with no input ['1991']\n",
      "WARNING:root:cannot compute similarity with no input ['wideeyed']\n",
      "WARNING:root:cannot compute similarity with no input []\n",
      "WARNING:root:cannot compute similarity with no input ['oldfashionedmovie']\n",
      "WARNING:root:cannot compute similarity with no input ['wellacted']\n",
      "WARNING:root:cannot compute similarity with no input ['onedimensional']\n",
      "WARNING:root:cannot compute similarity with no input []\n",
      "WARNING:root:cannot compute similarity with no input ['iwai']\n",
      "WARNING:root:cannot compute similarity with no input ['notatallgood']\n",
      "WARNING:root:cannot compute similarity with no input []\n",
      "WARNING:root:cannot compute similarity with no input ['soontobeforgettable']\n",
      "WARNING:root:cannot compute similarity with no input ['frankensteinlike']\n",
      "WARNING:root:cannot compute similarity with no input ['seriousminded']\n",
      "WARNING:root:cannot compute similarity with no input ['genrebusting']\n",
      "WARNING:root:cannot compute similarity with no input ['melville']\n",
      "WARNING:root:cannot compute similarity with no input ['10yearold']\n",
      "WARNING:root:cannot compute similarity with no input ['kozmo']\n",
      "WARNING:root:cannot compute similarity with no input []\n",
      "WARNING:root:cannot compute similarity with no input ['nanette', 'burstein']\n",
      "WARNING:root:cannot compute similarity with no input []\n",
      "WARNING:root:cannot compute similarity with no input ['genrebusting']\n",
      "WARNING:root:cannot compute similarity with no input ['taymor']\n",
      "WARNING:root:cannot compute similarity with no input ['70s']\n",
      "WARNING:root:cannot compute similarity with no input ['lowbudget']\n",
      "WARNING:root:cannot compute similarity with no input ['friel']\n",
      "WARNING:root:cannot compute similarity with no input ['oftenhilarious']\n",
      "WARNING:root:cannot compute similarity with no input ['damagedgoods']\n",
      "WARNING:root:cannot compute similarity with no input ['masterpeice']\n",
      "WARNING:root:cannot compute similarity with no input ['oscarnominated']\n",
      "WARNING:root:cannot compute similarity with no input ['beckett']\n",
      "WARNING:root:cannot compute similarity with no input ['actioncomedy']\n",
      "WARNING:root:cannot compute similarity with no input ['1990']\n",
      "WARNING:root:cannot compute similarity with no input ['thoughtprovoking']\n",
      "WARNING:root:cannot compute similarity with no input ['calibre']\n",
      "WARNING:root:cannot compute similarity with no input ['archibald']\n",
      "WARNING:root:cannot compute similarity with no input []\n",
      "WARNING:root:cannot compute similarity with no input []\n",
      "WARNING:root:cannot compute similarity with no input ['ninetenths']\n",
      "WARNING:root:cannot compute similarity with no input ['pictureperfect']\n",
      "WARNING:root:cannot compute similarity with no input ['singerturned']\n",
      "WARNING:root:cannot compute similarity with no input ['gabbiest', 'giantscreen']\n",
      "WARNING:root:cannot compute similarity with no input ['bmovie']\n",
      "WARNING:root:cannot compute similarity with no input []\n",
      "WARNING:root:cannot compute similarity with no input []\n",
      "WARNING:root:cannot compute similarity with no input ['neeson']\n",
      "WARNING:root:cannot compute similarity with no input []\n",
      "WARNING:root:cannot compute similarity with no input []\n"
     ]
    },
    {
     "name": "stderr",
     "output_type": "stream",
     "text": [
      "WARNING:root:cannot compute similarity with no input ['90plus']\n",
      "WARNING:root:cannot compute similarity with no input ['100']\n",
      "WARNING:root:cannot compute similarity with no input []\n",
      "WARNING:root:cannot compute similarity with no input ['dahmer']\n",
      "WARNING:root:cannot compute similarity with no input ['shadyac']\n",
      "WARNING:root:cannot compute similarity with no input ['girlsbehavingbadly']\n",
      "WARNING:root:cannot compute similarity with no input ['corcuera']\n",
      "WARNING:root:cannot compute similarity with no input ['mctiernan']\n",
      "WARNING:root:cannot compute similarity with no input ['ozu']\n",
      "WARNING:root:cannot compute similarity with no input ['peralta']\n",
      "WARNING:root:cannot compute similarity with no input ['frenchproduced']\n",
      "WARNING:root:cannot compute similarity with no input ['thoughtprovoking']\n",
      "WARNING:root:cannot compute similarity with no input ['rusi', 'vulakoro']\n",
      "WARNING:root:cannot compute similarity with no input ['gatorbashing']\n",
      "WARNING:root:cannot compute similarity with no input []\n",
      "WARNING:root:cannot compute similarity with no input ['zaidan']\n",
      "WARNING:root:cannot compute similarity with no input ['illconceived']\n",
      "WARNING:root:cannot compute similarity with no input []\n",
      "WARNING:root:cannot compute similarity with no input ['hitlerstudy']\n",
      "WARNING:root:cannot compute similarity with no input ['lrb', 'ferrera', 'rrb']\n",
      "WARNING:root:cannot compute similarity with no input ['notsohot']\n",
      "WARNING:root:cannot compute similarity with no input ['gabbiest', 'giantscreen']\n",
      "WARNING:root:cannot compute similarity with no input ['morvern', 'callar']\n",
      "WARNING:root:cannot compute similarity with no input ['wellwritten']\n",
      "WARNING:root:cannot compute similarity with no input ['uwe']\n",
      "WARNING:root:cannot compute similarity with no input ['zaza']\n",
      "WARNING:root:cannot compute similarity with no input ['caddyshack']\n",
      "WARNING:root:cannot compute similarity with no input ['dudsville']\n",
      "WARNING:root:cannot compute similarity with no input []\n",
      "WARNING:root:cannot compute similarity with no input []\n",
      "WARNING:root:cannot compute similarity with no input ['cameopacked']\n",
      "WARNING:root:cannot compute similarity with no input ['70yearold']\n",
      "WARNING:root:cannot compute similarity with no input ['thurman']\n",
      "WARNING:root:cannot compute similarity with no input ['adrien', 'brody']\n",
      "WARNING:root:cannot compute similarity with no input []\n",
      "WARNING:root:cannot compute similarity with no input ['lilia']\n",
      "WARNING:root:cannot compute similarity with no input []\n",
      "WARNING:root:cannot compute similarity with no input ['notatallgood']\n",
      "WARNING:root:cannot compute similarity with no input []\n",
      "WARNING:root:cannot compute similarity with no input ['goodnaturedness']\n",
      "WARNING:root:cannot compute similarity with no input []\n",
      "WARNING:root:cannot compute similarity with no input ['finelooking']\n",
      "WARNING:root:cannot compute similarity with no input ['superstupid']\n",
      "WARNING:root:cannot compute similarity with no input ['wellproduced']\n",
      "WARNING:root:cannot compute similarity with no input ['mamet']\n",
      "WARNING:root:cannot compute similarity with no input ['beerfueled']\n",
      "WARNING:root:cannot compute similarity with no input ['crimeland']\n",
      "WARNING:root:cannot compute similarity with no input ['redneckversusblueblood']\n",
      "WARNING:root:cannot compute similarity with no input ['mindnumbingly']\n",
      "WARNING:root:cannot compute similarity with no input []\n",
      "WARNING:root:cannot compute similarity with no input ['firstrate']\n",
      "WARNING:root:cannot compute similarity with no input ['pellington']\n",
      "WARNING:root:cannot compute similarity with no input []\n",
      "WARNING:root:cannot compute similarity with no input ['videodrome']\n",
      "WARNING:root:cannot compute similarity with no input ['wellwritten']\n",
      "WARNING:root:cannot compute similarity with no input ['playdoh']\n",
      "WARNING:root:cannot compute similarity with no input ['aweinspiring']\n",
      "WARNING:root:cannot compute similarity with no input []\n",
      "WARNING:root:cannot compute similarity with no input ['jagger', 'stoppard']\n",
      "WARNING:root:cannot compute similarity with no input ['hotep']\n",
      "WARNING:root:cannot compute similarity with no input []\n",
      "WARNING:root:cannot compute similarity with no input ['closeddoor', 'hankypanky']\n",
      "WARNING:root:cannot compute similarity with no input []\n",
      "WARNING:root:cannot compute similarity with no input []\n",
      "WARNING:root:cannot compute similarity with no input ['badlyrendered']\n",
      "WARNING:root:cannot compute similarity with no input ['pooperscoopers']\n",
      "WARNING:root:cannot compute similarity with no input ['hammily']\n",
      "WARNING:root:cannot compute similarity with no input []\n",
      "WARNING:root:cannot compute similarity with no input ['21st']\n",
      "WARNING:root:cannot compute similarity with no input ['underinspired']\n",
      "WARNING:root:cannot compute similarity with no input ['ploughing']\n",
      "WARNING:root:cannot compute similarity with no input ['makeupdeep']\n",
      "WARNING:root:cannot compute similarity with no input ['tooconscientious']\n",
      "WARNING:root:cannot compute similarity with no input ['marveilleux']\n",
      "WARNING:root:cannot compute similarity with no input []\n",
      "WARNING:root:cannot compute similarity with no input ['garbus']\n",
      "WARNING:root:cannot compute similarity with no input ['rashomonfordipsticks']\n",
      "WARNING:root:cannot compute similarity with no input []\n",
      "WARNING:root:cannot compute similarity with no input ['highlypraised']\n",
      "WARNING:root:cannot compute similarity with no input ['wellexecuted']\n",
      "WARNING:root:cannot compute similarity with no input ['barnburningly']\n",
      "WARNING:root:cannot compute similarity with no input ['boreathon']\n",
      "WARNING:root:cannot compute similarity with no input ['macdowell']\n",
      "WARNING:root:cannot compute similarity with no input ['lrb', 'rrb']\n",
      "WARNING:root:cannot compute similarity with no input ['macdowell', 'rrb']\n",
      "WARNING:root:cannot compute similarity with no input ['hirosue']\n",
      "WARNING:root:cannot compute similarity with no input ['welldefined']\n",
      "WARNING:root:cannot compute similarity with no input ['bladerunner']\n",
      "WARNING:root:cannot compute similarity with no input ['smallbudget']\n",
      "WARNING:root:cannot compute similarity with no input ['13th']\n",
      "WARNING:root:cannot compute similarity with no input ['runofthemill']\n",
      "WARNING:root:cannot compute similarity with no input ['juliette', 'binoche']\n",
      "WARNING:root:cannot compute similarity with no input ['mesmerised']\n",
      "WARNING:root:cannot compute similarity with no input ['dungpile']\n",
      "WARNING:root:cannot compute similarity with no input []\n",
      "WARNING:root:cannot compute similarity with no input ['70s']\n",
      "WARNING:root:cannot compute similarity with no input ['pre9']\n",
      "WARNING:root:cannot compute similarity with no input ['wellcrafted']\n",
      "WARNING:root:cannot compute similarity with no input ['soso']\n",
      "WARNING:root:cannot compute similarity with no input ['diseaseoftheweek']\n",
      "WARNING:root:cannot compute similarity with no input ['eyeboggling']\n",
      "WARNING:root:cannot compute similarity with no input ['waydowntown']\n",
      "WARNING:root:cannot compute similarity with no input ['overthetop']\n",
      "WARNING:root:cannot compute similarity with no input ['studioproduced']\n",
      "WARNING:root:cannot compute similarity with no input ['schnitzler']\n",
      "WARNING:root:cannot compute similarity with no input ['tornatore']\n",
      "WARNING:root:cannot compute similarity with no input ['lrb', 'rrb']\n",
      "WARNING:root:cannot compute similarity with no input ['soulstripping']\n",
      "WARNING:root:cannot compute similarity with no input ['mustown']\n",
      "WARNING:root:cannot compute similarity with no input ['serry']\n",
      "WARNING:root:cannot compute similarity with no input ['notnearly']\n",
      "WARNING:root:cannot compute similarity with no input ['kieran']\n",
      "WARNING:root:cannot compute similarity with no input ['mustown']\n",
      "WARNING:root:cannot compute similarity with no input []\n",
      "WARNING:root:cannot compute similarity with no input ['equlibrium']\n",
      "WARNING:root:cannot compute similarity with no input ['hatosy']\n",
      "WARNING:root:cannot compute similarity with no input ['fuddyduddy']\n",
      "WARNING:root:cannot compute similarity with no input ['frodo']\n",
      "WARNING:root:cannot compute similarity with no input []\n",
      "WARNING:root:cannot compute similarity with no input ['asnasty']\n",
      "WARNING:root:cannot compute similarity with no input ['grenoble']\n",
      "WARNING:root:cannot compute similarity with no input ['ivans', 'xtc']\n",
      "WARNING:root:cannot compute similarity with no input ['polanski']\n",
      "WARNING:root:cannot compute similarity with no input ['shafer']\n"
     ]
    },
    {
     "name": "stderr",
     "output_type": "stream",
     "text": [
      "WARNING:root:cannot compute similarity with no input ['20']\n",
      "WARNING:root:cannot compute similarity with no input ['swordandsorcery']\n",
      "WARNING:root:cannot compute similarity with no input ['baran']\n",
      "WARNING:root:cannot compute similarity with no input ['rrb']\n",
      "WARNING:root:cannot compute similarity with no input ['spielberg']\n",
      "WARNING:root:cannot compute similarity with no input ['notsobig']\n",
      "WARNING:root:cannot compute similarity with no input ['26']\n",
      "WARNING:root:cannot compute similarity with no input ['baran']\n",
      "WARNING:root:cannot compute similarity with no input ['trashcinema']\n",
      "WARNING:root:cannot compute similarity with no input ['26']\n",
      "WARNING:root:cannot compute similarity with no input ['everlyn', 'sampi']\n",
      "WARNING:root:cannot compute similarity with no input []\n",
      "WARNING:root:cannot compute similarity with no input ['illconstructed']\n",
      "WARNING:root:cannot compute similarity with no input ['caddyshack']\n",
      "WARNING:root:cannot compute similarity with no input ['wellacted']\n",
      "WARNING:root:cannot compute similarity with no input ['orwell']\n",
      "WARNING:root:cannot compute similarity with no input ['yiddish']\n",
      "WARNING:root:cannot compute similarity with no input []\n",
      "WARNING:root:cannot compute similarity with no input ['18']\n",
      "WARNING:root:cannot compute similarity with no input ['parris']\n",
      "WARNING:root:cannot compute similarity with no input ['wellmade']\n",
      "WARNING:root:cannot compute similarity with no input []\n",
      "WARNING:root:cannot compute similarity with no input []\n",
      "WARNING:root:cannot compute similarity with no input ['musker']\n",
      "WARNING:root:cannot compute similarity with no input ['kathie']\n",
      "WARNING:root:cannot compute similarity with no input []\n",
      "WARNING:root:cannot compute similarity with no input []\n",
      "WARNING:root:cannot compute similarity with no input ['paperthin']\n",
      "WARNING:root:cannot compute similarity with no input ['attal']\n",
      "WARNING:root:cannot compute similarity with no input []\n",
      "WARNING:root:cannot compute similarity with no input ['welldeveloped']\n",
      "WARNING:root:cannot compute similarity with no input []\n",
      "WARNING:root:cannot compute similarity with no input []\n",
      "WARNING:root:cannot compute similarity with no input ['talkheavy']\n",
      "WARNING:root:cannot compute similarity with no input ['badmovie']\n",
      "WARNING:root:cannot compute similarity with no input ['kidempowerment']\n",
      "WARNING:root:cannot compute similarity with no input ['pootie']\n",
      "WARNING:root:cannot compute similarity with no input ['highspirited']\n",
      "WARNING:root:cannot compute similarity with no input ['wahlberg']\n",
      "WARNING:root:cannot compute similarity with no input ['dudsville']\n",
      "WARNING:root:cannot compute similarity with no input ['oscarwinning']\n",
      "WARNING:root:cannot compute similarity with no input ['1980s']\n",
      "WARNING:root:cannot compute similarity with no input ['tanovic']\n",
      "WARNING:root:cannot compute similarity with no input ['wonderwhat']\n",
      "WARNING:root:cannot compute similarity with no input ['bertrand', 'tavernier']\n",
      "WARNING:root:cannot compute similarity with no input ['copmovieland']\n",
      "WARNING:root:cannot compute similarity with no input []\n",
      "WARNING:root:cannot compute similarity with no input ['coppola']\n",
      "WARNING:root:cannot compute similarity with no input ['notatallgood']\n",
      "WARNING:root:cannot compute similarity with no input ['directtovideo']\n",
      "WARNING:root:cannot compute similarity with no input ['neofascism']\n",
      "WARNING:root:cannot compute similarity with no input ['revigorates']\n",
      "WARNING:root:cannot compute similarity with no input []\n",
      "WARNING:root:cannot compute similarity with no input ['andmiss']\n",
      "WARNING:root:cannot compute similarity with no input []\n",
      "WARNING:root:cannot compute similarity with no input ['selfflagellation']\n",
      "WARNING:root:cannot compute similarity with no input ['baaaaaaaaad']\n",
      "WARNING:root:cannot compute similarity with no input ['mulan']\n",
      "WARNING:root:cannot compute similarity with no input ['partyhearty']\n",
      "WARNING:root:cannot compute similarity with no input ['funforfun']\n",
      "WARNING:root:cannot compute similarity with no input ['messagemovie']\n",
      "WARNING:root:cannot compute similarity with no input ['pastafagioli']\n",
      "WARNING:root:cannot compute similarity with no input ['testud', 'rrb']\n",
      "WARNING:root:cannot compute similarity with no input ['yawnprovoking']\n",
      "WARNING:root:cannot compute similarity with no input ['lrb', 'notsohot']\n",
      "WARNING:root:cannot compute similarity with no input []\n",
      "WARNING:root:cannot compute similarity with no input ['m16']\n",
      "WARNING:root:cannot compute similarity with no input ['notatallgood']\n",
      "WARNING:root:cannot compute similarity with no input []\n",
      "WARNING:root:cannot compute similarity with no input ['laurice', 'guillen']\n",
      "WARNING:root:cannot compute similarity with no input ['oscarworthy']\n",
      "WARNING:root:cannot compute similarity with no input ['burntout']\n",
      "WARNING:root:cannot compute similarity with no input ['marveilleux']\n",
      "WARNING:root:cannot compute similarity with no input ['comingofage', 'comingout']\n",
      "WARNING:root:cannot compute similarity with no input ['wellcrafted']\n",
      "WARNING:root:cannot compute similarity with no input []\n",
      "WARNING:root:cannot compute similarity with no input []\n",
      "WARNING:root:cannot compute similarity with no input ['stagecrafts']\n",
      "WARNING:root:cannot compute similarity with no input ['wellwrought']\n",
      "WARNING:root:cannot compute similarity with no input ['careerdefining']\n",
      "WARNING:root:cannot compute similarity with no input ['smallbudget']\n",
      "WARNING:root:cannot compute similarity with no input ['lrb', 'rrb']\n",
      "WARNING:root:cannot compute similarity with no input []\n",
      "WARNING:root:cannot compute similarity with no input ['swimfan']\n",
      "WARNING:root:cannot compute similarity with no input ['homeric']\n",
      "WARNING:root:cannot compute similarity with no input []\n",
      "WARNING:root:cannot compute similarity with no input ['longley']\n",
      "WARNING:root:cannot compute similarity with no input ['oscarworthy']\n",
      "WARNING:root:cannot compute similarity with no input ['beyondlame']\n",
      "WARNING:root:cannot compute similarity with no input ['nicolas']\n",
      "WARNING:root:cannot compute similarity with no input ['oftbrilliant']\n",
      "WARNING:root:cannot compute similarity with no input []\n",
      "WARNING:root:cannot compute similarity with no input ['deblois']\n",
      "WARNING:root:cannot compute similarity with no input []\n",
      "WARNING:root:cannot compute similarity with no input []\n",
      "WARNING:root:cannot compute similarity with no input ['feardotcom']\n",
      "WARNING:root:cannot compute similarity with no input ['thoughtprovoking']\n",
      "WARNING:root:cannot compute similarity with no input ['bjarne']\n",
      "WARNING:root:cannot compute similarity with no input []\n",
      "WARNING:root:cannot compute similarity with no input []\n",
      "WARNING:root:cannot compute similarity with no input ['handsoff']\n",
      "WARNING:root:cannot compute similarity with no input ['mamet']\n",
      "WARNING:root:cannot compute similarity with no input ['barris']\n",
      "WARNING:root:cannot compute similarity with no input ['takashi', 'miike']\n",
      "WARNING:root:cannot compute similarity with no input ['throwntogether']\n",
      "WARNING:root:cannot compute similarity with no input []\n",
      "WARNING:root:cannot compute similarity with no input ['threering']\n",
      "WARNING:root:cannot compute similarity with no input ['notsofunny']\n",
      "WARNING:root:cannot compute similarity with no input ['urukhai']\n",
      "WARNING:root:cannot compute similarity with no input []\n",
      "WARNING:root:cannot compute similarity with no input ['oldworld']\n",
      "WARNING:root:cannot compute similarity with no input ['wellexecuted', 'spythriller']\n",
      "WARNING:root:cannot compute similarity with no input ['onestar']\n",
      "WARNING:root:cannot compute similarity with no input ['seagal']\n",
      "WARNING:root:cannot compute similarity with no input ['rothman']\n",
      "WARNING:root:cannot compute similarity with no input ['spiritcrushing']\n",
      "WARNING:root:cannot compute similarity with no input ['pathosfilled']\n",
      "WARNING:root:cannot compute similarity with no input ['moviemovie']\n",
      "WARNING:root:cannot compute similarity with no input ['andrei', 'tarkovsky']\n",
      "WARNING:root:cannot compute similarity with no input ['waferthin']\n",
      "WARNING:root:cannot compute similarity with no input ['outbadact']\n",
      "WARNING:root:cannot compute similarity with no input ['splendidlooking']\n",
      "WARNING:root:cannot compute similarity with no input []\n",
      "WARNING:root:cannot compute similarity with no input ['wellacted', 'wellintentioned']\n",
      "WARNING:root:cannot compute similarity with no input ['seinfeld']\n"
     ]
    },
    {
     "name": "stderr",
     "output_type": "stream",
     "text": [
      "WARNING:root:cannot compute similarity with no input []\n",
      "WARNING:root:cannot compute similarity with no input ['lrb', 'rrb']\n",
      "WARNING:root:cannot compute similarity with no input ['carwreck']\n",
      "WARNING:root:cannot compute similarity with no input []\n"
     ]
    }
   ],
   "source": [
    "def w2v_tokenize_text(text):\n",
    "    tokens = []\n",
    "    for sent in nltk.sent_tokenize(text, language='english'):\n",
    "        for word in nltk.word_tokenize(sent, language='english'):\n",
    "            if len(word) < 2:\n",
    "                continue\n",
    "            tokens.append(word)\n",
    "    return tokens\n",
    "    \n",
    "train, test = train_test_split(df_encoded, test_size=0.3, random_state = 42)\n",
    "\n",
    "test_tokenized = test.apply(lambda r: w2v_tokenize_text(r['Phrase']), axis=1).values\n",
    "train_tokenized = train.apply(lambda r: w2v_tokenize_text(r['Phrase']), axis=1).values\n",
    "\n",
    "X_train_word_average = word_averaging_list(wv,train_tokenized)\n",
    "X_test_word_average = word_averaging_list(wv,test_tokenized)\n"
   ]
  },
  {
   "cell_type": "markdown",
   "metadata": {},
   "source": [
    "### Using a Logistic Regression Classifier"
   ]
  },
  {
   "cell_type": "code",
   "execution_count": 415,
   "metadata": {},
   "outputs": [
    {
     "name": "stdout",
     "output_type": "stream",
     "text": [
      "accuracy 0.5239441930618401\n",
      "              precision    recall  f1-score   support\n",
      "\n",
      "           0       0.56      0.67      0.61      2122\n",
      "           1       0.45      0.32      0.37      2185\n",
      "           2       0.54      0.63      0.58      2127\n",
      "           3       0.42      0.30      0.35      2120\n",
      "           4       0.58      0.72      0.64      2054\n",
      "\n",
      "   micro avg       0.52      0.52      0.52     10608\n",
      "   macro avg       0.51      0.53      0.51     10608\n",
      "weighted avg       0.51      0.52      0.51     10608\n",
      "\n"
     ]
    }
   ],
   "source": [
    "from sklearn.linear_model import LogisticRegression\n",
    "from sklearn.metrics import classification_report\n",
    "logreg = LogisticRegression(n_jobs=1, C=1e5)\n",
    "logreg = logreg.fit(X_train_word_average, train['Sentiment'])\n",
    "y_pred = logreg.predict(X_test_word_average)\n",
    "print('accuracy %s' % accuracy_score(y_pred, test.Sentiment))\n",
    "print(classification_report(test.Sentiment, y_pred,target_names=labels))"
   ]
  },
  {
   "cell_type": "markdown",
   "metadata": {},
   "source": [
    "### Using a Random Forest Classifier"
   ]
  },
  {
   "cell_type": "code",
   "execution_count": 416,
   "metadata": {},
   "outputs": [
    {
     "name": "stdout",
     "output_type": "stream",
     "text": [
      "accuracy 0.4671945701357466\n",
      "              precision    recall  f1-score   support\n",
      "\n",
      "           0       0.53      0.61      0.57      2122\n",
      "           1       0.38      0.37      0.37      2185\n",
      "           2       0.46      0.48      0.47      2127\n",
      "           3       0.37      0.31      0.34      2120\n",
      "           4       0.59      0.56      0.58      2054\n",
      "\n",
      "   micro avg       0.47      0.47      0.47     10608\n",
      "   macro avg       0.46      0.47      0.47     10608\n",
      "weighted avg       0.46      0.47      0.46     10608\n",
      "\n"
     ]
    }
   ],
   "source": [
    "from sklearn.ensemble import RandomForestClassifier\n",
    "rf = RandomForestClassifier()\n",
    "rf = rf.fit(X_train_word_average, train['Sentiment'])\n",
    "y_pred = rf.predict(X_test_word_average)\n",
    "print('accuracy %s' % accuracy_score(y_pred, test.Sentiment))\n",
    "print(classification_report(test.Sentiment, y_pred,target_names=labels))"
   ]
  },
  {
   "cell_type": "markdown",
   "metadata": {},
   "source": [
    "## Doc2Vec approaches at a document level"
   ]
  },
  {
   "cell_type": "code",
   "execution_count": 417,
   "metadata": {},
   "outputs": [],
   "source": [
    "from tqdm import tqdm\n",
    "tqdm.pandas(desc=\"progress-bar\")\n",
    "from gensim.models import Doc2Vec\n",
    "from sklearn import utils\n",
    "import gensim\n",
    "from gensim.models.doc2vec import TaggedDocument\n",
    "import re\n",
    "from nltk.corpus import stopwords\n",
    "from nltk.stem import PorterStemmer\n",
    "\n",
    "\n",
    "def label_sentences(corpus, label_type):\n",
    "    \"\"\"\n",
    "    Gensim's Doc2Vec implementation requires each document/paragraph to have a label associated with it.\n",
    "    We do this by using the TaggedDocument method. The format will be \"TRAIN_i\" or \"TEST_i\" where \"i\" is\n",
    "    a dummy index of the post.\n",
    "    \"\"\"\n",
    "    labeled = []\n",
    "    for i, v in enumerate(corpus):\n",
    "        label = label_type + '_' + str(i)\n",
    "        labeled.append(TaggedDocument(v.split(), [label]))\n",
    "    return labeled\n",
    "\n",
    "stemmer = PorterStemmer()\n",
    "words = stopwords.words(\"english\")\n",
    "df_encoded['Phrase'] = df_encoded['Phrase'].apply(lambda x: \" \".join([stemmer.stem(i) for i in re.sub(\"[^a-zA-Z]\", \" \", x).split() if i not in words]).lower())\n",
    "\n",
    "X_train, X_test, y_train, y_test = train_test_split(df_encoded.Phrase, df_encoded.Sentiment, random_state=0, test_size=0.3)\n",
    "X_train = label_sentences(X_train, 'Train')\n",
    "X_test = label_sentences(X_test, 'Test')\n",
    "all_data = X_train + X_test"
   ]
  },
  {
   "cell_type": "code",
   "execution_count": 418,
   "metadata": {},
   "outputs": [
    {
     "data": {
      "text/plain": [
       "[TaggedDocument(words=['urgent', 'question'], tags=['Train_0']),\n",
       " TaggedDocument(words=['feel', 'trip', 'great', 'deal', 'fun'], tags=['Train_1'])]"
      ]
     },
     "execution_count": 418,
     "metadata": {},
     "output_type": "execute_result"
    }
   ],
   "source": [
    "all_data[:2]"
   ]
  },
  {
   "cell_type": "code",
   "execution_count": 419,
   "metadata": {},
   "outputs": [
    {
     "name": "stderr",
     "output_type": "stream",
     "text": [
      "100%|██████████| 35360/35360 [00:00<00:00, 963456.17it/s]\n",
      "100%|██████████| 35360/35360 [00:00<00:00, 1832239.04it/s]\n",
      "WARNING:gensim.models.base_any2vec:under 10 jobs per worker: consider setting a smaller `batch_words' for smoother alpha decay\n",
      "100%|██████████| 35360/35360 [00:00<00:00, 2495215.00it/s]\n",
      "WARNING:gensim.models.base_any2vec:under 10 jobs per worker: consider setting a smaller `batch_words' for smoother alpha decay\n",
      "100%|██████████| 35360/35360 [00:00<00:00, 2818414.15it/s]\n",
      "WARNING:gensim.models.base_any2vec:under 10 jobs per worker: consider setting a smaller `batch_words' for smoother alpha decay\n",
      "100%|██████████| 35360/35360 [00:00<00:00, 2509060.89it/s]\n",
      "WARNING:gensim.models.base_any2vec:under 10 jobs per worker: consider setting a smaller `batch_words' for smoother alpha decay\n",
      "100%|██████████| 35360/35360 [00:00<00:00, 1524668.35it/s]\n",
      "WARNING:gensim.models.base_any2vec:under 10 jobs per worker: consider setting a smaller `batch_words' for smoother alpha decay\n",
      "100%|██████████| 35360/35360 [00:00<00:00, 2626500.25it/s]\n",
      "WARNING:gensim.models.base_any2vec:under 10 jobs per worker: consider setting a smaller `batch_words' for smoother alpha decay\n",
      "100%|██████████| 35360/35360 [00:00<00:00, 1911859.51it/s]\n",
      "WARNING:gensim.models.base_any2vec:under 10 jobs per worker: consider setting a smaller `batch_words' for smoother alpha decay\n",
      "100%|██████████| 35360/35360 [00:00<00:00, 2270905.84it/s]\n",
      "WARNING:gensim.models.base_any2vec:under 10 jobs per worker: consider setting a smaller `batch_words' for smoother alpha decay\n",
      "100%|██████████| 35360/35360 [00:00<00:00, 2797943.47it/s]\n",
      "WARNING:gensim.models.base_any2vec:under 10 jobs per worker: consider setting a smaller `batch_words' for smoother alpha decay\n",
      "100%|██████████| 35360/35360 [00:00<00:00, 2502878.86it/s]\n",
      "WARNING:gensim.models.base_any2vec:under 10 jobs per worker: consider setting a smaller `batch_words' for smoother alpha decay\n",
      "100%|██████████| 35360/35360 [00:00<00:00, 2424088.61it/s]\n",
      "WARNING:gensim.models.base_any2vec:under 10 jobs per worker: consider setting a smaller `batch_words' for smoother alpha decay\n",
      "100%|██████████| 35360/35360 [00:00<00:00, 1281810.39it/s]\n",
      "WARNING:gensim.models.base_any2vec:under 10 jobs per worker: consider setting a smaller `batch_words' for smoother alpha decay\n",
      "100%|██████████| 35360/35360 [00:00<00:00, 1591076.33it/s]\n",
      "WARNING:gensim.models.base_any2vec:under 10 jobs per worker: consider setting a smaller `batch_words' for smoother alpha decay\n",
      "100%|██████████| 35360/35360 [00:00<00:00, 2492573.06it/s]\n",
      "WARNING:gensim.models.base_any2vec:under 10 jobs per worker: consider setting a smaller `batch_words' for smoother alpha decay\n",
      "100%|██████████| 35360/35360 [00:00<00:00, 2548423.28it/s]\n",
      "WARNING:gensim.models.base_any2vec:under 10 jobs per worker: consider setting a smaller `batch_words' for smoother alpha decay\n",
      "100%|██████████| 35360/35360 [00:00<00:00, 1839556.82it/s]\n",
      "WARNING:gensim.models.base_any2vec:under 10 jobs per worker: consider setting a smaller `batch_words' for smoother alpha decay\n",
      "100%|██████████| 35360/35360 [00:00<00:00, 2406077.05it/s]\n",
      "WARNING:gensim.models.base_any2vec:under 10 jobs per worker: consider setting a smaller `batch_words' for smoother alpha decay\n",
      "100%|██████████| 35360/35360 [00:00<00:00, 1913314.71it/s]\n",
      "WARNING:gensim.models.base_any2vec:under 10 jobs per worker: consider setting a smaller `batch_words' for smoother alpha decay\n",
      "100%|██████████| 35360/35360 [00:00<00:00, 2579673.51it/s]\n",
      "WARNING:gensim.models.base_any2vec:under 10 jobs per worker: consider setting a smaller `batch_words' for smoother alpha decay\n",
      "100%|██████████| 35360/35360 [00:00<00:00, 2723544.02it/s]\n",
      "WARNING:gensim.models.base_any2vec:under 10 jobs per worker: consider setting a smaller `batch_words' for smoother alpha decay\n",
      "100%|██████████| 35360/35360 [00:00<00:00, 2475845.77it/s]\n",
      "WARNING:gensim.models.base_any2vec:under 10 jobs per worker: consider setting a smaller `batch_words' for smoother alpha decay\n",
      "100%|██████████| 35360/35360 [00:00<00:00, 2480151.67it/s]\n",
      "WARNING:gensim.models.base_any2vec:under 10 jobs per worker: consider setting a smaller `batch_words' for smoother alpha decay\n",
      "100%|██████████| 35360/35360 [00:00<00:00, 2467032.44it/s]\n",
      "WARNING:gensim.models.base_any2vec:under 10 jobs per worker: consider setting a smaller `batch_words' for smoother alpha decay\n",
      "100%|██████████| 35360/35360 [00:00<00:00, 2187729.96it/s]\n",
      "WARNING:gensim.models.base_any2vec:under 10 jobs per worker: consider setting a smaller `batch_words' for smoother alpha decay\n",
      "100%|██████████| 35360/35360 [00:00<00:00, 2735146.60it/s]\n",
      "WARNING:gensim.models.base_any2vec:under 10 jobs per worker: consider setting a smaller `batch_words' for smoother alpha decay\n",
      "100%|██████████| 35360/35360 [00:00<00:00, 2256532.36it/s]\n",
      "WARNING:gensim.models.base_any2vec:under 10 jobs per worker: consider setting a smaller `batch_words' for smoother alpha decay\n",
      "100%|██████████| 35360/35360 [00:00<00:00, 1627229.62it/s]\n",
      "WARNING:gensim.models.base_any2vec:under 10 jobs per worker: consider setting a smaller `batch_words' for smoother alpha decay\n",
      "100%|██████████| 35360/35360 [00:00<00:00, 2206805.78it/s]\n",
      "WARNING:gensim.models.base_any2vec:under 10 jobs per worker: consider setting a smaller `batch_words' for smoother alpha decay\n",
      "100%|██████████| 35360/35360 [00:00<00:00, 1965419.95it/s]\n",
      "WARNING:gensim.models.base_any2vec:under 10 jobs per worker: consider setting a smaller `batch_words' for smoother alpha decay\n",
      "100%|██████████| 35360/35360 [00:00<00:00, 2631720.16it/s]\n",
      "WARNING:gensim.models.base_any2vec:under 10 jobs per worker: consider setting a smaller `batch_words' for smoother alpha decay\n"
     ]
    }
   ],
   "source": [
    "model_dbow = Doc2Vec(dm=0, vector_size=300, negative=5, min_count=1, alpha=0.065, min_alpha=0.065)\n",
    "model_dbow.build_vocab([x for x in tqdm(all_data)])\n",
    "\n",
    "for epoch in range(30):\n",
    "    model_dbow.train(utils.shuffle([x for x in tqdm(all_data)]), total_examples=len(all_data), epochs=1)\n",
    "    model_dbow.alpha -= 0.002\n",
    "    model_dbow.min_alpha = model_dbow.alpha"
   ]
  },
  {
   "cell_type": "code",
   "execution_count": 376,
   "metadata": {},
   "outputs": [],
   "source": [
    " def get_vectors(model, corpus_size, vectors_size, vectors_type):\n",
    "    \"\"\"\n",
    "    Get vectors from trained doc2vec model\n",
    "    :param doc2vec_model: Trained Doc2Vec model\n",
    "    :param corpus_size: Size of the data\n",
    "    :param vectors_size: Size of the embedding vectors\n",
    "    :param vectors_type: Training or Testing vectors\n",
    "    :return: list of vectors\n",
    "    \"\"\"\n",
    "    vectors = np.zeros((corpus_size, vectors_size))\n",
    "    for i in range(0, corpus_size):\n",
    "        prefix = vectors_type + '_' + str(i)\n",
    "        vectors[i] = model.docvecs[prefix]\n",
    "    return vectors\n",
    "    \n",
    "train_vectors_dbow = get_vectors(model_dbow, len(X_train), 300, 'Train')\n",
    "test_vectors_dbow = get_vectors(model_dbow, len(X_test), 300, 'Test')"
   ]
  },
  {
   "cell_type": "markdown",
   "metadata": {},
   "source": [
    "### Using a Logistic Regression Classifier"
   ]
  },
  {
   "cell_type": "code",
   "execution_count": 377,
   "metadata": {},
   "outputs": [
    {
     "name": "stdout",
     "output_type": "stream",
     "text": [
      "accuracy 0.4549396681749623\n",
      "              precision    recall  f1-score   support\n",
      "\n",
      "           0       0.52      0.60      0.56      2103\n",
      "           1       0.35      0.23      0.27      2143\n",
      "           2       0.41      0.57      0.48      2102\n",
      "           3       0.37      0.25      0.30      2112\n",
      "           4       0.55      0.63      0.59      2148\n",
      "\n",
      "   micro avg       0.45      0.45      0.45     10608\n",
      "   macro avg       0.44      0.46      0.44     10608\n",
      "weighted avg       0.44      0.45      0.44     10608\n",
      "\n"
     ]
    }
   ],
   "source": [
    "logreg = LogisticRegression(n_jobs=1, C=1e5)\n",
    "logreg.fit(train_vectors_dbow, y_train)\n",
    "logreg = logreg.fit(train_vectors_dbow, y_train)\n",
    "y_pred = logreg.predict(test_vectors_dbow)\n",
    "print('accuracy %s' % accuracy_score(y_pred, y_test))\n",
    "print(classification_report(y_test, y_pred,target_names=labels))"
   ]
  },
  {
   "cell_type": "markdown",
   "metadata": {},
   "source": [
    "### Using a Random Forest Classifier"
   ]
  },
  {
   "cell_type": "code",
   "execution_count": 378,
   "metadata": {},
   "outputs": [
    {
     "name": "stdout",
     "output_type": "stream",
     "text": [
      "accuracy 0.4549396681749623\n",
      "              precision    recall  f1-score   support\n",
      "\n",
      "           0       0.52      0.60      0.56      2103\n",
      "           1       0.35      0.23      0.27      2143\n",
      "           2       0.41      0.57      0.48      2102\n",
      "           3       0.37      0.25      0.30      2112\n",
      "           4       0.55      0.63      0.59      2148\n",
      "\n",
      "   micro avg       0.45      0.45      0.45     10608\n",
      "   macro avg       0.44      0.46      0.44     10608\n",
      "weighted avg       0.44      0.45      0.44     10608\n",
      "\n"
     ]
    }
   ],
   "source": [
    "rf = RandomForestClassifier()\n",
    "rf.fit(train_vectors_dbow, y_train)\n",
    "rf = logreg.fit(train_vectors_dbow, y_train)\n",
    "y_pred = logreg.predict(test_vectors_dbow)\n",
    "print('accuracy %s' % accuracy_score(y_pred, y_test))\n",
    "print(classification_report(y_test, y_pred,target_names=labels))"
   ]
  },
  {
   "cell_type": "markdown",
   "metadata": {
    "_uuid": "a6eb182fd71e0de1eca715dd412bb0f599a39022"
   },
   "source": [
    "## Building more Keras models"
   ]
  },
  {
   "cell_type": "code",
   "execution_count": 452,
   "metadata": {},
   "outputs": [
    {
     "data": {
      "text/plain": [
       "32"
      ]
     },
     "execution_count": 452,
     "metadata": {},
     "output_type": "execute_result"
    }
   ],
   "source": [
    "train=pd.read_csv('train.tsv',sep='\\t')\n",
    "test=pd.read_csv('test.tsv',sep='\\t')\n",
    "sub=pd.read_csv('sampleSubmission.csv')\n",
    "test['Sentiment']=-999\n",
    "df=pd.concat([train,test],ignore_index=True)\n",
    "del train,test\n",
    "gc.collect()\n"
   ]
  },
  {
   "cell_type": "code",
   "execution_count": 453,
   "metadata": {},
   "outputs": [],
   "source": [
    "from nltk.tokenize import word_tokenize\n",
    "from nltk import FreqDist\n",
    "from nltk.stem import SnowballStemmer,WordNetLemmatizer\n",
    "stemmer=SnowballStemmer('english')\n",
    "lemma=WordNetLemmatizer()\n",
    "from string import punctuation\n",
    "import re"
   ]
  },
  {
   "cell_type": "code",
   "execution_count": 454,
   "metadata": {},
   "outputs": [],
   "source": [
    "df['clean_review']=clean_review(df.Phrase.values)\n",
    "df_train=df[df.Sentiment!=-999]\n",
    "df_test=df[df.Sentiment==-999]\n",
    "df_test.drop('Sentiment',axis=1,inplace=True)\n",
    "del df\n",
    "gc.collect()\n",
    "train_text=df_train.clean_review.values\n",
    "test_text=df_test.clean_review.values\n",
    "target=df_train.Sentiment.values\n",
    "y=to_categorical(target)\n",
    "X_train_text,X_val_text,y_train,y_val=train_test_split(train_text,y,test_size=0.2,stratify=y,random_state=1)\n",
    "\n"
   ]
  },
  {
   "cell_type": "code",
   "execution_count": 455,
   "metadata": {},
   "outputs": [],
   "source": [
    "all_words=' '.join(X_train_text)\n",
    "all_words=word_tokenize(all_words)\n",
    "dist=FreqDist(all_words)\n",
    "num_unique_word=len(dist)"
   ]
  },
  {
   "cell_type": "code",
   "execution_count": 456,
   "metadata": {},
   "outputs": [
    {
     "data": {
      "text/plain": [
       "48"
      ]
     },
     "execution_count": 456,
     "metadata": {},
     "output_type": "execute_result"
    }
   ],
   "source": [
    "r_len=[]\n",
    "for text in X_train_text:\n",
    "    word=word_tokenize(text)\n",
    "    l=len(word)\n",
    "    r_len.append(l)\n",
    "    \n",
    "MAX_REVIEW_LEN=np.max(r_len)\n",
    "MAX_REVIEW_LEN"
   ]
  },
  {
   "cell_type": "code",
   "execution_count": 457,
   "metadata": {
    "_uuid": "544d2cedfa28005b9ec290944573cbbaf87a05b1"
   },
   "outputs": [],
   "source": [
    "max_features = num_unique_word\n",
    "max_words = MAX_REVIEW_LEN\n",
    "batch_size = 128\n",
    "epochs = 10\n",
    "num_classes=5"
   ]
  },
  {
   "cell_type": "code",
   "execution_count": 458,
   "metadata": {
    "_uuid": "cbbbadc244b31bb2f0513bbd79c867cf976470e8"
   },
   "outputs": [],
   "source": [
    "#Tokenization\n",
    "tokenizer = Tokenizer(num_words=max_features)\n",
    "tokenizer.fit_on_texts(list(X_train_text))\n",
    "X_train = tokenizer.texts_to_sequences(X_train_text)\n",
    "X_val = tokenizer.texts_to_sequences(X_val_text)\n",
    "X_test = tokenizer.texts_to_sequences(test_text)"
   ]
  },
  {
   "cell_type": "code",
   "execution_count": 459,
   "metadata": {
    "_uuid": "11fc6c41742b656741a4cd2e74a199fc11bb2c93"
   },
   "outputs": [
    {
     "name": "stdout",
     "output_type": "stream",
     "text": [
      "(124848, 48) (31212, 48) (66292, 48)\n"
     ]
    }
   ],
   "source": [
    "# Pad the data\n",
    "X_train = sequence.pad_sequences(X_train, maxlen=max_words)\n",
    "X_val = sequence.pad_sequences(X_val, maxlen=max_words)\n",
    "X_test = sequence.pad_sequences(X_test, maxlen=max_words)\n",
    "print(X_train.shape,X_val.shape,X_test.shape)"
   ]
  },
  {
   "cell_type": "markdown",
   "metadata": {
    "_uuid": "230127402dc1492b2c4e20b8b2e0b06e4fab87a1",
    "collapsed": true
   },
   "source": [
    "### LSTM model"
   ]
  },
  {
   "cell_type": "code",
   "execution_count": 205,
   "metadata": {
    "_uuid": "eee2bef630ebb6ee8fbb1ca0abf6bc2c2b432c7f",
    "scrolled": true
   },
   "outputs": [
    {
     "name": "stdout",
     "output_type": "stream",
     "text": [
      "Model: \"sequential_24\"\n",
      "_________________________________________________________________\n",
      "Layer (type)                 Output Shape              Param #   \n",
      "=================================================================\n",
      "embedding_7 (Embedding)      (None, None, 100)         1374000   \n",
      "_________________________________________________________________\n",
      "lstm_13 (LSTM)               (None, None, 64)          42240     \n",
      "_________________________________________________________________\n",
      "lstm_14 (LSTM)               (None, 32)                12416     \n",
      "_________________________________________________________________\n",
      "dense_68 (Dense)             (None, 5)                 165       \n",
      "=================================================================\n",
      "Total params: 1,428,821\n",
      "Trainable params: 1,428,821\n",
      "Non-trainable params: 0\n",
      "_________________________________________________________________\n"
     ]
    }
   ],
   "source": [
    "model1=Sequential()\n",
    "model1.add(Embedding(max_features,100,mask_zero=True))\n",
    "model1.add(LSTM(64,dropout=0.4, recurrent_dropout=0.4,return_sequences=True))\n",
    "model1.add(LSTM(32,dropout=0.5, recurrent_dropout=0.5,return_sequences=False))\n",
    "model1.add(Dense(num_classes,activation='softmax'))\n",
    "model1.compile(loss='categorical_crossentropy',optimizer=Adam(lr=0.001),metrics=['accuracy'])\n",
    "model1.summary()\n",
    "cp=ModelCheckpoint('LSTM.hdf5',monitor='val_acc',verbose=1,save_best_only=True)"
   ]
  },
  {
   "cell_type": "code",
   "execution_count": 206,
   "metadata": {
    "_uuid": "6433a2d5da4948a1f29c58d3e451e50c620e6e9c",
    "scrolled": true
   },
   "outputs": [
    {
     "name": "stdout",
     "output_type": "stream",
     "text": [
      "Train on 124848 samples, validate on 31212 samples\n",
      "Epoch 1/10\n",
      "124848/124848 [==============================] - 126s 1ms/step - loss: 1.2559 - acc: 0.5272 - val_loss: 1.0296 - val_acc: 0.5954\n",
      "\n",
      "Epoch 00001: val_acc improved from -inf to 0.59541, saving model to LSTM.hdf5\n",
      "Epoch 2/10\n",
      "124848/124848 [==============================] - 120s 965us/step - loss: 0.9193 - acc: 0.6293 - val_loss: 0.8699 - val_acc: 0.6483\n",
      "\n",
      "Epoch 00002: val_acc improved from 0.59541 to 0.64831, saving model to LSTM.hdf5\n",
      "Epoch 3/10\n",
      "124848/124848 [==============================] - 121s 968us/step - loss: 0.8134 - acc: 0.6678 - val_loss: 0.8457 - val_acc: 0.6534\n",
      "\n",
      "Epoch 00003: val_acc improved from 0.64831 to 0.65340, saving model to LSTM.hdf5\n",
      "Epoch 4/10\n",
      "124848/124848 [==============================] - 123s 988us/step - loss: 0.7692 - acc: 0.6836 - val_loss: 0.8434 - val_acc: 0.6550\n",
      "\n",
      "Epoch 00004: val_acc improved from 0.65340 to 0.65497, saving model to LSTM.hdf5\n",
      "Epoch 5/10\n",
      "124848/124848 [==============================] - 140s 1ms/step - loss: 0.7440 - acc: 0.6918 - val_loss: 0.8393 - val_acc: 0.6605\n",
      "\n",
      "Epoch 00005: val_acc improved from 0.65497 to 0.66045, saving model to LSTM.hdf5\n",
      "Epoch 6/10\n",
      "124848/124848 [==============================] - 127s 1ms/step - loss: 0.7215 - acc: 0.7011 - val_loss: 0.8401 - val_acc: 0.6590\n",
      "\n",
      "Epoch 00006: val_acc did not improve from 0.66045\n",
      "Epoch 7/10\n",
      "124848/124848 [==============================] - 127s 1ms/step - loss: 0.7055 - acc: 0.7065 - val_loss: 0.8396 - val_acc: 0.6610\n",
      "\n",
      "Epoch 00007: val_acc improved from 0.66045 to 0.66100, saving model to LSTM.hdf5\n",
      "Epoch 8/10\n",
      "124848/124848 [==============================] - 141s 1ms/step - loss: 0.6897 - acc: 0.7130 - val_loss: 0.8424 - val_acc: 0.6585\n",
      "\n",
      "Epoch 00008: val_acc did not improve from 0.66100\n",
      "Epoch 9/10\n",
      "124848/124848 [==============================] - 126s 1ms/step - loss: 0.6760 - acc: 0.7179 - val_loss: 0.8438 - val_acc: 0.6620\n",
      "\n",
      "Epoch 00009: val_acc improved from 0.66100 to 0.66202, saving model to LSTM.hdf5\n",
      "Epoch 10/10\n",
      "124848/124848 [==============================] - 138s 1ms/step - loss: 0.6640 - acc: 0.7227 - val_loss: 0.8544 - val_acc: 0.6602\n",
      "\n",
      "Epoch 00010: val_acc did not improve from 0.66202\n",
      "CPU times: user 54min 19s, sys: 15min 43s, total: 1h 10min 3s\n",
      "Wall time: 21min 32s\n"
     ]
    }
   ],
   "source": [
    "%%time\n",
    "history1=model1.fit(X_train, y_train, validation_data=(X_val, y_val),epochs=epochs, batch_size=512, verbose=1, callbacks=[cp])"
   ]
  },
  {
   "cell_type": "code",
   "execution_count": 207,
   "metadata": {
    "_uuid": "2057e1156a660f41f59dfa4d5fd2af55346d0036"
   },
   "outputs": [
    {
     "name": "stdout",
     "output_type": "stream",
     "text": [
      "66292/66292 [==============================] - 49s 739us/step\n"
     ]
    }
   ],
   "source": [
    "y_pred1=model1.predict_classes(X_test,verbose=1)"
   ]
  },
  {
   "cell_type": "code",
   "execution_count": 208,
   "metadata": {
    "_uuid": "5cd6a2c639e4ba2d1401d912907480cc0152d15a"
   },
   "outputs": [
    {
     "data": {
      "text/html": [
       "<div>\n",
       "<style scoped>\n",
       "    .dataframe tbody tr th:only-of-type {\n",
       "        vertical-align: middle;\n",
       "    }\n",
       "\n",
       "    .dataframe tbody tr th {\n",
       "        vertical-align: top;\n",
       "    }\n",
       "\n",
       "    .dataframe thead th {\n",
       "        text-align: right;\n",
       "    }\n",
       "</style>\n",
       "<table border=\"1\" class=\"dataframe\">\n",
       "  <thead>\n",
       "    <tr style=\"text-align: right;\">\n",
       "      <th></th>\n",
       "      <th>PhraseId</th>\n",
       "      <th>Sentiment</th>\n",
       "    </tr>\n",
       "  </thead>\n",
       "  <tbody>\n",
       "    <tr>\n",
       "      <th>0</th>\n",
       "      <td>156061</td>\n",
       "      <td>3</td>\n",
       "    </tr>\n",
       "    <tr>\n",
       "      <th>1</th>\n",
       "      <td>156062</td>\n",
       "      <td>3</td>\n",
       "    </tr>\n",
       "    <tr>\n",
       "      <th>2</th>\n",
       "      <td>156063</td>\n",
       "      <td>2</td>\n",
       "    </tr>\n",
       "    <tr>\n",
       "      <th>3</th>\n",
       "      <td>156064</td>\n",
       "      <td>3</td>\n",
       "    </tr>\n",
       "    <tr>\n",
       "      <th>4</th>\n",
       "      <td>156065</td>\n",
       "      <td>3</td>\n",
       "    </tr>\n",
       "  </tbody>\n",
       "</table>\n",
       "</div>"
      ],
      "text/plain": [
       "   PhraseId  Sentiment\n",
       "0  156061    3        \n",
       "1  156062    3        \n",
       "2  156063    2        \n",
       "3  156064    3        \n",
       "4  156065    3        "
      ]
     },
     "execution_count": 208,
     "metadata": {},
     "output_type": "execute_result"
    }
   ],
   "source": [
    "sub.Sentiment=y_pred1\n",
    "sub.to_csv('sub1.csv',index=False)\n",
    "sub.head()"
   ]
  },
  {
   "cell_type": "markdown",
   "metadata": {
    "_uuid": "07d1c0098a602aecefb68f3bafeacbca963ca997"
   },
   "source": [
    "### CNN model"
   ]
  },
  {
   "cell_type": "code",
   "execution_count": 219,
   "metadata": {
    "_uuid": "4460dbd9569b4aba47f77785384f095647ed657b"
   },
   "outputs": [
    {
     "name": "stdout",
     "output_type": "stream",
     "text": [
      "Model: \"sequential_29\"\n",
      "_________________________________________________________________\n",
      "Layer (type)                 Output Shape              Param #   \n",
      "=================================================================\n",
      "embedding_12 (Embedding)     (None, 48, 100)           1374000   \n",
      "_________________________________________________________________\n",
      "dropout_33 (Dropout)         (None, 48, 100)           0         \n",
      "_________________________________________________________________\n",
      "conv1d_5 (Conv1D)            (None, 48, 64)            19264     \n",
      "_________________________________________________________________\n",
      "global_max_pooling1d_5 (Glob (None, 64)                0         \n",
      "_________________________________________________________________\n",
      "dense_77 (Dense)             (None, 128)               8320      \n",
      "_________________________________________________________________\n",
      "dropout_34 (Dropout)         (None, 128)               0         \n",
      "_________________________________________________________________\n",
      "dense_78 (Dense)             (None, 5)                 645       \n",
      "=================================================================\n",
      "Total params: 1,402,229\n",
      "Trainable params: 1,402,229\n",
      "Non-trainable params: 0\n",
      "_________________________________________________________________\n"
     ]
    }
   ],
   "source": [
    "model2= Sequential()\n",
    "model2.add(Embedding(max_features,100,input_length=max_words))\n",
    "model2.add(Dropout(0.2))\n",
    "\n",
    "model2.add(Conv1D(64,kernel_size=3,padding='same',activation='relu',strides=1))\n",
    "model2.add(GlobalMaxPooling1D())\n",
    "\n",
    "model2.add(Dense(128,activation='relu'))\n",
    "model2.add(Dropout(0.2))\n",
    "\n",
    "model2.add(Dense(num_classes,activation='softmax'))\n",
    "\n",
    "\n",
    "model2.compile(loss='categorical_crossentropy',optimizer='adam',metrics=['accuracy'])\n",
    "cp=ModelCheckpoint('model_cnn.hdf5',monitor='val_acc',verbose=1,save_best_only=True)\n",
    "\n",
    "model2.summary()"
   ]
  },
  {
   "cell_type": "code",
   "execution_count": 220,
   "metadata": {
    "_uuid": "f46171f0090d24271183fb8abfddea51759e9db0",
    "scrolled": true
   },
   "outputs": [
    {
     "name": "stdout",
     "output_type": "stream",
     "text": [
      "Train on 124848 samples, validate on 31212 samples\n",
      "Epoch 1/10\n",
      "124848/124848 [==============================] - 50s 403us/step - loss: 0.9996 - acc: 0.5993 - val_loss: 0.8710 - val_acc: 0.6479\n",
      "\n",
      "Epoch 00001: val_acc improved from -inf to 0.64789, saving model to model_cnn_lstm_128_long.hdf5\n",
      "Epoch 2/10\n",
      "124848/124848 [==============================] - 47s 376us/step - loss: 0.7840 - acc: 0.6773 - val_loss: 0.8084 - val_acc: 0.6666\n",
      "\n",
      "Epoch 00002: val_acc improved from 0.64789 to 0.66657, saving model to model_cnn_lstm_128_long.hdf5\n",
      "Epoch 3/10\n",
      "124848/124848 [==============================] - 48s 385us/step - loss: 0.7032 - acc: 0.7072 - val_loss: 0.8039 - val_acc: 0.6617\n",
      "\n",
      "Epoch 00003: val_acc did not improve from 0.66657\n",
      "Epoch 4/10\n",
      "124848/124848 [==============================] - 51s 409us/step - loss: 0.6487 - acc: 0.7291 - val_loss: 0.8054 - val_acc: 0.6685\n",
      "\n",
      "Epoch 00004: val_acc improved from 0.66657 to 0.66846, saving model to model_cnn_lstm_128_long.hdf5\n",
      "Epoch 5/10\n",
      "124848/124848 [==============================] - 50s 400us/step - loss: 0.6051 - acc: 0.7444 - val_loss: 0.8305 - val_acc: 0.6631\n",
      "\n",
      "Epoch 00005: val_acc did not improve from 0.66846\n",
      "Epoch 6/10\n",
      "124848/124848 [==============================] - 50s 404us/step - loss: 0.5721 - acc: 0.7575 - val_loss: 0.8577 - val_acc: 0.6565\n",
      "\n",
      "Epoch 00006: val_acc did not improve from 0.66846\n",
      "Epoch 7/10\n",
      "124848/124848 [==============================] - 50s 397us/step - loss: 0.5434 - acc: 0.7691 - val_loss: 0.8970 - val_acc: 0.6583\n",
      "\n",
      "Epoch 00007: val_acc did not improve from 0.66846\n",
      "Epoch 8/10\n",
      "124848/124848 [==============================] - 50s 397us/step - loss: 0.5199 - acc: 0.7769 - val_loss: 0.9213 - val_acc: 0.6566\n",
      "\n",
      "Epoch 00008: val_acc did not improve from 0.66846\n",
      "Epoch 9/10\n",
      "124848/124848 [==============================] - 52s 416us/step - loss: 0.5001 - acc: 0.7849 - val_loss: 0.9635 - val_acc: 0.6584\n",
      "\n",
      "Epoch 00009: val_acc did not improve from 0.66846\n",
      "Epoch 10/10\n",
      "124848/124848 [==============================] - 58s 462us/step - loss: 0.4811 - acc: 0.7921 - val_loss: 0.9970 - val_acc: 0.6567\n",
      "\n",
      "Epoch 00010: val_acc did not improve from 0.66846\n",
      "CPU times: user 18min 36s, sys: 3min 20s, total: 21min 57s\n",
      "Wall time: 8min 28s\n"
     ]
    }
   ],
   "source": [
    "%%time\n",
    "history2=model2.fit(X_train, y_train, validation_data=(X_val, y_val),epochs=epochs, batch_size=batch_size, verbose=1, callbacks=[cp])"
   ]
  },
  {
   "cell_type": "code",
   "execution_count": 221,
   "metadata": {
    "_uuid": "bcc7476d798449d3bcecb6427445af551f41c1e8"
   },
   "outputs": [
    {
     "name": "stdout",
     "output_type": "stream",
     "text": [
      "66292/66292 [==============================] - 7s 105us/step\n"
     ]
    }
   ],
   "source": [
    "y_pred2=model2.predict_classes(X_test, verbose=1)"
   ]
  },
  {
   "cell_type": "code",
   "execution_count": 222,
   "metadata": {
    "_uuid": "2463b9a6795979a4a8f1e2724df0f7706f87d646"
   },
   "outputs": [
    {
     "data": {
      "text/html": [
       "<div>\n",
       "<style scoped>\n",
       "    .dataframe tbody tr th:only-of-type {\n",
       "        vertical-align: middle;\n",
       "    }\n",
       "\n",
       "    .dataframe tbody tr th {\n",
       "        vertical-align: top;\n",
       "    }\n",
       "\n",
       "    .dataframe thead th {\n",
       "        text-align: right;\n",
       "    }\n",
       "</style>\n",
       "<table border=\"1\" class=\"dataframe\">\n",
       "  <thead>\n",
       "    <tr style=\"text-align: right;\">\n",
       "      <th></th>\n",
       "      <th>PhraseId</th>\n",
       "      <th>Sentiment</th>\n",
       "    </tr>\n",
       "  </thead>\n",
       "  <tbody>\n",
       "    <tr>\n",
       "      <th>0</th>\n",
       "      <td>156061</td>\n",
       "      <td>3</td>\n",
       "    </tr>\n",
       "    <tr>\n",
       "      <th>1</th>\n",
       "      <td>156062</td>\n",
       "      <td>3</td>\n",
       "    </tr>\n",
       "    <tr>\n",
       "      <th>2</th>\n",
       "      <td>156063</td>\n",
       "      <td>2</td>\n",
       "    </tr>\n",
       "    <tr>\n",
       "      <th>3</th>\n",
       "      <td>156064</td>\n",
       "      <td>3</td>\n",
       "    </tr>\n",
       "    <tr>\n",
       "      <th>4</th>\n",
       "      <td>156065</td>\n",
       "      <td>3</td>\n",
       "    </tr>\n",
       "  </tbody>\n",
       "</table>\n",
       "</div>"
      ],
      "text/plain": [
       "   PhraseId  Sentiment\n",
       "0  156061    3        \n",
       "1  156062    3        \n",
       "2  156063    2        \n",
       "3  156064    3        \n",
       "4  156065    3        "
      ]
     },
     "execution_count": 222,
     "metadata": {},
     "output_type": "execute_result"
    }
   ],
   "source": [
    "sub.Sentiment=y_pred2\n",
    "sub.to_csv('sub2.csv',index=False)\n",
    "sub.head()"
   ]
  },
  {
   "cell_type": "markdown",
   "metadata": {
    "_uuid": "6c15b7e1779fe5f7ec5195329d62fb0a0062a278"
   },
   "source": [
    "## CNN +GRU model"
   ]
  },
  {
   "cell_type": "code",
   "execution_count": 223,
   "metadata": {
    "_uuid": "2137f39f26724241879bc63a6fd4e18091302479"
   },
   "outputs": [
    {
     "name": "stdout",
     "output_type": "stream",
     "text": [
      "Model: \"sequential_30\"\n",
      "_________________________________________________________________\n",
      "Layer (type)                 Output Shape              Param #   \n",
      "=================================================================\n",
      "embedding_13 (Embedding)     (None, 48, 100)           1374000   \n",
      "_________________________________________________________________\n",
      "conv1d_6 (Conv1D)            (None, 48, 64)            19264     \n",
      "_________________________________________________________________\n",
      "max_pooling1d_1 (MaxPooling1 (None, 24, 64)            0         \n",
      "_________________________________________________________________\n",
      "dropout_35 (Dropout)         (None, 24, 64)            0         \n",
      "_________________________________________________________________\n",
      "gru_1 (GRU)                  (None, 24, 128)           74112     \n",
      "_________________________________________________________________\n",
      "dropout_36 (Dropout)         (None, 24, 128)           0         \n",
      "_________________________________________________________________\n",
      "flatten_1 (Flatten)          (None, 3072)              0         \n",
      "_________________________________________________________________\n",
      "dense_79 (Dense)             (None, 128)               393344    \n",
      "_________________________________________________________________\n",
      "dropout_37 (Dropout)         (None, 128)               0         \n",
      "_________________________________________________________________\n",
      "dense_80 (Dense)             (None, 5)                 645       \n",
      "=================================================================\n",
      "Total params: 1,861,365\n",
      "Trainable params: 1,861,365\n",
      "Non-trainable params: 0\n",
      "_________________________________________________________________\n"
     ]
    }
   ],
   "source": [
    "model3= Sequential()\n",
    "model3.add(Embedding(max_features,100,input_length=max_words))\n",
    "model3.add(Conv1D(64,kernel_size=3,padding='same',activation='relu'))\n",
    "model3.add(MaxPooling1D(pool_size=2))\n",
    "model3.add(Dropout(0.25))\n",
    "model3.add(GRU(128,return_sequences=True))\n",
    "model3.add(Dropout(0.3))\n",
    "model3.add(Flatten())\n",
    "model3.add(Dense(128,activation='relu'))\n",
    "model3.add(Dropout(0.5))\n",
    "model3.add(Dense(5,activation='softmax'))\n",
    "model3.compile(loss='categorical_crossentropy',optimizer=Adam(lr=0.001),metrics=['accuracy'])\n",
    "cp=ModelCheckpoint('model_cnn_gru.hdf5',monitor='val_acc',verbose=1,save_best_only=True)\n",
    "model3.summary()\n"
   ]
  },
  {
   "cell_type": "code",
   "execution_count": 224,
   "metadata": {
    "_uuid": "5a8d16f09d28d71223ded05b07d91c23a2f775cf",
    "scrolled": true
   },
   "outputs": [
    {
     "name": "stdout",
     "output_type": "stream",
     "text": [
      "Train on 124848 samples, validate on 31212 samples\n",
      "Epoch 1/10\n",
      "124848/124848 [==============================] - 116s 930us/step - loss: 1.0542 - acc: 0.5804 - val_loss: 0.8732 - val_acc: 0.6415\n",
      "\n",
      "Epoch 00001: val_acc improved from -inf to 0.64148, saving model to model_cnn_gru.hdf5\n",
      "Epoch 2/10\n",
      "124848/124848 [==============================] - 107s 859us/step - loss: 0.8199 - acc: 0.6654 - val_loss: 0.8247 - val_acc: 0.6584\n",
      "\n",
      "Epoch 00002: val_acc improved from 0.64148 to 0.65837, saving model to model_cnn_gru.hdf5\n",
      "Epoch 3/10\n",
      "124848/124848 [==============================] - 110s 883us/step - loss: 0.7350 - acc: 0.6956 - val_loss: 0.8104 - val_acc: 0.6708\n",
      "\n",
      "Epoch 00003: val_acc improved from 0.65837 to 0.67080, saving model to model_cnn_gru.hdf5\n",
      "Epoch 4/10\n",
      "124848/124848 [==============================] - 113s 903us/step - loss: 0.6781 - acc: 0.7149 - val_loss: 0.8182 - val_acc: 0.6648\n",
      "\n",
      "Epoch 00004: val_acc did not improve from 0.67080\n",
      "Epoch 5/10\n",
      "124848/124848 [==============================] - 113s 904us/step - loss: 0.6368 - acc: 0.7295 - val_loss: 0.8487 - val_acc: 0.6649\n",
      "\n",
      "Epoch 00005: val_acc did not improve from 0.67080\n",
      "Epoch 6/10\n",
      "124848/124848 [==============================] - 113s 904us/step - loss: 0.6049 - acc: 0.7404 - val_loss: 0.8710 - val_acc: 0.6643\n",
      "\n",
      "Epoch 00006: val_acc did not improve from 0.67080\n",
      "Epoch 7/10\n",
      "124848/124848 [==============================] - 120s 961us/step - loss: 0.5755 - acc: 0.7512 - val_loss: 0.9246 - val_acc: 0.6636\n",
      "\n",
      "Epoch 00007: val_acc did not improve from 0.67080\n",
      "Epoch 8/10\n",
      "124848/124848 [==============================] - 112s 897us/step - loss: 0.5538 - acc: 0.7599 - val_loss: 0.9547 - val_acc: 0.6589\n",
      "\n",
      "Epoch 00008: val_acc did not improve from 0.67080\n",
      "Epoch 9/10\n",
      "124848/124848 [==============================] - 113s 902us/step - loss: 0.5348 - acc: 0.7655 - val_loss: 1.0069 - val_acc: 0.6653\n",
      "\n",
      "Epoch 00009: val_acc did not improve from 0.67080\n",
      "Epoch 10/10\n",
      "124848/124848 [==============================] - 114s 914us/step - loss: 0.5170 - acc: 0.7744 - val_loss: 1.0215 - val_acc: 0.6617\n",
      "\n",
      "Epoch 00010: val_acc did not improve from 0.67080\n",
      "CPU times: user 44min 1s, sys: 11min 57s, total: 55min 59s\n",
      "Wall time: 18min 54s\n"
     ]
    }
   ],
   "source": [
    "%%time\n",
    "history3=model3.fit(X_train, y_train, validation_data=(X_val, y_val),epochs=epochs, batch_size=batch_size, verbose=1, callbacks=[cp])"
   ]
  },
  {
   "cell_type": "code",
   "execution_count": 225,
   "metadata": {
    "_uuid": "dde510827da0c2a8d8f38cb4b17a0e6d6676f3ee"
   },
   "outputs": [
    {
     "name": "stdout",
     "output_type": "stream",
     "text": [
      "66292/66292 [==============================] - 21s 324us/step\n"
     ]
    }
   ],
   "source": [
    "y_pred3=model3.predict_classes(X_test, verbose=1)\n"
   ]
  },
  {
   "cell_type": "code",
   "execution_count": 226,
   "metadata": {
    "_uuid": "6ce66c4fe3614d004fcbddc47b119306828b44b5"
   },
   "outputs": [
    {
     "data": {
      "text/html": [
       "<div>\n",
       "<style scoped>\n",
       "    .dataframe tbody tr th:only-of-type {\n",
       "        vertical-align: middle;\n",
       "    }\n",
       "\n",
       "    .dataframe tbody tr th {\n",
       "        vertical-align: top;\n",
       "    }\n",
       "\n",
       "    .dataframe thead th {\n",
       "        text-align: right;\n",
       "    }\n",
       "</style>\n",
       "<table border=\"1\" class=\"dataframe\">\n",
       "  <thead>\n",
       "    <tr style=\"text-align: right;\">\n",
       "      <th></th>\n",
       "      <th>PhraseId</th>\n",
       "      <th>Sentiment</th>\n",
       "    </tr>\n",
       "  </thead>\n",
       "  <tbody>\n",
       "    <tr>\n",
       "      <th>0</th>\n",
       "      <td>156061</td>\n",
       "      <td>3</td>\n",
       "    </tr>\n",
       "    <tr>\n",
       "      <th>1</th>\n",
       "      <td>156062</td>\n",
       "      <td>3</td>\n",
       "    </tr>\n",
       "    <tr>\n",
       "      <th>2</th>\n",
       "      <td>156063</td>\n",
       "      <td>2</td>\n",
       "    </tr>\n",
       "    <tr>\n",
       "      <th>3</th>\n",
       "      <td>156064</td>\n",
       "      <td>2</td>\n",
       "    </tr>\n",
       "    <tr>\n",
       "      <th>4</th>\n",
       "      <td>156065</td>\n",
       "      <td>3</td>\n",
       "    </tr>\n",
       "  </tbody>\n",
       "</table>\n",
       "</div>"
      ],
      "text/plain": [
       "   PhraseId  Sentiment\n",
       "0  156061    3        \n",
       "1  156062    3        \n",
       "2  156063    2        \n",
       "3  156064    2        \n",
       "4  156065    3        "
      ]
     },
     "execution_count": 226,
     "metadata": {},
     "output_type": "execute_result"
    }
   ],
   "source": [
    "sub.Sentiment=y_pred3\n",
    "sub.to_csv('sub3.csv',index=False)\n",
    "sub.head()"
   ]
  },
  {
   "cell_type": "markdown",
   "metadata": {
    "_uuid": "382a6fed043c267c47cd3a2ad046ac9e3433efe7"
   },
   "source": [
    "## 4. Bidirectional GRU"
   ]
  },
  {
   "cell_type": "code",
   "execution_count": 227,
   "metadata": {
    "_uuid": "5c388a2c19a1818fd5bb5cbfff55b6afe209f2cf"
   },
   "outputs": [
    {
     "name": "stdout",
     "output_type": "stream",
     "text": [
      "Model: \"sequential_31\"\n",
      "_________________________________________________________________\n",
      "Layer (type)                 Output Shape              Param #   \n",
      "=================================================================\n",
      "embedding_14 (Embedding)     (None, 48, 100)           1374000   \n",
      "_________________________________________________________________\n",
      "spatial_dropout1d_1 (Spatial (None, 48, 100)           0         \n",
      "_________________________________________________________________\n",
      "bidirectional_1 (Bidirection (None, 256)               175872    \n",
      "_________________________________________________________________\n",
      "dropout_38 (Dropout)         (None, 256)               0         \n",
      "_________________________________________________________________\n",
      "dense_81 (Dense)             (None, 5)                 1285      \n",
      "=================================================================\n",
      "Total params: 1,551,157\n",
      "Trainable params: 1,551,157\n",
      "Non-trainable params: 0\n",
      "_________________________________________________________________\n"
     ]
    }
   ],
   "source": [
    "model4 = Sequential()\n",
    "\n",
    "model4.add(Embedding(max_features, 100, input_length=max_words))\n",
    "model4.add(SpatialDropout1D(0.25))\n",
    "model4.add(Bidirectional(GRU(128)))\n",
    "model4.add(Dropout(0.5))\n",
    "\n",
    "model4.add(Dense(5, activation='softmax'))\n",
    "model4.compile(loss='categorical_crossentropy', optimizer='adam', metrics=['accuracy'])\n",
    "cp=ModelCheckpoint('BiGRU.hdf5',monitor='val_acc',verbose=1,save_best_only=True)\n",
    "\n",
    "model4.summary()"
   ]
  },
  {
   "cell_type": "code",
   "execution_count": 228,
   "metadata": {
    "_uuid": "209925b26d28c526e8b2b6a58b50aacb5938bb2e",
    "scrolled": true
   },
   "outputs": [
    {
     "name": "stdout",
     "output_type": "stream",
     "text": [
      "Train on 124848 samples, validate on 31212 samples\n",
      "Epoch 1/10\n",
      "124848/124848 [==============================] - 253s 2ms/step - loss: 1.0064 - acc: 0.5953 - val_loss: 0.8629 - val_acc: 0.6503\n",
      "\n",
      "Epoch 00001: val_acc improved from -inf to 0.65029, saving model to BiGRU.hdf5\n",
      "Epoch 2/10\n",
      "124848/124848 [==============================] - 300s 2ms/step - loss: 0.8012 - acc: 0.6713 - val_loss: 0.8191 - val_acc: 0.6638\n",
      "\n",
      "Epoch 00002: val_acc improved from 0.65029 to 0.66385, saving model to BiGRU.hdf5\n",
      "Epoch 3/10\n",
      "124848/124848 [==============================] - 246s 2ms/step - loss: 0.7320 - acc: 0.6971 - val_loss: 0.8100 - val_acc: 0.6654\n",
      "\n",
      "Epoch 00003: val_acc improved from 0.66385 to 0.66545, saving model to BiGRU.hdf5\n",
      "Epoch 4/10\n",
      "124848/124848 [==============================] - 246s 2ms/step - loss: 0.6893 - acc: 0.7133 - val_loss: 0.8194 - val_acc: 0.6686\n",
      "\n",
      "Epoch 00004: val_acc improved from 0.66545 to 0.66862, saving model to BiGRU.hdf5\n",
      "Epoch 5/10\n",
      "124848/124848 [==============================] - 246s 2ms/step - loss: 0.6569 - acc: 0.7245 - val_loss: 0.8287 - val_acc: 0.6686\n",
      "\n",
      "Epoch 00005: val_acc did not improve from 0.66862\n",
      "Epoch 6/10\n",
      "124848/124848 [==============================] - 247s 2ms/step - loss: 0.6304 - acc: 0.7352 - val_loss: 0.8427 - val_acc: 0.6685\n",
      "\n",
      "Epoch 00006: val_acc did not improve from 0.66862\n",
      "Epoch 7/10\n",
      "124848/124848 [==============================] - 294s 2ms/step - loss: 0.6069 - acc: 0.7439 - val_loss: 0.8547 - val_acc: 0.6638\n",
      "\n",
      "Epoch 00007: val_acc did not improve from 0.66862\n",
      "Epoch 8/10\n",
      "124848/124848 [==============================] - 313s 3ms/step - loss: 0.5866 - acc: 0.7524 - val_loss: 0.8675 - val_acc: 0.6672\n",
      "\n",
      "Epoch 00008: val_acc did not improve from 0.66862\n",
      "Epoch 9/10\n",
      "124848/124848 [==============================] - 314s 3ms/step - loss: 0.5678 - acc: 0.7584 - val_loss: 0.8842 - val_acc: 0.6608\n",
      "\n",
      "Epoch 00009: val_acc did not improve from 0.66862\n",
      "Epoch 10/10\n",
      "124848/124848 [==============================] - 303s 2ms/step - loss: 0.5480 - acc: 0.7659 - val_loss: 0.9044 - val_acc: 0.6610\n",
      "\n",
      "Epoch 00010: val_acc did not improve from 0.66862\n",
      "CPU times: user 1h 56min 11s, sys: 27min 33s, total: 2h 23min 44s\n",
      "Wall time: 46min 6s\n"
     ]
    }
   ],
   "source": [
    "%%time\n",
    "history4=model4.fit(X_train, y_train, validation_data=(X_val, y_val),epochs=epochs, batch_size=batch_size, verbose=1, callbacks=[cp])"
   ]
  },
  {
   "cell_type": "code",
   "execution_count": 229,
   "metadata": {
    "_uuid": "4a6ebacc09f7b5ba8bada293969360c873b80881"
   },
   "outputs": [
    {
     "name": "stdout",
     "output_type": "stream",
     "text": [
      "66292/66292 [==============================] - 44s 660us/step\n"
     ]
    }
   ],
   "source": [
    "y_pred4=model4.predict_classes(X_test, verbose=1)"
   ]
  },
  {
   "cell_type": "code",
   "execution_count": 230,
   "metadata": {
    "_uuid": "44ba9ccda4c83fa57d26605e04d3ce6ebe904d87"
   },
   "outputs": [
    {
     "data": {
      "text/html": [
       "<div>\n",
       "<style scoped>\n",
       "    .dataframe tbody tr th:only-of-type {\n",
       "        vertical-align: middle;\n",
       "    }\n",
       "\n",
       "    .dataframe tbody tr th {\n",
       "        vertical-align: top;\n",
       "    }\n",
       "\n",
       "    .dataframe thead th {\n",
       "        text-align: right;\n",
       "    }\n",
       "</style>\n",
       "<table border=\"1\" class=\"dataframe\">\n",
       "  <thead>\n",
       "    <tr style=\"text-align: right;\">\n",
       "      <th></th>\n",
       "      <th>PhraseId</th>\n",
       "      <th>Sentiment</th>\n",
       "    </tr>\n",
       "  </thead>\n",
       "  <tbody>\n",
       "    <tr>\n",
       "      <th>0</th>\n",
       "      <td>156061</td>\n",
       "      <td>3</td>\n",
       "    </tr>\n",
       "    <tr>\n",
       "      <th>1</th>\n",
       "      <td>156062</td>\n",
       "      <td>3</td>\n",
       "    </tr>\n",
       "    <tr>\n",
       "      <th>2</th>\n",
       "      <td>156063</td>\n",
       "      <td>2</td>\n",
       "    </tr>\n",
       "    <tr>\n",
       "      <th>3</th>\n",
       "      <td>156064</td>\n",
       "      <td>3</td>\n",
       "    </tr>\n",
       "    <tr>\n",
       "      <th>4</th>\n",
       "      <td>156065</td>\n",
       "      <td>3</td>\n",
       "    </tr>\n",
       "  </tbody>\n",
       "</table>\n",
       "</div>"
      ],
      "text/plain": [
       "   PhraseId  Sentiment\n",
       "0  156061    3        \n",
       "1  156062    3        \n",
       "2  156063    2        \n",
       "3  156064    3        \n",
       "4  156065    3        "
      ]
     },
     "execution_count": 230,
     "metadata": {},
     "output_type": "execute_result"
    }
   ],
   "source": [
    "sub.Sentiment=y_pred4\n",
    "sub.to_csv('sub4.csv',index=False)\n",
    "sub.head()"
   ]
  },
  {
   "cell_type": "markdown",
   "metadata": {
    "_uuid": "9f1a2ab2bbd194bfe5fd293b385dc9c170b75d90"
   },
   "source": [
    "## 5. Glove word embedding"
   ]
  },
  {
   "cell_type": "code",
   "execution_count": 460,
   "metadata": {
    "_uuid": "99f7b2f8fb1988829f476f06cd012a9de9d82eb5"
   },
   "outputs": [],
   "source": [
    "def get_coefs(word, *arr):\n",
    "    return word, np.asarray(arr, dtype='float32')\n",
    "    \n",
    "def get_embed_mat(EMBEDDING_FILE, max_features,embed_dim):\n",
    "    # word vectors\n",
    "    embeddings_index = dict(get_coefs(*o.rstrip().rsplit(' ')) for o in open(EMBEDDING_FILE, encoding='utf8'))\n",
    "    print('Found %s word vectors.' % len(embeddings_index))\n",
    "\n",
    "    # embedding matrix\n",
    "    word_index = tokenizer.word_index\n",
    "    num_words = min(max_features, len(word_index) + 1)\n",
    "    all_embs = np.stack(embeddings_index.values()) #for random init\n",
    "    embedding_matrix = np.random.normal(all_embs.mean(), all_embs.std(), \n",
    "                                        (num_words, embed_dim))\n",
    "    for word, i in word_index.items():\n",
    "        if i >= max_features:\n",
    "            continue\n",
    "        embedding_vector = embeddings_index.get(word)\n",
    "        if embedding_vector is not None:\n",
    "            embedding_matrix[i] = embedding_vector\n",
    "    max_features = embedding_matrix.shape[0]\n",
    "    \n",
    "    return embedding_matrix"
   ]
  },
  {
   "cell_type": "code",
   "execution_count": 461,
   "metadata": {
    "_uuid": "f7b92967ad909a7f824c67f36e33f07b9b40987e"
   },
   "outputs": [
    {
     "name": "stdout",
     "output_type": "stream",
     "text": [
      "Found 400000 word vectors.\n",
      "(13740, 100)\n"
     ]
    }
   ],
   "source": [
    "# embedding matrix\n",
    "EMBEDDING_FILE = 'glove.6B.100d.txt'\n",
    "embed_dim = 100 #word vector dim\n",
    "embedding_matrix = get_embed_mat(EMBEDDING_FILE,max_features,embed_dim)\n",
    "print(embedding_matrix.shape)"
   ]
  },
  {
   "cell_type": "code",
   "execution_count": 462,
   "metadata": {
    "_uuid": "311657e8a90f12dfcd38e176141bf902c43045b1"
   },
   "outputs": [
    {
     "name": "stdout",
     "output_type": "stream",
     "text": [
      "Model: \"sequential_36\"\n",
      "_________________________________________________________________\n",
      "Layer (type)                 Output Shape              Param #   \n",
      "=================================================================\n",
      "embedding_18 (Embedding)     (None, 48, 100)           1374000   \n",
      "_________________________________________________________________\n",
      "spatial_dropout1d_5 (Spatial (None, 48, 100)           0         \n",
      "_________________________________________________________________\n",
      "bidirectional_7 (Bidirection (None, 48, 256)           175872    \n",
      "_________________________________________________________________\n",
      "bidirectional_8 (Bidirection (None, 128)               123264    \n",
      "_________________________________________________________________\n",
      "dropout_41 (Dropout)         (None, 128)               0         \n",
      "_________________________________________________________________\n",
      "dense_84 (Dense)             (None, 5)                 645       \n",
      "=================================================================\n",
      "Total params: 1,673,781\n",
      "Trainable params: 1,673,781\n",
      "Non-trainable params: 0\n",
      "_________________________________________________________________\n"
     ]
    }
   ],
   "source": [
    "model5 = Sequential()\n",
    "model5.add(Embedding(max_features, embed_dim, input_length=X_train.shape[1],weights=[embedding_matrix],trainable=True))\n",
    "model5.add(SpatialDropout1D(0.25))\n",
    "model5.add(Bidirectional(GRU(128,return_sequences=True)))\n",
    "model5.add(Bidirectional(GRU(64,return_sequences=False)))\n",
    "model5.add(Dropout(0.5))\n",
    "model5.add(Dense(num_classes, activation='softmax'))\n",
    "model5.compile(loss='categorical_crossentropy', optimizer='adam', metrics=['accuracy'])\n",
    "cp=ModelCheckpoint('model_glove_embeddings.hdf5',monitor='val_acc',verbose=1,save_best_only=True)\n",
    "model5.summary()"
   ]
  },
  {
   "cell_type": "code",
   "execution_count": 463,
   "metadata": {
    "_uuid": "6a1532d55f7940ed8a26929a89a279618b9d1846"
   },
   "outputs": [
    {
     "name": "stdout",
     "output_type": "stream",
     "text": [
      "Train on 124848 samples, validate on 31212 samples\n",
      "Epoch 1/10\n",
      "124848/124848 [==============================] - 438s 4ms/step - loss: 0.9909 - acc: 0.5935 - val_loss: 0.8464 - val_acc: 0.6491\n",
      "\n",
      "Epoch 00001: val_acc improved from -inf to 0.64914, saving model to model_glove_embeddings.hdf5\n",
      "Epoch 2/10\n",
      "124848/124848 [==============================] - 447s 4ms/step - loss: 0.8449 - acc: 0.6504 - val_loss: 0.8023 - val_acc: 0.6640\n",
      "\n",
      "Epoch 00002: val_acc improved from 0.64914 to 0.66404, saving model to model_glove_embeddings.hdf5\n",
      "Epoch 3/10\n",
      "124848/124848 [==============================] - 495s 4ms/step - loss: 0.7836 - acc: 0.6758 - val_loss: 0.7720 - val_acc: 0.6787\n",
      "\n",
      "Epoch 00003: val_acc improved from 0.66404 to 0.67868, saving model to model_glove_embeddings.hdf5\n",
      "Epoch 4/10\n",
      "124848/124848 [==============================] - 650s 5ms/step - loss: 0.7427 - acc: 0.6921 - val_loss: 0.7649 - val_acc: 0.6834\n",
      "\n",
      "Epoch 00004: val_acc improved from 0.67868 to 0.68342, saving model to model_glove_embeddings.hdf5\n",
      "Epoch 5/10\n",
      "124848/124848 [==============================] - 644s 5ms/step - loss: 0.7107 - acc: 0.7072 - val_loss: 0.7690 - val_acc: 0.6803\n",
      "\n",
      "Epoch 00005: val_acc did not improve from 0.68342\n",
      "Epoch 6/10\n",
      "124848/124848 [==============================] - 649s 5ms/step - loss: 0.6871 - acc: 0.7159 - val_loss: 0.7645 - val_acc: 0.6834\n",
      "\n",
      "Epoch 00006: val_acc did not improve from 0.68342\n",
      "Epoch 7/10\n",
      "124848/124848 [==============================] - 665s 5ms/step - loss: 0.6611 - acc: 0.7262 - val_loss: 0.7733 - val_acc: 0.6834\n",
      "\n",
      "Epoch 00007: val_acc did not improve from 0.68342\n",
      "Epoch 8/10\n",
      "124848/124848 [==============================] - 583s 5ms/step - loss: 0.6444 - acc: 0.7341 - val_loss: 0.7701 - val_acc: 0.6850\n",
      "\n",
      "Epoch 00008: val_acc improved from 0.68342 to 0.68496, saving model to model_glove_embeddings.hdf5\n",
      "Epoch 9/10\n",
      "124848/124848 [==============================] - 813s 7ms/step - loss: 0.6255 - acc: 0.7419 - val_loss: 0.7838 - val_acc: 0.6819\n",
      "\n",
      "Epoch 00009: val_acc did not improve from 0.68496\n",
      "Epoch 10/10\n",
      "124848/124848 [==============================] - 428s 3ms/step - loss: 0.6095 - acc: 0.7488 - val_loss: 0.7891 - val_acc: 0.6801\n",
      "\n",
      "Epoch 00010: val_acc did not improve from 0.68496\n",
      "CPU times: user 4h 1min 23s, sys: 43min 42s, total: 4h 45min 5s\n",
      "Wall time: 1h 36min 58s\n"
     ]
    }
   ],
   "source": [
    "%%time\n",
    "history5=model5.fit(X_train, y_train, validation_data=(X_val, y_val),epochs=10, batch_size=batch_size, verbose=1, callbacks=[cp])"
   ]
  },
  {
   "cell_type": "code",
   "execution_count": 464,
   "metadata": {
    "_uuid": "275cfcd753c2bfcfaac311dbd43dab0441ced8d3"
   },
   "outputs": [
    {
     "name": "stdout",
     "output_type": "stream",
     "text": [
      "66292/66292 [==============================] - 82s 1ms/step\n"
     ]
    }
   ],
   "source": [
    "y_pred5=model5.predict_classes(X_test, verbose=1)"
   ]
  },
  {
   "cell_type": "code",
   "execution_count": 465,
   "metadata": {
    "_uuid": "7eb8ab34a07bc72543aa413f06d38aaf8a8d1336"
   },
   "outputs": [
    {
     "data": {
      "text/html": [
       "<div>\n",
       "<style scoped>\n",
       "    .dataframe tbody tr th:only-of-type {\n",
       "        vertical-align: middle;\n",
       "    }\n",
       "\n",
       "    .dataframe tbody tr th {\n",
       "        vertical-align: top;\n",
       "    }\n",
       "\n",
       "    .dataframe thead th {\n",
       "        text-align: right;\n",
       "    }\n",
       "</style>\n",
       "<table border=\"1\" class=\"dataframe\">\n",
       "  <thead>\n",
       "    <tr style=\"text-align: right;\">\n",
       "      <th></th>\n",
       "      <th>PhraseId</th>\n",
       "      <th>Sentiment</th>\n",
       "    </tr>\n",
       "  </thead>\n",
       "  <tbody>\n",
       "    <tr>\n",
       "      <th>0</th>\n",
       "      <td>156061</td>\n",
       "      <td>2</td>\n",
       "    </tr>\n",
       "    <tr>\n",
       "      <th>1</th>\n",
       "      <td>156062</td>\n",
       "      <td>2</td>\n",
       "    </tr>\n",
       "    <tr>\n",
       "      <th>2</th>\n",
       "      <td>156063</td>\n",
       "      <td>2</td>\n",
       "    </tr>\n",
       "    <tr>\n",
       "      <th>3</th>\n",
       "      <td>156064</td>\n",
       "      <td>2</td>\n",
       "    </tr>\n",
       "    <tr>\n",
       "      <th>4</th>\n",
       "      <td>156065</td>\n",
       "      <td>3</td>\n",
       "    </tr>\n",
       "  </tbody>\n",
       "</table>\n",
       "</div>"
      ],
      "text/plain": [
       "   PhraseId  Sentiment\n",
       "0  156061    2        \n",
       "1  156062    2        \n",
       "2  156063    2        \n",
       "3  156064    2        \n",
       "4  156065    3        "
      ]
     },
     "execution_count": 465,
     "metadata": {},
     "output_type": "execute_result"
    }
   ],
   "source": [
    "sub.Sentiment=y_pred5\n",
    "sub.to_csv('sub5.csv',index=False)\n",
    "sub.head()"
   ]
  },
  {
   "cell_type": "code",
   "execution_count": null,
   "metadata": {
    "_uuid": "26e38be1761b93f8a05c424df6780663efaf3572",
    "collapsed": true
   },
   "outputs": [],
   "source": []
  }
 ],
 "metadata": {
  "kernelspec": {
   "display_name": "Python 3",
   "language": "python",
   "name": "python3"
  },
  "language_info": {
   "codemirror_mode": {
    "name": "ipython",
    "version": 3
   },
   "file_extension": ".py",
   "mimetype": "text/x-python",
   "name": "python",
   "nbconvert_exporter": "python",
   "pygments_lexer": "ipython3",
   "version": "3.6.4"
  }
 },
 "nbformat": 4,
 "nbformat_minor": 1
}

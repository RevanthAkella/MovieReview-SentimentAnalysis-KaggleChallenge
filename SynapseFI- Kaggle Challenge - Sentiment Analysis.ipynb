{
 "cells": [
  {
   "cell_type": "code",
   "execution_count": 60,
   "metadata": {},
   "outputs": [],
   "source": [
    "import pandas as pd\n",
    "import numpy as np\n",
    "import scipy as sc\n",
    "import seaborn as sns\n",
    "from wordcloud import WordCloud, STOPWORDS, ImageColorGenerator\n",
    "import matplotlib.pyplot as plt\n",
    "from nltk.tokenize import word_tokenize, sent_tokenize\n",
    "from nltk.corpus import stopwords\n",
    "stop_words = set(stopwords.words('english'))\n",
    "%matplotlib inline"
   ]
  },
  {
   "cell_type": "markdown",
   "metadata": {},
   "source": [
    "For this challenge I will be following the steps below:\n",
    "    1. Data Exploration\n",
    "    2. Data Preprocessing\n",
    "    3. Sentiment Analysis"
   ]
  },
  {
   "cell_type": "code",
   "execution_count": 91,
   "metadata": {},
   "outputs": [],
   "source": [
    "train = pd.read_table('train.tsv')\n",
    "test = pd.read_table('test.tsv')"
   ]
  },
  {
   "cell_type": "markdown",
   "metadata": {},
   "source": [
    "lets explore the data first\n"
   ]
  },
  {
   "cell_type": "code",
   "execution_count": 65,
   "metadata": {},
   "outputs": [
    {
     "data": {
      "text/plain": [
       "Index(['PhraseId', 'SentenceId', 'Phrase', 'Sentiment'], dtype='object')"
      ]
     },
     "execution_count": 65,
     "metadata": {},
     "output_type": "execute_result"
    }
   ],
   "source": [
    "train.columns"
   ]
  },
  {
   "cell_type": "code",
   "execution_count": 66,
   "metadata": {},
   "outputs": [
    {
     "data": {
      "text/plain": [
       "PhraseId       int64\n",
       "SentenceId     int64\n",
       "Phrase        object\n",
       "Sentiment      int64\n",
       "dtype: object"
      ]
     },
     "execution_count": 66,
     "metadata": {},
     "output_type": "execute_result"
    }
   ],
   "source": [
    "train.dtypes"
   ]
  },
  {
   "cell_type": "markdown",
   "metadata": {},
   "source": [
    "The 'Phrase' columns is the only column of type object. From simply eyeballing the column names, it looks like we have sentence and phrase level features. Lets isolate each column and look at its contents. "
   ]
  },
  {
   "cell_type": "code",
   "execution_count": 67,
   "metadata": {},
   "outputs": [
    {
     "data": {
      "text/plain": [
       "0    1\n",
       "1    2\n",
       "2    3\n",
       "3    4\n",
       "4    5\n",
       "Name: PhraseId, dtype: int64"
      ]
     },
     "execution_count": 67,
     "metadata": {},
     "output_type": "execute_result"
    }
   ],
   "source": [
    "train.PhraseId.head()"
   ]
  },
  {
   "cell_type": "code",
   "execution_count": 68,
   "metadata": {},
   "outputs": [
    {
     "data": {
      "text/plain": [
       "0    1\n",
       "1    1\n",
       "2    1\n",
       "3    1\n",
       "4    1\n",
       "Name: SentenceId, dtype: int64"
      ]
     },
     "execution_count": 68,
     "metadata": {},
     "output_type": "execute_result"
    }
   ],
   "source": [
    "train.SentenceId.head()"
   ]
  },
  {
   "cell_type": "code",
   "execution_count": 69,
   "metadata": {},
   "outputs": [
    {
     "data": {
      "text/plain": [
       "0    A series of escapades demonstrating the adage ...\n",
       "1    A series of escapades demonstrating the adage ...\n",
       "2                                             A series\n",
       "3                                                    A\n",
       "4                                               series\n",
       "Name: Phrase, dtype: object"
      ]
     },
     "execution_count": 69,
     "metadata": {},
     "output_type": "execute_result"
    }
   ],
   "source": [
    "train.Phrase.head()"
   ]
  },
  {
   "cell_type": "markdown",
   "metadata": {},
   "source": [
    "The PhraseId and the Phrase columns have a taxonomy from the looks of it. The first two rows in Phrase look identical. Lets examine them."
   ]
  },
  {
   "cell_type": "code",
   "execution_count": 70,
   "metadata": {},
   "outputs": [
    {
     "data": {
      "text/plain": [
       "'A series of escapades demonstrating the adage that what is good for the goose is also good for the gander , some of which occasionally amuses but none of which amounts to much of a story .'"
      ]
     },
     "execution_count": 70,
     "metadata": {},
     "output_type": "execute_result"
    }
   ],
   "source": [
    "train.Phrase[0]"
   ]
  },
  {
   "cell_type": "code",
   "execution_count": 71,
   "metadata": {},
   "outputs": [
    {
     "data": {
      "text/plain": [
       "'A series of escapades demonstrating the adage that what is good for the goose'"
      ]
     },
     "execution_count": 71,
     "metadata": {},
     "output_type": "execute_result"
    }
   ],
   "source": [
    "train.Phrase[1]"
   ]
  },
  {
   "cell_type": "markdown",
   "metadata": {},
   "source": [
    "Ah. Looks like the two phrases are indeed different. Lets examine the PhraseId and the SentenceId of each of the two sentences."
   ]
  },
  {
   "cell_type": "code",
   "execution_count": 72,
   "metadata": {},
   "outputs": [
    {
     "data": {
      "text/plain": [
       "1"
      ]
     },
     "execution_count": 72,
     "metadata": {},
     "output_type": "execute_result"
    }
   ],
   "source": [
    "train.SentenceId[0]"
   ]
  },
  {
   "cell_type": "code",
   "execution_count": 74,
   "metadata": {},
   "outputs": [
    {
     "data": {
      "text/plain": [
       "1"
      ]
     },
     "execution_count": 74,
     "metadata": {},
     "output_type": "execute_result"
    }
   ],
   "source": [
    "train.SentenceId[1]"
   ]
  },
  {
   "cell_type": "code",
   "execution_count": 75,
   "metadata": {},
   "outputs": [
    {
     "data": {
      "text/plain": [
       "1"
      ]
     },
     "execution_count": 75,
     "metadata": {},
     "output_type": "execute_result"
    }
   ],
   "source": [
    "train.PhraseId[0]"
   ]
  },
  {
   "cell_type": "code",
   "execution_count": 76,
   "metadata": {},
   "outputs": [
    {
     "data": {
      "text/plain": [
       "2"
      ]
     },
     "execution_count": 76,
     "metadata": {},
     "output_type": "execute_result"
    }
   ],
   "source": [
    "train.PhraseId[1]"
   ]
  },
  {
   "cell_type": "code",
   "execution_count": 77,
   "metadata": {},
   "outputs": [
    {
     "data": {
      "text/plain": [
       "0    1\n",
       "1    2\n",
       "2    2\n",
       "3    2\n",
       "4    2\n",
       "Name: Sentiment, dtype: int64"
      ]
     },
     "execution_count": 77,
     "metadata": {},
     "output_type": "execute_result"
    }
   ],
   "source": [
    "train.Sentiment.head()"
   ]
  },
  {
   "cell_type": "markdown",
   "metadata": {},
   "source": [
    "They share the same sentence ID which means that the phrases are from the same sentence. The 'Sentiment' column is the sentiment that we need to predict."
   ]
  },
  {
   "cell_type": "markdown",
   "metadata": {},
   "source": [
    "The objective of the challenge is to build a classifier for this data. The training input here will be the Phrases and the variable to be predicted will be the sentiment. "
   ]
  },
  {
   "cell_type": "code",
   "execution_count": 78,
   "metadata": {},
   "outputs": [
    {
     "data": {
      "text/plain": [
       "count    156060.000000\n",
       "mean          2.063578\n",
       "std           0.893832\n",
       "min           0.000000\n",
       "25%           2.000000\n",
       "50%           2.000000\n",
       "75%           3.000000\n",
       "max           4.000000\n",
       "Name: Sentiment, dtype: float64"
      ]
     },
     "execution_count": 78,
     "metadata": {},
     "output_type": "execute_result"
    }
   ],
   "source": [
    "train.Sentiment.describe()"
   ]
  },
  {
   "cell_type": "code",
   "execution_count": 79,
   "metadata": {},
   "outputs": [
    {
     "data": {
      "text/plain": [
       "array([1, 2, 3, 4, 0])"
      ]
     },
     "execution_count": 79,
     "metadata": {},
     "output_type": "execute_result"
    }
   ],
   "source": [
    "train.Sentiment.unique()"
   ]
  },
  {
   "cell_type": "code",
   "execution_count": 80,
   "metadata": {},
   "outputs": [
    {
     "data": {
      "text/plain": [
       "156060"
      ]
     },
     "execution_count": 80,
     "metadata": {},
     "output_type": "execute_result"
    }
   ],
   "source": [
    "train.Sentiment.count()"
   ]
  },
  {
   "cell_type": "markdown",
   "metadata": {},
   "source": [
    "There are a total of 156060 sentiment values ranging from 0 to 4. The distribution is as follows:"
   ]
  },
  {
   "cell_type": "code",
   "execution_count": 82,
   "metadata": {},
   "outputs": [
    {
     "data": {
      "text/plain": [
       "<matplotlib.axes._subplots.AxesSubplot at 0x11ced3dd8>"
      ]
     },
     "execution_count": 82,
     "metadata": {},
     "output_type": "execute_result"
    },
    {
     "data": {
      "image/png": "[encoded data removed]",
      "text/plain": [
       "<Figure size 432x288 with 1 Axes>"
      ]
     },
     "metadata": {
      "needs_background": "light"
     },
     "output_type": "display_data"
    }
   ],
   "source": [
    "sns.distplot(train.Sentiment)"
   ]
  },
  {
   "cell_type": "code",
   "execution_count": 84,
   "metadata": {},
   "outputs": [
    {
     "data": {
      "text/plain": [
       "<matplotlib.axes._subplots.AxesSubplot at 0x11db22cc0>"
      ]
     },
     "execution_count": 84,
     "metadata": {},
     "output_type": "execute_result"
    },
    {
     "data": {
      "image/png": "[encoded data removed]",
      "text/plain": [
       "<Figure size 432x288 with 1 Axes>"
      ]
     },
     "metadata": {
      "needs_background": "light"
     },
     "output_type": "display_data"
    }
   ],
   "source": [
    "x = train.groupby(['Sentiment'])['PhraseId'].count()\n",
    "x.plot.bar()"
   ]
  },
  {
   "cell_type": "code",
   "execution_count": 85,
   "metadata": {},
   "outputs": [
    {
     "data": {
      "text/plain": [
       "Sentiment\n",
       "0     7072\n",
       "1    27273\n",
       "2    79582\n",
       "3    32927\n",
       "4     9206\n",
       "Name: PhraseId, dtype: int64"
      ]
     },
     "execution_count": 85,
     "metadata": {},
     "output_type": "execute_result"
    }
   ],
   "source": [
    "x"
   ]
  },
  {
   "cell_type": "markdown",
   "metadata": {},
   "source": [
    "Lets visualize the word distribution in the data. "
   ]
  },
  {
   "cell_type": "markdown",
   "metadata": {},
   "source": [
    "For the sake of wordclouds, we visualize the most common words in a sentiment class."
   ]
  },
  {
   "cell_type": "code",
   "execution_count": 86,
   "metadata": {},
   "outputs": [],
   "source": [
    "sentiment = train.groupby(\"Sentiment\")"
   ]
  },
  {
   "cell_type": "code",
   "execution_count": 98,
   "metadata": {},
   "outputs": [
    {
     "data": {
      "text/html": [
       "<div>\n",
       "<style scoped>\n",
       "    .dataframe tbody tr th:only-of-type {\n",
       "        vertical-align: middle;\n",
       "    }\n",
       "\n",
       "    .dataframe tbody tr th {\n",
       "        vertical-align: top;\n",
       "    }\n",
       "\n",
       "    .dataframe thead th {\n",
       "        text-align: right;\n",
       "    }\n",
       "</style>\n",
       "<table border=\"1\" class=\"dataframe\">\n",
       "  <thead>\n",
       "    <tr style=\"text-align: right;\">\n",
       "      <th></th>\n",
       "      <th>PhraseId</th>\n",
       "      <th>SentenceId</th>\n",
       "    </tr>\n",
       "    <tr>\n",
       "      <th>Sentiment</th>\n",
       "      <th></th>\n",
       "      <th></th>\n",
       "    </tr>\n",
       "  </thead>\n",
       "  <tbody>\n",
       "    <tr>\n",
       "      <th>0</th>\n",
       "      <td>81035.048784</td>\n",
       "      <td>4241.946126</td>\n",
       "    </tr>\n",
       "    <tr>\n",
       "      <th>1</th>\n",
       "      <td>80495.252447</td>\n",
       "      <td>4216.860265</td>\n",
       "    </tr>\n",
       "    <tr>\n",
       "      <th>4</th>\n",
       "      <td>80052.598197</td>\n",
       "      <td>4189.713448</td>\n",
       "    </tr>\n",
       "    <tr>\n",
       "      <th>3</th>\n",
       "      <td>78409.828378</td>\n",
       "      <td>4098.831597</td>\n",
       "    </tr>\n",
       "    <tr>\n",
       "      <th>2</th>\n",
       "      <td>76527.962441</td>\n",
       "      <td>3997.699090</td>\n",
       "    </tr>\n",
       "  </tbody>\n",
       "</table>\n",
       "</div>"
      ],
      "text/plain": [
       "               PhraseId   SentenceId\n",
       "Sentiment                           \n",
       "0          81035.048784  4241.946126\n",
       "1          80495.252447  4216.860265\n",
       "4          80052.598197  4189.713448\n",
       "3          78409.828378  4098.831597\n",
       "2          76527.962441  3997.699090"
      ]
     },
     "execution_count": 98,
     "metadata": {},
     "output_type": "execute_result"
    }
   ],
   "source": [
    "sentiment.mean().sort_values(by=\"PhraseId\",ascending=False).head()"
   ]
  },
  {
   "cell_type": "code",
   "execution_count": 99,
   "metadata": {
    "scrolled": false
   },
   "outputs": [
    {
     "data": {
      "image/png": "[encoded data removed]",
      "text/plain": [
       "<Figure size 360x360 with 1 Axes>"
      ]
     },
     "metadata": {
      "needs_background": "light"
     },
     "output_type": "display_data"
    }
   ],
   "source": [
    "plt.figure(figsize=(5,5))\n",
    "sentiment.size().sort_values(ascending=False).plot.bar()\n",
    "plt.xticks(rotation=50)\n",
    "plt.xlabel(\"Sentiment\")\n",
    "plt.ylabel(\"Number of Phrases\")\n",
    "plt.show()"
   ]
  },
  {
   "cell_type": "markdown",
   "metadata": {},
   "source": [
    "sentiment 2 has the most number of sentences in the dataset."
   ]
  },
  {
   "cell_type": "markdown",
   "metadata": {},
   "source": [
    "The sentiment labels are:\n",
    "\n",
    "0 - negative\n",
    "1 - somewhat negative\n",
    "2 - neutral\n",
    "3 - somewhat positive\n",
    "4 - positive"
   ]
  },
  {
   "cell_type": "code",
   "execution_count": 95,
   "metadata": {},
   "outputs": [],
   "source": [
    "import re\n",
    "\n",
    "REPLACE_NO_SPACE = re.compile(\"[.;:!\\'?,\\\"()\\[\\]]\")\n",
    "REPLACE_WITH_SPACE = re.compile(\"(<br\\s*/><br\\s*/>)|(\\-)|(\\/)\")\n",
    "\n",
    "def preprocess_reviews(reviews):\n",
    "    reviews = [REPLACE_NO_SPACE.sub(\"\", line.lower()) for line in reviews]\n",
    "    reviews = [REPLACE_WITH_SPACE.sub(\" \", line) for line in reviews]\n",
    "    \n",
    "    return reviews\n",
    "\n",
    "train_clean = preprocess_reviews(train.Phrase)\n",
    "test_clean = preprocess_reviews(test.Phrase)"
   ]
  },
  {
   "cell_type": "code",
   "execution_count": 97,
   "metadata": {},
   "outputs": [
    {
     "data": {
      "text/plain": [
       "['a series of escapades demonstrating the adage that what is good for the goose is also good for the gander  some of which occasionally amuses but none of which amounts to much of a story ',\n",
       " 'a series of escapades demonstrating the adage that what is good for the goose',\n",
       " 'a series',\n",
       " 'a',\n",
       " 'series',\n",
       " 'of escapades demonstrating the adage that what is good for the goose',\n",
       " 'of',\n",
       " 'escapades demonstrating the adage that what is good for the goose',\n",
       " 'escapades',\n",
       " 'demonstrating the adage that what is good for the goose',\n",
       " 'demonstrating the adage',\n",
       " 'demonstrating',\n",
       " 'the adage',\n",
       " 'the',\n",
       " 'adage',\n",
       " 'that what is good for the goose',\n",
       " 'that',\n",
       " 'what is good for the goose',\n",
       " 'what',\n",
       " 'is good for the goose',\n",
       " 'is',\n",
       " 'good for the goose',\n",
       " 'good',\n",
       " 'for the goose',\n",
       " 'for',\n",
       " 'the goose',\n",
       " 'goose',\n",
       " 'is also good for the gander  some of which occasionally amuses but none of which amounts to much of a story ',\n",
       " 'is also good for the gander  some of which occasionally amuses but none of which amounts to much of a story',\n",
       " 'is also',\n",
       " 'also',\n",
       " 'good for the gander  some of which occasionally amuses but none of which amounts to much of a story',\n",
       " 'for the gander  some of which occasionally amuses but none of which amounts to much of a story',\n",
       " 'the gander  some of which occasionally amuses but none of which amounts to much of a story',\n",
       " 'the gander ',\n",
       " 'the gander',\n",
       " 'gander',\n",
       " '',\n",
       " 'some of which occasionally amuses but none of which amounts to much of a story',\n",
       " 'some of which',\n",
       " 'some',\n",
       " 'of which',\n",
       " 'which',\n",
       " 'occasionally amuses but none of which amounts to much of a story',\n",
       " 'occasionally',\n",
       " 'amuses but none of which amounts to much of a story',\n",
       " 'amuses',\n",
       " 'but none of which amounts to much of a story',\n",
       " 'but',\n",
       " 'none of which amounts to much of a story',\n",
       " 'none',\n",
       " 'of which amounts to much of a story',\n",
       " 'which amounts to much of a story',\n",
       " 'amounts to much of a story',\n",
       " 'amounts',\n",
       " 'to much of a story',\n",
       " 'to',\n",
       " 'much of a story',\n",
       " 'much',\n",
       " 'of a story',\n",
       " 'a story',\n",
       " 'story',\n",
       " '',\n",
       " 'this quiet  introspective and entertaining independent is worth seeking ',\n",
       " 'this quiet  introspective and entertaining independent',\n",
       " 'this',\n",
       " 'quiet  introspective and entertaining independent',\n",
       " 'quiet  introspective and entertaining',\n",
       " 'quiet',\n",
       " ' introspective and entertaining',\n",
       " 'introspective and entertaining',\n",
       " 'introspective and',\n",
       " 'introspective',\n",
       " 'and',\n",
       " 'entertaining',\n",
       " 'independent',\n",
       " 'is worth seeking ',\n",
       " 'is worth seeking',\n",
       " 'is worth',\n",
       " 'worth',\n",
       " 'seeking',\n",
       " 'even fans of ismail merchant s work  i suspect  would have a hard time sitting through this one ',\n",
       " 'even fans of ismail merchant s work',\n",
       " 'even fans',\n",
       " 'even',\n",
       " 'fans',\n",
       " 'of ismail merchant s work',\n",
       " 'ismail merchant s work',\n",
       " 'ismail merchant s',\n",
       " 'ismail',\n",
       " 'merchant s',\n",
       " 'merchant',\n",
       " 's',\n",
       " 'work',\n",
       " ' i suspect  would have a hard time sitting through this one ',\n",
       " ' i suspect ',\n",
       " 'i suspect ',\n",
       " 'i suspect',\n",
       " 'i',\n",
       " 'suspect',\n",
       " 'would have a hard time sitting through this one ',\n",
       " 'would have a hard time sitting through this one',\n",
       " 'would',\n",
       " 'have a hard time sitting through this one',\n",
       " 'have',\n",
       " 'a hard time sitting through this one',\n",
       " 'a hard time',\n",
       " 'hard time',\n",
       " 'hard',\n",
       " 'time',\n",
       " 'sitting through this one',\n",
       " 'sitting',\n",
       " 'through this one',\n",
       " 'through',\n",
       " 'this one',\n",
       " 'one',\n",
       " 'a positively thrilling combination of ethnography and all the intrigue  betrayal  deceit and murder of a shakespearean tragedy or a juicy soap opera ',\n",
       " 'a positively thrilling combination of ethnography and all the intrigue  betrayal  deceit and murder of a shakespearean tragedy or a juicy soap opera',\n",
       " 'a positively thrilling combination of ethnography and all the intrigue  betrayal  deceit and murder',\n",
       " 'a positively thrilling combination',\n",
       " 'positively thrilling combination',\n",
       " 'positively',\n",
       " 'thrilling combination',\n",
       " 'thrilling',\n",
       " 'combination',\n",
       " 'of ethnography and all the intrigue  betrayal  deceit and murder',\n",
       " 'ethnography and all the intrigue  betrayal  deceit and murder',\n",
       " 'ethnography and',\n",
       " 'ethnography',\n",
       " 'all the intrigue  betrayal  deceit and murder',\n",
       " 'all',\n",
       " 'the intrigue  betrayal  deceit and murder',\n",
       " 'intrigue  betrayal  deceit and murder',\n",
       " 'intrigue',\n",
       " ' betrayal  deceit and murder',\n",
       " 'betrayal  deceit and murder',\n",
       " 'betrayal',\n",
       " ' deceit and murder',\n",
       " 'deceit and murder',\n",
       " 'deceit and',\n",
       " 'deceit',\n",
       " 'murder',\n",
       " 'of a shakespearean tragedy or a juicy soap opera',\n",
       " 'a shakespearean tragedy or a juicy soap opera',\n",
       " 'a shakespearean tragedy or',\n",
       " 'a shakespearean tragedy',\n",
       " 'shakespearean tragedy',\n",
       " 'shakespearean',\n",
       " 'tragedy',\n",
       " 'or',\n",
       " 'a juicy soap opera',\n",
       " 'juicy soap opera',\n",
       " 'juicy',\n",
       " 'soap opera',\n",
       " 'soap',\n",
       " 'opera',\n",
       " 'aggressive self glorification and a manipulative whitewash ',\n",
       " 'aggressive self glorification and a manipulative whitewash',\n",
       " 'aggressive',\n",
       " 'self glorification and a manipulative whitewash',\n",
       " 'self glorification and',\n",
       " 'self glorification',\n",
       " 'a manipulative whitewash',\n",
       " 'manipulative whitewash',\n",
       " 'manipulative',\n",
       " 'whitewash',\n",
       " 'a comedy drama of nearly epic proportions rooted in a sincere performance by the title character undergoing midlife crisis ',\n",
       " 'a comedy drama of nearly epic proportions',\n",
       " 'a comedy drama',\n",
       " 'comedy drama',\n",
       " 'of nearly epic proportions',\n",
       " 'nearly epic proportions',\n",
       " 'nearly epic',\n",
       " 'nearly',\n",
       " 'epic',\n",
       " 'proportions',\n",
       " 'rooted in a sincere performance by the title character undergoing midlife crisis ',\n",
       " 'rooted in a sincere performance by the title character undergoing midlife crisis',\n",
       " 'rooted in a sincere performance',\n",
       " 'rooted',\n",
       " 'in a sincere performance',\n",
       " 'in',\n",
       " 'a sincere performance',\n",
       " 'sincere performance',\n",
       " 'sincere',\n",
       " 'performance',\n",
       " 'by the title character undergoing midlife crisis',\n",
       " 'by',\n",
       " 'the title character undergoing midlife crisis',\n",
       " 'the title character',\n",
       " 'title character',\n",
       " 'title',\n",
       " 'character',\n",
       " 'undergoing midlife crisis',\n",
       " 'undergoing',\n",
       " 'midlife crisis',\n",
       " 'midlife',\n",
       " 'crisis',\n",
       " 'narratively  trouble every day is a plodding mess ',\n",
       " 'narratively',\n",
       " ' trouble every day is a plodding mess ',\n",
       " 'trouble every day is a plodding mess ',\n",
       " 'trouble every day',\n",
       " 'trouble',\n",
       " 'every day',\n",
       " 'every',\n",
       " 'day',\n",
       " 'is a plodding mess ',\n",
       " 'is a plodding mess',\n",
       " 'a plodding mess',\n",
       " 'plodding mess',\n",
       " 'plodding',\n",
       " 'mess',\n",
       " 'the importance of being earnest  so thick with wit it plays like a reading from bartlett s familiar quotations',\n",
       " 'the importance',\n",
       " 'importance',\n",
       " 'of being earnest  so thick with wit it plays like a reading from bartlett s familiar quotations',\n",
       " 'being earnest  so thick with wit it plays like a reading from bartlett s familiar quotations',\n",
       " 'being',\n",
       " 'earnest  so thick with wit it plays like a reading from bartlett s familiar quotations',\n",
       " 'earnest ',\n",
       " 'earnest',\n",
       " 'so thick with wit it plays like a reading from bartlett s familiar quotations',\n",
       " 'so',\n",
       " 'thick with wit it plays like a reading from bartlett s familiar quotations',\n",
       " 'thick',\n",
       " 'with wit it plays like a reading from bartlett s familiar quotations',\n",
       " 'with',\n",
       " 'wit it plays like a reading from bartlett s familiar quotations',\n",
       " 'wit',\n",
       " 'it plays like a reading from bartlett s familiar quotations',\n",
       " 'it',\n",
       " 'plays like a reading from bartlett s familiar quotations',\n",
       " 'plays',\n",
       " 'like a reading from bartlett s familiar quotations',\n",
       " 'like',\n",
       " 'a reading from bartlett s familiar quotations',\n",
       " 'a reading',\n",
       " 'reading',\n",
       " 'from bartlett s familiar quotations',\n",
       " 'from',\n",
       " 'bartlett s familiar quotations',\n",
       " 'bartlett s',\n",
       " 'bartlett',\n",
       " 'familiar quotations',\n",
       " 'familiar',\n",
       " 'quotations',\n",
       " 'but it does nt leave you with much ',\n",
       " 'it does nt leave you with much ',\n",
       " 'does nt leave you with much ',\n",
       " 'does nt leave you with much',\n",
       " 'does nt',\n",
       " 'does',\n",
       " 'nt',\n",
       " 'leave you with much',\n",
       " 'leave you',\n",
       " 'leave',\n",
       " 'you',\n",
       " 'with much',\n",
       " 'you could hate it for the same reason ',\n",
       " 'could hate it for the same reason ',\n",
       " 'could hate it for the same reason',\n",
       " 'could',\n",
       " 'hate it for the same reason',\n",
       " 'hate it',\n",
       " 'hate',\n",
       " 'for the same reason',\n",
       " 'the same reason',\n",
       " 'same reason',\n",
       " 'same',\n",
       " 'reason',\n",
       " 'there s little to recommend snow dogs  unless one considers cliched dialogue and perverse escapism a source of high hilarity ',\n",
       " 'there',\n",
       " 's little to recommend snow dogs  unless one considers cliched dialogue and perverse escapism a source of high hilarity ',\n",
       " 's little to recommend snow dogs  unless one considers cliched dialogue and perverse escapism a source of high hilarity',\n",
       " 's little to recommend snow dogs ',\n",
       " 's little to recommend snow dogs',\n",
       " 'little to recommend snow dogs',\n",
       " 'little',\n",
       " 'to recommend snow dogs',\n",
       " 'recommend snow dogs',\n",
       " 'recommend',\n",
       " 'snow dogs',\n",
       " 'snow',\n",
       " 'dogs',\n",
       " 'unless one considers cliched dialogue and perverse escapism a source of high hilarity',\n",
       " 'unless',\n",
       " 'one considers cliched dialogue and perverse escapism a source of high hilarity',\n",
       " 'considers cliched dialogue and perverse escapism a source of high hilarity',\n",
       " 'considers',\n",
       " 'cliched dialogue and perverse escapism a source of high hilarity',\n",
       " 'cliched dialogue and perverse escapism',\n",
       " 'cliched dialogue and',\n",
       " 'cliched dialogue',\n",
       " 'cliched',\n",
       " 'dialogue',\n",
       " 'perverse escapism',\n",
       " 'perverse',\n",
       " 'escapism',\n",
       " 'a source of high hilarity',\n",
       " 'a source',\n",
       " 'source',\n",
       " 'of high hilarity',\n",
       " 'high hilarity',\n",
       " 'high',\n",
       " 'hilarity',\n",
       " 'kung pow is oedekerk s realization of his childhood dream to be in a martial arts flick  and proves that sometimes the dreams of youth should remain just that ',\n",
       " 'kung pow',\n",
       " 'kung',\n",
       " 'pow',\n",
       " 'is oedekerk s realization of his childhood dream to be in a martial arts flick  and proves that sometimes the dreams of youth should remain just that ',\n",
       " 'is oedekerk s realization of his childhood dream to be in a martial arts flick  and proves that sometimes the dreams of youth should remain just that',\n",
       " 'is oedekerk s realization of his childhood dream to be in a martial arts flick  and',\n",
       " 'is oedekerk s realization of his childhood dream to be in a martial arts flick ',\n",
       " 'is oedekerk s realization of his childhood dream to be in a martial arts flick',\n",
       " 'oedekerk s realization of his childhood dream to be in a martial arts flick',\n",
       " 'oedekerk s realization of his childhood dream',\n",
       " 'oedekerk s realization',\n",
       " 'oedekerk s',\n",
       " 'oedekerk',\n",
       " 'realization',\n",
       " 'of his childhood dream',\n",
       " 'his childhood dream',\n",
       " 'his',\n",
       " 'childhood dream',\n",
       " 'childhood',\n",
       " 'dream',\n",
       " 'to be in a martial arts flick',\n",
       " 'be in a martial arts flick',\n",
       " 'be',\n",
       " 'in a martial arts flick',\n",
       " 'a martial arts flick',\n",
       " 'martial arts flick',\n",
       " 'martial arts',\n",
       " 'flick',\n",
       " 'proves that sometimes the dreams of youth should remain just that',\n",
       " 'proves',\n",
       " 'that sometimes the dreams of youth should remain just that',\n",
       " 'sometimes the dreams of youth should remain just that',\n",
       " 'sometimes',\n",
       " 'the dreams of youth should remain just that',\n",
       " 'the dreams of youth',\n",
       " 'the dreams',\n",
       " 'dreams',\n",
       " 'of youth',\n",
       " 'youth',\n",
       " 'should remain just that',\n",
       " 'should',\n",
       " 'remain just that',\n",
       " 'remain',\n",
       " 'just that',\n",
       " 'just',\n",
       " 'the performances are an absolute joy ',\n",
       " 'the performances',\n",
       " 'performances',\n",
       " 'are an absolute joy ',\n",
       " 'are an absolute joy',\n",
       " 'are',\n",
       " 'an absolute joy',\n",
       " 'an',\n",
       " 'absolute joy',\n",
       " 'absolute',\n",
       " 'joy',\n",
       " 'fresnadillo has something serious to say about the ways in which extravagant chance can distort our perspective and throw us off the path of good sense ',\n",
       " 'fresnadillo',\n",
       " 'has something serious to say about the ways in which extravagant chance can distort our perspective and throw us off the path of good sense ',\n",
       " 'has something serious to say about the ways in which extravagant chance can distort our perspective and throw us off the path of good sense',\n",
       " 'has',\n",
       " 'something serious to say about the ways in which extravagant chance can distort our perspective and throw us off the path of good sense',\n",
       " 'something',\n",
       " 'serious to say about the ways in which extravagant chance can distort our perspective and throw us off the path of good sense',\n",
       " 'serious',\n",
       " 'to say about the ways in which extravagant chance can distort our perspective and throw us off the path of good sense',\n",
       " 'say about the ways in which extravagant chance can distort our perspective and throw us off the path of good sense',\n",
       " 'say',\n",
       " 'about the ways in which extravagant chance can distort our perspective and throw us off the path of good sense',\n",
       " 'about',\n",
       " 'the ways in which extravagant chance can distort our perspective and throw us off the path of good sense',\n",
       " 'the ways',\n",
       " 'ways',\n",
       " 'in which extravagant chance can distort our perspective and throw us off the path of good sense',\n",
       " 'in which',\n",
       " 'extravagant chance can distort our perspective and throw us off the path of good sense',\n",
       " 'extravagant chance',\n",
       " 'extravagant',\n",
       " 'chance',\n",
       " 'can distort our perspective and throw us off the path of good sense',\n",
       " 'can',\n",
       " 'distort our perspective and throw us off the path of good sense',\n",
       " 'distort our perspective and',\n",
       " 'distort our perspective',\n",
       " 'distort',\n",
       " 'our perspective',\n",
       " 'our',\n",
       " 'perspective',\n",
       " 'throw us off the path of good sense',\n",
       " 'throw us',\n",
       " 'throw',\n",
       " 'us',\n",
       " 'off the path of good sense',\n",
       " 'off',\n",
       " 'the path of good sense',\n",
       " 'the path',\n",
       " 'path',\n",
       " 'of good sense',\n",
       " 'good sense',\n",
       " 'sense',\n",
       " 'i still like moonlight mile  better judgment be damned ',\n",
       " 'still like moonlight mile  better judgment be damned ',\n",
       " 'still',\n",
       " 'like moonlight mile  better judgment be damned ',\n",
       " 'like moonlight mile  better judgment be damned',\n",
       " 'moonlight mile  better judgment be damned',\n",
       " 'moonlight mile  better judgment',\n",
       " 'moonlight',\n",
       " 'mile  better judgment',\n",
       " 'mile',\n",
       " ' better judgment',\n",
       " 'better judgment',\n",
       " 'better',\n",
       " 'judgment',\n",
       " 'be damned',\n",
       " 'damned',\n",
       " 'a welcome relief from baseball movies that try too hard to be mythic  this one is a sweet and modest and ultimately winning story ',\n",
       " 'a welcome relief from baseball movies that try too hard to be mythic',\n",
       " 'a welcome relief',\n",
       " 'welcome relief',\n",
       " 'welcome',\n",
       " 'relief',\n",
       " 'from baseball movies that try too hard to be mythic',\n",
       " 'baseball movies that try too hard to be mythic',\n",
       " 'baseball movies',\n",
       " 'baseball',\n",
       " 'movies',\n",
       " 'that try too hard to be mythic',\n",
       " 'try too hard to be mythic',\n",
       " 'try',\n",
       " 'too hard to be mythic',\n",
       " 'too',\n",
       " 'hard to be mythic',\n",
       " 'to be mythic',\n",
       " 'be mythic',\n",
       " 'mythic',\n",
       " ' this one is a sweet and modest and ultimately winning story ',\n",
       " 'this one is a sweet and modest and ultimately winning story ',\n",
       " 'is a sweet and modest and ultimately winning story ',\n",
       " 'is a sweet and modest and ultimately winning story',\n",
       " 'a sweet and modest and ultimately winning story',\n",
       " 'a sweet and modest and',\n",
       " 'a sweet and modest',\n",
       " 'sweet and modest',\n",
       " 'sweet and',\n",
       " 'sweet',\n",
       " 'modest',\n",
       " 'ultimately winning story',\n",
       " 'ultimately',\n",
       " 'winning story',\n",
       " 'winning',\n",
       " 'a bilingual charmer  just like the woman who inspired it',\n",
       " 'a bilingual charmer ',\n",
       " 'a bilingual charmer',\n",
       " 'bilingual charmer',\n",
       " 'bilingual',\n",
       " 'charmer',\n",
       " 'just like the woman who inspired it',\n",
       " 'like the woman who inspired it',\n",
       " 'the woman who inspired it',\n",
       " 'the woman',\n",
       " 'woman',\n",
       " 'who inspired it',\n",
       " 'who',\n",
       " 'inspired it',\n",
       " 'inspired',\n",
       " 'like a less dizzily gorgeous companion to mr wong s in the mood for love    very much a hong kong movie despite its mainland setting ',\n",
       " 'like a less dizzily gorgeous companion to mr',\n",
       " 'a less dizzily gorgeous companion to mr',\n",
       " 'a less dizzily gorgeous companion',\n",
       " 'less dizzily gorgeous companion',\n",
       " 'less dizzily gorgeous',\n",
       " 'less',\n",
       " 'dizzily gorgeous',\n",
       " 'dizzily',\n",
       " 'gorgeous',\n",
       " 'companion',\n",
       " 'to mr',\n",
       " 'mr',\n",
       " 'wong s in the mood for love    very much a hong kong movie despite its mainland setting ',\n",
       " 'wong',\n",
       " 's in the mood for love    very much a hong kong movie despite its mainland setting ',\n",
       " 's in the mood for love    very much a hong kong movie despite its mainland setting',\n",
       " 's in the mood for love    very much a hong kong movie',\n",
       " 'in the mood for love    very much a hong kong movie',\n",
       " 'the mood for love    very much a hong kong movie',\n",
       " 'the mood',\n",
       " 'mood',\n",
       " 'for love    very much a hong kong movie',\n",
       " 'love    very much a hong kong movie',\n",
       " 'love    very much',\n",
       " 'love   ',\n",
       " 'love',\n",
       " '  ',\n",
       " 'very much',\n",
       " 'very',\n",
       " 'a hong kong movie',\n",
       " 'hong kong movie',\n",
       " 'hong',\n",
       " 'kong movie',\n",
       " 'kong',\n",
       " 'movie',\n",
       " 'despite its mainland setting',\n",
       " 'despite',\n",
       " 'its mainland setting',\n",
       " 'its',\n",
       " 'mainland setting',\n",
       " 'mainland',\n",
       " 'setting',\n",
       " 'as inept as big screen remakes of the avengers and the wild wild west ',\n",
       " 'as inept as big screen remakes of the avengers and the wild wild west',\n",
       " 'as inept',\n",
       " 'as',\n",
       " 'inept',\n",
       " 'as big screen remakes of the avengers and the wild wild west',\n",
       " 'big screen remakes of the avengers and the wild wild west',\n",
       " 'big screen remakes',\n",
       " 'big screen',\n",
       " 'remakes',\n",
       " 'of the avengers and the wild wild west',\n",
       " 'the avengers and the wild wild west',\n",
       " 'the avengers and',\n",
       " 'the avengers',\n",
       " 'avengers',\n",
       " 'the wild wild west',\n",
       " 'wild wild west',\n",
       " 'wild',\n",
       " 'wild west',\n",
       " 'west',\n",
       " 'it s everything you d expect    but nothing more ',\n",
       " 's everything you d expect    but nothing more ',\n",
       " 's everything you d expect    but nothing more',\n",
       " 'everything you d expect    but nothing more',\n",
       " 'everything',\n",
       " 'you d expect    but nothing more',\n",
       " 'd expect    but nothing more',\n",
       " 'd',\n",
       " 'expect    but nothing more',\n",
       " 'expect    but nothing',\n",
       " 'expect   ',\n",
       " 'expect',\n",
       " 'but nothing',\n",
       " 'nothing',\n",
       " 'more',\n",
       " 'best indie of the year  so far ',\n",
       " 'best',\n",
       " 'indie of the year  so far ',\n",
       " 'indie of the year  so far',\n",
       " 'indie of the year ',\n",
       " 'indie of the year',\n",
       " 'indie',\n",
       " 'of the year',\n",
       " 'the year',\n",
       " 'year',\n",
       " 'so far',\n",
       " 'far',\n",
       " 'hatfield and hicks make the oddest of couples  and in this sense the movie becomes a study of the gambles of the publishing world  offering a case study that exists apart from all the movie s political ramifications ',\n",
       " 'hatfield and hicks make the oddest of couples  and in this sense the movie becomes a study of the gambles of the publishing world  offering a case study that exists apart from all the movie s political ramifications',\n",
       " 'hatfield and hicks make the oddest of couples  and',\n",
       " 'hatfield and hicks make the oddest of couples ',\n",
       " 'hatfield and hicks make the oddest of couples',\n",
       " 'hatfield and hicks',\n",
       " 'hatfield and',\n",
       " 'hatfield',\n",
       " 'hicks',\n",
       " 'make the oddest of couples',\n",
       " 'make',\n",
       " 'the oddest of couples',\n",
       " 'the oddest',\n",
       " 'oddest',\n",
       " 'of couples',\n",
       " 'couples',\n",
       " 'in this sense the movie becomes a study of the gambles of the publishing world  offering a case study that exists apart from all the movie s political ramifications',\n",
       " 'in this sense',\n",
       " 'this sense',\n",
       " 'the movie becomes a study of the gambles of the publishing world  offering a case study that exists apart from all the movie s political ramifications',\n",
       " 'the movie',\n",
       " 'becomes a study of the gambles of the publishing world  offering a case study that exists apart from all the movie s political ramifications',\n",
       " 'becomes a study of the gambles of the publishing world ',\n",
       " 'becomes a study of the gambles of the publishing world',\n",
       " 'becomes',\n",
       " 'a study of the gambles of the publishing world',\n",
       " 'a study',\n",
       " 'study',\n",
       " 'of the gambles of the publishing world',\n",
       " 'the gambles of the publishing world',\n",
       " 'the gambles',\n",
       " 'gambles',\n",
       " 'of the publishing world',\n",
       " 'the publishing world',\n",
       " 'publishing world',\n",
       " 'publishing',\n",
       " 'world',\n",
       " 'offering a case study that exists apart from all the movie s political ramifications',\n",
       " 'offering',\n",
       " 'a case study that exists apart from all the movie s political ramifications',\n",
       " 'a case study',\n",
       " 'case study',\n",
       " 'case',\n",
       " 'that exists apart from all the movie s political ramifications',\n",
       " 'exists apart from all the movie s political ramifications',\n",
       " 'exists apart',\n",
       " 'exists',\n",
       " 'apart',\n",
       " 'from all the movie s political ramifications',\n",
       " 'all the movie s political ramifications',\n",
       " 'the movie s political ramifications',\n",
       " 'the movie s',\n",
       " 'movie s',\n",
       " 'political ramifications',\n",
       " 'political',\n",
       " 'ramifications',\n",
       " 'it s like going to a house party and watching the host defend himself against a frothing ex girlfriend ',\n",
       " 's like going to a house party and watching the host defend himself against a frothing ex girlfriend ',\n",
       " 's like going to a house party and watching the host defend himself against a frothing ex girlfriend',\n",
       " 'like going to a house party and watching the host defend himself against a frothing ex girlfriend',\n",
       " 'going to a house party and watching the host defend himself against a frothing ex girlfriend',\n",
       " 'going to a house party and',\n",
       " 'going to a house party',\n",
       " 'going',\n",
       " 'to a house party',\n",
       " 'a house party',\n",
       " 'house party',\n",
       " 'house',\n",
       " 'party',\n",
       " 'watching the host defend himself against a frothing ex girlfriend',\n",
       " 'watching',\n",
       " 'the host defend himself against a frothing ex girlfriend',\n",
       " 'the host',\n",
       " 'host',\n",
       " 'defend himself against a frothing ex girlfriend',\n",
       " 'defend himself',\n",
       " 'defend',\n",
       " 'himself',\n",
       " 'against a frothing ex girlfriend',\n",
       " 'against',\n",
       " 'a frothing ex girlfriend',\n",
       " 'frothing ex girlfriend',\n",
       " 'frothing',\n",
       " 'ex girlfriend',\n",
       " 'that the chuck norris `` grenade gag  occurs about 7 times during windtalkers is a good indication of how serious minded the film is ',\n",
       " 'that the chuck norris `` grenade gag ',\n",
       " 'the chuck norris `` grenade gag ',\n",
       " 'chuck norris `` grenade gag ',\n",
       " 'chuck',\n",
       " 'norris `` grenade gag ',\n",
       " 'norris',\n",
       " '`` grenade gag ',\n",
       " '``',\n",
       " 'grenade gag ',\n",
       " 'grenade',\n",
       " 'gag ',\n",
       " 'gag',\n",
       " '',\n",
       " 'occurs about 7 times during windtalkers is a good indication of how serious minded the film is ',\n",
       " 'occurs about 7 times during windtalkers is a good indication of how serious minded the film is',\n",
       " 'occurs',\n",
       " 'about 7 times during windtalkers is a good indication of how serious minded the film is',\n",
       " 'about 7 times during windtalkers',\n",
       " 'about 7 times',\n",
       " '7 times',\n",
       " '7',\n",
       " 'times',\n",
       " 'during windtalkers',\n",
       " 'during',\n",
       " 'windtalkers',\n",
       " 'is a good indication of how serious minded the film is',\n",
       " 'a good indication of how serious minded the film is',\n",
       " 'a good indication',\n",
       " 'good indication',\n",
       " 'indication',\n",
       " 'of how serious minded the film is',\n",
       " 'how serious minded the film is',\n",
       " 'how',\n",
       " 'serious minded the film is',\n",
       " 'serious minded the film',\n",
       " 'serious minded',\n",
       " 'the film',\n",
       " 'film',\n",
       " 'the plot is romantic comedy boilerplate from start to finish ',\n",
       " 'the plot',\n",
       " 'plot',\n",
       " 'is romantic comedy boilerplate from start to finish ',\n",
       " 'is romantic comedy boilerplate from start to finish',\n",
       " 'romantic comedy boilerplate from start to finish',\n",
       " 'romantic comedy boilerplate from start',\n",
       " 'romantic comedy boilerplate',\n",
       " 'romantic',\n",
       " 'comedy boilerplate',\n",
       " 'comedy',\n",
       " 'boilerplate',\n",
       " 'from start',\n",
       " 'start',\n",
       " 'to finish',\n",
       " 'finish',\n",
       " 'it arrives with an impeccable pedigree  mongrel pep  and almost indecipherable plot complications ',\n",
       " 'arrives with an impeccable pedigree  mongrel pep  and almost indecipherable plot complications ',\n",
       " 'arrives with an impeccable pedigree  mongrel pep  and almost indecipherable plot complications',\n",
       " 'arrives',\n",
       " 'with an impeccable pedigree  mongrel pep  and almost indecipherable plot complications',\n",
       " 'an impeccable pedigree  mongrel pep  and almost indecipherable plot complications',\n",
       " 'an impeccable pedigree  mongrel pep  and almost',\n",
       " 'an impeccable pedigree  mongrel pep  and',\n",
       " 'an impeccable pedigree  mongrel pep ',\n",
       " 'an impeccable pedigree  mongrel pep',\n",
       " 'impeccable pedigree  mongrel pep',\n",
       " 'impeccable',\n",
       " 'pedigree  mongrel pep',\n",
       " 'pedigree',\n",
       " ' mongrel pep',\n",
       " 'mongrel pep',\n",
       " 'mongrel',\n",
       " 'pep',\n",
       " 'almost',\n",
       " 'indecipherable plot complications',\n",
       " 'indecipherable',\n",
       " 'plot complications',\n",
       " 'complications',\n",
       " 'a film that clearly means to preach exclusively to the converted ',\n",
       " 'a film that clearly means to',\n",
       " 'a film',\n",
       " 'that clearly means to',\n",
       " 'clearly means to',\n",
       " 'clearly',\n",
       " 'means to',\n",
       " 'means',\n",
       " 'preach exclusively to the converted ',\n",
       " 'preach exclusively to the converted',\n",
       " 'preach exclusively',\n",
       " 'preach',\n",
       " 'exclusively',\n",
       " 'to the converted',\n",
       " 'the converted',\n",
       " 'converted',\n",
       " 'while the importance of being earnest offers opportunities for occasional smiles and chuckles  it does nt give us a reason to be in the theater beyond wilde s wit and the actors  performances ',\n",
       " 'while the importance of being earnest offers opportunities for occasional smiles and chuckles',\n",
       " 'while',\n",
       " 'the importance of being earnest offers opportunities for occasional smiles and chuckles',\n",
       " 'the importance of being earnest',\n",
       " 'of being earnest',\n",
       " 'being earnest',\n",
       " 'offers opportunities for occasional smiles and chuckles',\n",
       " 'offers opportunities for occasional smiles and',\n",
       " 'offers opportunities for occasional smiles',\n",
       " 'offers',\n",
       " 'opportunities for occasional smiles',\n",
       " 'opportunities',\n",
       " 'for occasional smiles',\n",
       " 'occasional smiles',\n",
       " 'occasional',\n",
       " 'smiles',\n",
       " 'chuckles',\n",
       " ' it does nt give us a reason to be in the theater beyond wilde s wit and the actors  performances ',\n",
       " 'it does nt give us a reason to be in the theater beyond wilde s wit and the actors  performances ',\n",
       " 'does nt give us a reason to be in the theater beyond wilde s wit and the actors  performances ',\n",
       " 'does nt give us a reason to be in the theater beyond wilde s wit and the actors  performances',\n",
       " 'give us a reason to be in the theater beyond wilde s wit and the actors  performances',\n",
       " 'give us',\n",
       " 'give',\n",
       " 'a reason to be in the theater beyond wilde s wit and the actors  performances',\n",
       " 'reason to be in the theater beyond wilde s wit and the actors  performances',\n",
       " 'to be in the theater beyond wilde s wit and the actors  performances',\n",
       " 'be in the theater beyond wilde s wit and the actors  performances',\n",
       " 'be in the theater',\n",
       " 'in the theater',\n",
       " 'the theater',\n",
       " 'theater',\n",
       " 'beyond wilde s wit and the actors  performances',\n",
       " 'beyond',\n",
       " 'wilde s wit and the actors  performances',\n",
       " 'wilde s wit and',\n",
       " 'wilde s wit',\n",
       " 'wilde s',\n",
       " 'wilde',\n",
       " 'the actors  performances',\n",
       " 'the actors ',\n",
       " 'actors ',\n",
       " 'actors',\n",
       " '',\n",
       " 'the latest vapid actor s exercise to appropriate the structure of arthur schnitzler s reigen ',\n",
       " 'the latest',\n",
       " 'latest',\n",
       " 'vapid actor s exercise to appropriate the structure of arthur schnitzler s reigen ',\n",
       " 'vapid actor s exercise to appropriate the structure of arthur schnitzler s reigen',\n",
       " 'vapid actor s exercise',\n",
       " 'vapid',\n",
       " 'actor s exercise',\n",
       " 'actor s',\n",
       " 'actor',\n",
       " 'exercise',\n",
       " 'to appropriate the structure of arthur schnitzler s reigen',\n",
       " 'appropriate the structure of arthur schnitzler s reigen',\n",
       " 'appropriate the structure',\n",
       " 'appropriate',\n",
       " 'the structure',\n",
       " 'structure',\n",
       " 'of arthur schnitzler s reigen',\n",
       " 'arthur schnitzler s reigen',\n",
       " 'arthur schnitzler s',\n",
       " 'arthur',\n",
       " 'schnitzler s',\n",
       " 'schnitzler',\n",
       " 'reigen',\n",
       " 'more vaudeville show than well constructed narrative  but on those terms it s inoffensive and actually rather sweet ',\n",
       " 'more vaudeville show than well constructed narrative  but on those terms it s inoffensive and actually rather sweet',\n",
       " 'more vaudeville show than well constructed narrative  but',\n",
       " 'more vaudeville show than well constructed narrative ',\n",
       " 'more vaudeville show than well constructed narrative',\n",
       " 'more vaudeville',\n",
       " 'vaudeville',\n",
       " 'show than well constructed narrative',\n",
       " 'show',\n",
       " 'than well constructed narrative',\n",
       " 'than',\n",
       " 'well constructed narrative',\n",
       " 'well constructed',\n",
       " 'narrative',\n",
       " 'on those terms it s inoffensive and actually rather sweet',\n",
       " 'on those terms',\n",
       " 'on',\n",
       " 'those terms',\n",
       " 'those',\n",
       " 'terms',\n",
       " 'it s inoffensive and actually rather sweet',\n",
       " 's inoffensive and actually rather sweet',\n",
       " 'inoffensive and actually rather sweet',\n",
       " 'inoffensive and actually',\n",
       " 'inoffensive and',\n",
       " 'inoffensive',\n",
       " 'actually',\n",
       " 'rather sweet',\n",
       " 'rather',\n",
       " 'nothing more than a run of the mill action flick ',\n",
       " 'more than a run of the mill action flick ',\n",
       " 'more than a run of the mill action',\n",
       " 'than a run of the mill action',\n",
       " 'a run of the mill action',\n",
       " 'run of the mill action',\n",
       " 'run of the mill',\n",
       " 'action',\n",
       " 'flick ',\n",
       " 'hampered    no  paralyzed    by a self indulgent script  that aims for poetry and ends up sounding like satire ',\n",
       " 'hampered    no  paralyzed    by a self indulgent script  that aims for poetry and ends up sounding like satire',\n",
       " 'hampered    no  paralyzed    by a self indulgent script ',\n",
       " 'hampered    no  paralyzed    by a self indulgent script',\n",
       " 'hampered    no  paralyzed   ',\n",
       " 'hampered',\n",
       " '   no  paralyzed   ',\n",
       " 'no  paralyzed   ',\n",
       " 'no  paralyzed',\n",
       " 'no',\n",
       " ' paralyzed',\n",
       " 'paralyzed',\n",
       " 'by a self indulgent script',\n",
       " 'a self indulgent script',\n",
       " 'self indulgent script',\n",
       " 'self indulgent',\n",
       " 'script',\n",
       " '',\n",
       " 'that aims for poetry and ends up sounding like satire',\n",
       " 'aims for poetry and ends up sounding like satire',\n",
       " 'aims for poetry and',\n",
       " 'aims for poetry',\n",
       " 'aims',\n",
       " 'for poetry',\n",
       " 'poetry',\n",
       " 'ends up sounding like satire',\n",
       " 'ends up',\n",
       " 'ends',\n",
       " 'up',\n",
       " 'sounding like satire',\n",
       " 'sounding',\n",
       " 'like satire',\n",
       " 'satire',\n",
       " 'ice age is the first computer generated feature cartoon to feel like other movies  and that makes for some glacial pacing early on ',\n",
       " 'ice age is the first computer generated feature cartoon to feel like other movies  and that makes for some glacial pacing early on',\n",
       " 'ice age is the first computer generated feature cartoon to feel like other movies  and',\n",
       " 'ice age is the first computer generated feature cartoon to feel like other movies ',\n",
       " 'ice age is the first computer generated feature cartoon to feel like other movies',\n",
       " 'ice age',\n",
       " 'ice',\n",
       " 'age',\n",
       " 'is the first computer generated feature cartoon to feel like other movies',\n",
       " 'the first computer generated feature cartoon to feel like other movies',\n",
       " 'the first computer generated feature cartoon',\n",
       " 'first computer generated feature cartoon',\n",
       " 'first',\n",
       " 'computer generated feature cartoon',\n",
       " 'computer generated',\n",
       " 'feature cartoon',\n",
       " 'feature',\n",
       " 'cartoon',\n",
       " 'to feel like other movies',\n",
       " 'feel like other movies',\n",
       " 'feel',\n",
       " 'like other movies',\n",
       " 'other movies',\n",
       " 'other',\n",
       " 'that makes for some glacial pacing early on',\n",
       " 'makes for some glacial pacing early on',\n",
       " 'makes for some glacial pacing',\n",
       " 'makes',\n",
       " 'for some glacial pacing',\n",
       " 'some glacial pacing',\n",
       " 'glacial pacing',\n",
       " 'glacial',\n",
       " 'pacing',\n",
       " 'early on',\n",
       " 'early',\n",
       " 'there s very little sense to what s going on here  but the makers serve up the cliches with considerable dash ',\n",
       " 'there s very little sense to what s going on here  but the makers serve up the cliches with considerable dash',\n",
       " 'there s very little sense to what s going on here  but',\n",
       " 'there s very little sense to what s going on here ',\n",
       " 'there s very little sense to what s going on here',\n",
       " 's very little sense to what s going on here',\n",
       " 'very little sense to what s going on here',\n",
       " 'very little sense',\n",
       " 'very little',\n",
       " 'to what s going on here',\n",
       " 'what s going on here',\n",
       " 's going on here',\n",
       " 'going on here',\n",
       " 'going on',\n",
       " 'here',\n",
       " 'the makers serve up the cliches with considerable dash',\n",
       " 'the makers',\n",
       " 'makers',\n",
       " 'serve up the cliches with considerable dash',\n",
       " 'serve up',\n",
       " 'serve',\n",
       " 'the cliches with considerable dash',\n",
       " 'the cliches',\n",
       " 'cliches',\n",
       " 'with considerable dash',\n",
       " 'considerable dash',\n",
       " 'considerable',\n",
       " 'dash',\n",
       " 'cattaneo should have followed the runaway success of his first film  the full monty  with something different ',\n",
       " 'cattaneo',\n",
       " 'should have followed the runaway success of his first film  the full monty  with something different ',\n",
       " 'should have followed the runaway success of his first film  the full monty  with something different',\n",
       " 'have followed the runaway success of his first film  the full monty  with something different',\n",
       " 'followed the runaway success of his first film  the full monty  with something different',\n",
       " 'followed the runaway success of his first film  the full monty ',\n",
       " 'followed',\n",
       " 'the runaway success of his first film  the full monty ',\n",
       " 'the runaway success',\n",
       " 'runaway success',\n",
       " 'runaway',\n",
       " 'success',\n",
       " 'of his first film  the full monty ',\n",
       " 'his first film  the full monty ',\n",
       " 'his first film  the full monty',\n",
       " 'his first film ',\n",
       " 'his first film',\n",
       " 'first film',\n",
       " 'the full monty',\n",
       " 'full monty',\n",
       " 'full',\n",
       " 'monty',\n",
       " 'with something different',\n",
       " 'something different',\n",
       " 'different',\n",
       " 'they re the unnamed  easily substitutable forces that serve as whatever terror the heroes of horror movies try to avoid ',\n",
       " 'they',\n",
       " 're the unnamed  easily substitutable forces that serve as whatever terror the heroes of horror movies try to avoid ',\n",
       " 're the unnamed  easily substitutable forces that serve as whatever terror the heroes of horror movies try to avoid',\n",
       " 're',\n",
       " 'the unnamed  easily substitutable forces that serve as whatever terror the heroes of horror movies try to avoid',\n",
       " 'the unnamed  easily substitutable forces',\n",
       " 'unnamed  easily substitutable forces',\n",
       " 'unnamed  easily substitutable',\n",
       " 'unnamed',\n",
       " ' easily substitutable',\n",
       " 'easily substitutable',\n",
       " 'easily',\n",
       " 'substitutable',\n",
       " 'forces',\n",
       " 'that serve as whatever terror the heroes of horror movies try to avoid',\n",
       " 'serve as whatever terror the heroes of horror movies try to avoid',\n",
       " 'as whatever terror the heroes of horror movies try to avoid',\n",
       " 'whatever terror the heroes of horror movies try to avoid',\n",
       " 'whatever',\n",
       " 'terror the heroes of horror movies try to avoid',\n",
       " 'terror',\n",
       " 'the heroes of horror movies try to avoid',\n",
       " 'the heroes of horror movies',\n",
       " 'the heroes',\n",
       " 'heroes',\n",
       " 'of horror movies',\n",
       " 'horror movies',\n",
       " 'horror',\n",
       " 'try to avoid',\n",
       " ...]"
      ]
     },
     "execution_count": 97,
     "metadata": {},
     "output_type": "execute_result"
    }
   ],
   "source": [
    "train_clean"
   ]
  },
  {
   "cell_type": "code",
   "execution_count": null,
   "metadata": {},
   "outputs": [],
   "source": []
  }
 ],
 "metadata": {
  "kernelspec": {
   "display_name": "Python 3",
   "language": "python",
   "name": "python3"
  },
  "language_info": {
   "codemirror_mode": {
    "name": "ipython",
    "version": 3
   },
   "file_extension": ".py",
   "mimetype": "text/x-python",
   "name": "python",
   "nbconvert_exporter": "python",
   "pygments_lexer": "ipython3",
   "version": "3.6.4"
  }
 },
 "nbformat": 4,
 "nbformat_minor": 2
}
